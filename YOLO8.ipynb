{
 "cells": [
  {
   "cell_type": "code",
   "execution_count": 1,
   "metadata": {},
   "outputs": [
    {
     "name": "stdout",
     "output_type": "stream",
     "text": [
      "Requirement already satisfied: ultralytics in c:\\users\\genius\\appdata\\local\\programs\\python\\python312\\lib\\site-packages (8.3.31)\n",
      "Requirement already satisfied: numpy>=1.23.0 in c:\\users\\genius\\appdata\\local\\programs\\python\\python312\\lib\\site-packages (from ultralytics) (1.26.3)\n",
      "Requirement already satisfied: matplotlib>=3.3.0 in c:\\users\\genius\\appdata\\local\\programs\\python\\python312\\lib\\site-packages (from ultralytics) (3.8.2)\n",
      "Requirement already satisfied: opencv-python>=4.6.0 in c:\\users\\genius\\appdata\\local\\programs\\python\\python312\\lib\\site-packages (from ultralytics) (4.10.0.84)\n",
      "Requirement already satisfied: pillow>=7.1.2 in c:\\users\\genius\\appdata\\local\\programs\\python\\python312\\lib\\site-packages (from ultralytics) (10.2.0)\n",
      "Requirement already satisfied: pyyaml>=5.3.1 in c:\\users\\genius\\appdata\\local\\programs\\python\\python312\\lib\\site-packages (from ultralytics) (6.0.1)\n",
      "Requirement already satisfied: requests>=2.23.0 in c:\\users\\genius\\appdata\\local\\programs\\python\\python312\\lib\\site-packages (from ultralytics) (2.31.0)\n",
      "Requirement already satisfied: scipy>=1.4.1 in c:\\users\\genius\\appdata\\local\\programs\\python\\python312\\lib\\site-packages (from ultralytics) (1.12.0)\n",
      "Requirement already satisfied: torch>=1.8.0 in c:\\users\\genius\\appdata\\local\\programs\\python\\python312\\lib\\site-packages (from ultralytics) (2.5.1)\n",
      "Requirement already satisfied: torchvision>=0.9.0 in c:\\users\\genius\\appdata\\local\\programs\\python\\python312\\lib\\site-packages (from ultralytics) (0.20.1)\n",
      "Requirement already satisfied: tqdm>=4.64.0 in c:\\users\\genius\\appdata\\local\\programs\\python\\python312\\lib\\site-packages (from ultralytics) (4.67.0)\n",
      "Requirement already satisfied: psutil in c:\\users\\genius\\appdata\\local\\programs\\python\\python312\\lib\\site-packages (from ultralytics) (5.9.8)\n",
      "Requirement already satisfied: py-cpuinfo in c:\\users\\genius\\appdata\\local\\programs\\python\\python312\\lib\\site-packages (from ultralytics) (9.0.0)\n",
      "Requirement already satisfied: pandas>=1.1.4 in c:\\users\\genius\\appdata\\local\\programs\\python\\python312\\lib\\site-packages (from ultralytics) (2.2.0)\n",
      "Requirement already satisfied: seaborn>=0.11.0 in c:\\users\\genius\\appdata\\local\\programs\\python\\python312\\lib\\site-packages (from ultralytics) (0.13.2)\n",
      "Requirement already satisfied: ultralytics-thop>=2.0.0 in c:\\users\\genius\\appdata\\local\\programs\\python\\python312\\lib\\site-packages (from ultralytics) (2.0.11)\n",
      "Requirement already satisfied: contourpy>=1.0.1 in c:\\users\\genius\\appdata\\local\\programs\\python\\python312\\lib\\site-packages (from matplotlib>=3.3.0->ultralytics) (1.2.0)\n",
      "Requirement already satisfied: cycler>=0.10 in c:\\users\\genius\\appdata\\local\\programs\\python\\python312\\lib\\site-packages (from matplotlib>=3.3.0->ultralytics) (0.12.1)\n",
      "Requirement already satisfied: fonttools>=4.22.0 in c:\\users\\genius\\appdata\\local\\programs\\python\\python312\\lib\\site-packages (from matplotlib>=3.3.0->ultralytics) (4.48.1)\n",
      "Requirement already satisfied: kiwisolver>=1.3.1 in c:\\users\\genius\\appdata\\local\\programs\\python\\python312\\lib\\site-packages (from matplotlib>=3.3.0->ultralytics) (1.4.5)\n",
      "Requirement already satisfied: packaging>=20.0 in c:\\users\\genius\\appdata\\local\\programs\\python\\python312\\lib\\site-packages (from matplotlib>=3.3.0->ultralytics) (23.2)\n",
      "Requirement already satisfied: pyparsing>=2.3.1 in c:\\users\\genius\\appdata\\local\\programs\\python\\python312\\lib\\site-packages (from matplotlib>=3.3.0->ultralytics) (3.1.1)\n",
      "Requirement already satisfied: python-dateutil>=2.7 in c:\\users\\genius\\appdata\\local\\programs\\python\\python312\\lib\\site-packages (from matplotlib>=3.3.0->ultralytics) (2.8.2)\n",
      "Requirement already satisfied: pytz>=2020.1 in c:\\users\\genius\\appdata\\local\\programs\\python\\python312\\lib\\site-packages (from pandas>=1.1.4->ultralytics) (2023.3.post1)\n",
      "Requirement already satisfied: tzdata>=2022.7 in c:\\users\\genius\\appdata\\local\\programs\\python\\python312\\lib\\site-packages (from pandas>=1.1.4->ultralytics) (2023.4)\n",
      "Requirement already satisfied: charset-normalizer<4,>=2 in c:\\users\\genius\\appdata\\local\\programs\\python\\python312\\lib\\site-packages (from requests>=2.23.0->ultralytics) (3.3.2)\n",
      "Requirement already satisfied: idna<4,>=2.5 in c:\\users\\genius\\appdata\\local\\programs\\python\\python312\\lib\\site-packages (from requests>=2.23.0->ultralytics) (3.6)\n",
      "Requirement already satisfied: urllib3<3,>=1.21.1 in c:\\users\\genius\\appdata\\local\\programs\\python\\python312\\lib\\site-packages (from requests>=2.23.0->ultralytics) (2.1.0)\n",
      "Requirement already satisfied: certifi>=2017.4.17 in c:\\users\\genius\\appdata\\local\\programs\\python\\python312\\lib\\site-packages (from requests>=2.23.0->ultralytics) (2023.11.17)\n",
      "Requirement already satisfied: filelock in c:\\users\\genius\\appdata\\local\\programs\\python\\python312\\lib\\site-packages (from torch>=1.8.0->ultralytics) (3.16.1)\n",
      "Requirement already satisfied: typing-extensions>=4.8.0 in c:\\users\\genius\\appdata\\local\\programs\\python\\python312\\lib\\site-packages (from torch>=1.8.0->ultralytics) (4.12.2)\n",
      "Requirement already satisfied: networkx in c:\\users\\genius\\appdata\\local\\programs\\python\\python312\\lib\\site-packages (from torch>=1.8.0->ultralytics) (3.4.2)\n",
      "Requirement already satisfied: jinja2 in c:\\users\\genius\\appdata\\local\\programs\\python\\python312\\lib\\site-packages (from torch>=1.8.0->ultralytics) (3.1.3)\n",
      "Requirement already satisfied: fsspec in c:\\users\\genius\\appdata\\local\\programs\\python\\python312\\lib\\site-packages (from torch>=1.8.0->ultralytics) (2023.12.2)\n",
      "Requirement already satisfied: setuptools in c:\\users\\genius\\appdata\\local\\programs\\python\\python312\\lib\\site-packages (from torch>=1.8.0->ultralytics) (75.1.0)\n",
      "Requirement already satisfied: sympy==1.13.1 in c:\\users\\genius\\appdata\\local\\programs\\python\\python312\\lib\\site-packages (from torch>=1.8.0->ultralytics) (1.13.1)\n",
      "Requirement already satisfied: mpmath<1.4,>=1.1.0 in c:\\users\\genius\\appdata\\local\\programs\\python\\python312\\lib\\site-packages (from sympy==1.13.1->torch>=1.8.0->ultralytics) (1.3.0)\n",
      "Requirement already satisfied: colorama in c:\\users\\genius\\appdata\\local\\programs\\python\\python312\\lib\\site-packages (from tqdm>=4.64.0->ultralytics) (0.4.6)\n",
      "Requirement already satisfied: six>=1.5 in c:\\users\\genius\\appdata\\local\\programs\\python\\python312\\lib\\site-packages (from python-dateutil>=2.7->matplotlib>=3.3.0->ultralytics) (1.16.0)\n",
      "Requirement already satisfied: MarkupSafe>=2.0 in c:\\users\\genius\\appdata\\local\\programs\\python\\python312\\lib\\site-packages (from jinja2->torch>=1.8.0->ultralytics) (2.1.4)\n"
     ]
    },
    {
     "name": "stderr",
     "output_type": "stream",
     "text": [
      "\n",
      "[notice] A new release of pip is available: 23.2.1 -> 24.3.1\n",
      "[notice] To update, run: python.exe -m pip install --upgrade pip\n"
     ]
    }
   ],
   "source": [
    "! pip install ultralytics"
   ]
  },
  {
   "cell_type": "code",
   "execution_count": 1,
   "metadata": {},
   "outputs": [
    {
     "name": "stderr",
     "output_type": "stream",
     "text": [
      "C:\\Users\\Genius\\AppData\\Local\\Temp\\ipykernel_10340\\2153776174.py:3: DeprecationWarning: \n",
      "Pyarrow will become a required dependency of pandas in the next major release of pandas (pandas 3.0),\n",
      "(to allow more performant data types, such as the Arrow string type, and better interoperability with other libraries)\n",
      "but was not found to be installed on your system.\n",
      "If this would cause problems for you,\n",
      "please provide us feedback at https://github.com/pandas-dev/pandas/issues/54466\n",
      "        \n",
      "  import pandas as pd\n"
     ]
    }
   ],
   "source": [
    "import os\n",
    "import random\n",
    "import pandas as pd \n",
    "import numpy as np \n",
    "import matplotlib.pyplot as plt\n",
    "import cv2\n",
    "from shutil import copyfile\n",
    "import csv\n",
    "import shutil\n",
    "from sklearn.model_selection import train_test_split\n",
    "from sklearn.metrics import confusion_matrix\n",
    "import matplotlib.pyplot as plt\n",
    "import seaborn as sns\n",
    "from ultralytics import YOLO"
   ]
  },
  {
   "cell_type": "code",
   "execution_count": 2,
   "metadata": {
    "scrolled": true
   },
   "outputs": [
    {
     "name": "stdout",
     "output_type": "stream",
     "text": [
      "Ultralytics 8.3.31  Python-3.12.1 torch-2.5.1+cpu CPU (Intel Core(TM) i5-6300U 2.40GHz)\n",
      "\u001b[34m\u001b[1mengine\\trainer: \u001b[0mtask=classify, mode=train, model=yolov8n-cls.pt, data=E:/Clg Activities/Projects/Cosmetic shade recomender/Data, epochs=60, time=None, patience=100, batch=16, imgsz=224, save=True, save_period=-1, cache=False, device=None, workers=8, project=None, name=train30, exist_ok=False, pretrained=True, optimizer=auto, verbose=True, seed=0, deterministic=True, single_cls=False, rect=False, cos_lr=False, close_mosaic=10, resume=False, amp=True, fraction=1.0, profile=False, freeze=None, multi_scale=False, overlap_mask=True, mask_ratio=4, dropout=0.0, val=True, split=val, save_json=False, save_hybrid=False, conf=None, iou=0.7, max_det=300, half=False, dnn=False, plots=True, source=None, vid_stride=1, stream_buffer=False, visualize=False, augment=False, agnostic_nms=False, classes=None, retina_masks=False, embed=None, show=False, save_frames=False, save_txt=False, save_conf=False, save_crop=False, show_labels=True, show_conf=True, show_boxes=True, line_width=None, format=torchscript, keras=False, optimize=False, int8=False, dynamic=False, simplify=True, opset=None, workspace=4, nms=False, lr0=0.01, lrf=0.01, momentum=0.937, weight_decay=0.0005, warmup_epochs=3.0, warmup_momentum=0.8, warmup_bias_lr=0.1, box=7.5, cls=0.5, dfl=1.5, pose=12.0, kobj=1.0, label_smoothing=0.0, nbs=64, hsv_h=0.015, hsv_s=0.7, hsv_v=0.4, degrees=0.0, translate=0.1, scale=0.5, shear=0.0, perspective=0.0, flipud=0.0, fliplr=0.5, bgr=0.0, mosaic=1.0, mixup=0.0, copy_paste=0.0, copy_paste_mode=flip, auto_augment=randaugment, erasing=0.4, crop_fraction=1.0, cfg=None, tracker=botsort.yaml, save_dir=runs\\classify\\train30\n",
      "\u001b[34m\u001b[1mtrain:\u001b[0m E:\\Clg Activities\\Projects\\Cosmetic shade recomender\\Data\\train... found 1025 images in 5 classes  \n",
      "\u001b[34m\u001b[1mval:\u001b[0m E:\\Clg Activities\\Projects\\Cosmetic shade recomender\\Data\\validation... found 314 images in 5 classes  \n",
      "\u001b[34m\u001b[1mtest:\u001b[0m E:\\Clg Activities\\Projects\\Cosmetic shade recomender\\Data\\test... found 173 images in 5 classes  \n",
      "Overriding model.yaml nc=1000 with nc=5\n",
      "\n",
      "                   from  n    params  module                                       arguments                     \n",
      "  0                  -1  1       464  ultralytics.nn.modules.conv.Conv             [3, 16, 3, 2]                 \n",
      "  1                  -1  1      4672  ultralytics.nn.modules.conv.Conv             [16, 32, 3, 2]                \n",
      "  2                  -1  1      7360  ultralytics.nn.modules.block.C2f             [32, 32, 1, True]             \n",
      "  3                  -1  1     18560  ultralytics.nn.modules.conv.Conv             [32, 64, 3, 2]                \n",
      "  4                  -1  2     49664  ultralytics.nn.modules.block.C2f             [64, 64, 2, True]             \n",
      "  5                  -1  1     73984  ultralytics.nn.modules.conv.Conv             [64, 128, 3, 2]               \n",
      "  6                  -1  2    197632  ultralytics.nn.modules.block.C2f             [128, 128, 2, True]           \n",
      "  7                  -1  1    295424  ultralytics.nn.modules.conv.Conv             [128, 256, 3, 2]              \n",
      "  8                  -1  1    460288  ultralytics.nn.modules.block.C2f             [256, 256, 1, True]           \n",
      "  9                  -1  1    336645  ultralytics.nn.modules.head.Classify         [256, 5]                      \n",
      "YOLOv8n-cls summary: 99 layers, 1,444,693 parameters, 1,444,693 gradients, 3.4 GFLOPs\n",
      "Transferred 156/158 items from pretrained weights\n",
      "\u001b[34m\u001b[1mTensorBoard: \u001b[0mStart with 'tensorboard --logdir runs\\classify\\train30', view at http://localhost:6006/\n"
     ]
    },
    {
     "name": "stderr",
     "output_type": "stream",
     "text": [
      "\u001b[34m\u001b[1mtrain: \u001b[0mScanning E:\\Clg Activities\\Projects\\Cosmetic shade recomender\\Data\\train... 1025 images, 0 corrupt: 100%|██████████| 1025/1025 [00:00<?, ?it/s]\n",
      "\u001b[34m\u001b[1mval: \u001b[0mScanning E:\\Clg Activities\\Projects\\Cosmetic shade recomender\\Data\\validation... 314 images, 0 corrupt: 100%|██████████| 314/314 [00:00<?, ?it/s]\n"
     ]
    },
    {
     "name": "stdout",
     "output_type": "stream",
     "text": [
      "\u001b[34m\u001b[1moptimizer:\u001b[0m 'optimizer=auto' found, ignoring 'lr0=0.01' and 'momentum=0.937' and determining best 'optimizer', 'lr0' and 'momentum' automatically... \n",
      "\u001b[34m\u001b[1moptimizer:\u001b[0m AdamW(lr=0.000714, momentum=0.9) with parameter groups 26 weight(decay=0.0), 27 weight(decay=0.0005), 27 bias(decay=0.0)\n",
      "\u001b[34m\u001b[1mTensorBoard: \u001b[0mmodel graph visualization added \n",
      "Image sizes 224 train, 224 val\n",
      "Using 0 dataloader workers\n",
      "Logging results to \u001b[1mruns\\classify\\train30\u001b[0m\n",
      "Starting training for 60 epochs...\n",
      "\n",
      "      Epoch    GPU_mem       loss  Instances       Size\n"
     ]
    },
    {
     "name": "stderr",
     "output_type": "stream",
     "text": [
      "       1/60         0G      1.521          1        224: 100%|██████████| 65/65 [01:11<00:00,  1.10s/it]\n",
      "               classes   top1_acc   top5_acc: 100%|██████████| 10/10 [00:07<00:00,  1.30it/s]"
     ]
    },
    {
     "name": "stdout",
     "output_type": "stream",
     "text": [
      "                   all        0.5          1\n"
     ]
    },
    {
     "name": "stderr",
     "output_type": "stream",
     "text": [
      "\n"
     ]
    },
    {
     "name": "stdout",
     "output_type": "stream",
     "text": [
      "\n",
      "      Epoch    GPU_mem       loss  Instances       Size\n"
     ]
    },
    {
     "name": "stderr",
     "output_type": "stream",
     "text": [
      "       2/60         0G      1.074          1        224: 100%|██████████| 65/65 [01:18<00:00,  1.20s/it]\n",
      "               classes   top1_acc   top5_acc: 100%|██████████| 10/10 [00:07<00:00,  1.33it/s]"
     ]
    },
    {
     "name": "stdout",
     "output_type": "stream",
     "text": [
      "                   all      0.554          1\n"
     ]
    },
    {
     "name": "stderr",
     "output_type": "stream",
     "text": [
      "\n"
     ]
    },
    {
     "name": "stdout",
     "output_type": "stream",
     "text": [
      "\n",
      "      Epoch    GPU_mem       loss  Instances       Size\n"
     ]
    },
    {
     "name": "stderr",
     "output_type": "stream",
     "text": [
      "       3/60         0G     0.8001          1        224: 100%|██████████| 65/65 [01:27<00:00,  1.35s/it]\n",
      "               classes   top1_acc   top5_acc: 100%|██████████| 10/10 [00:08<00:00,  1.16it/s]"
     ]
    },
    {
     "name": "stdout",
     "output_type": "stream",
     "text": [
      "                   all      0.513          1\n"
     ]
    },
    {
     "name": "stderr",
     "output_type": "stream",
     "text": [
      "\n"
     ]
    },
    {
     "name": "stdout",
     "output_type": "stream",
     "text": [
      "\n",
      "      Epoch    GPU_mem       loss  Instances       Size\n"
     ]
    },
    {
     "name": "stderr",
     "output_type": "stream",
     "text": [
      "       4/60         0G     0.7666          1        224: 100%|██████████| 65/65 [01:14<00:00,  1.14s/it]\n",
      "               classes   top1_acc   top5_acc: 100%|██████████| 10/10 [00:07<00:00,  1.37it/s]"
     ]
    },
    {
     "name": "stdout",
     "output_type": "stream",
     "text": [
      "                   all      0.777          1\n"
     ]
    },
    {
     "name": "stderr",
     "output_type": "stream",
     "text": [
      "\n"
     ]
    },
    {
     "name": "stdout",
     "output_type": "stream",
     "text": [
      "\n",
      "      Epoch    GPU_mem       loss  Instances       Size\n"
     ]
    },
    {
     "name": "stderr",
     "output_type": "stream",
     "text": [
      "       5/60         0G     0.7679          1        224: 100%|██████████| 65/65 [02:26<00:00,  2.25s/it]\n",
      "               classes   top1_acc   top5_acc: 100%|██████████| 10/10 [00:06<00:00,  1.47it/s]"
     ]
    },
    {
     "name": "stdout",
     "output_type": "stream",
     "text": [
      "                   all      0.774          1\n"
     ]
    },
    {
     "name": "stderr",
     "output_type": "stream",
     "text": [
      "\n"
     ]
    },
    {
     "name": "stdout",
     "output_type": "stream",
     "text": [
      "\n",
      "      Epoch    GPU_mem       loss  Instances       Size\n"
     ]
    },
    {
     "name": "stderr",
     "output_type": "stream",
     "text": [
      "       6/60         0G     0.6757          1        224: 100%|██████████| 65/65 [13:47<00:00, 12.74s/it]   \n",
      "               classes   top1_acc   top5_acc: 100%|██████████| 10/10 [00:07<00:00,  1.34it/s]"
     ]
    },
    {
     "name": "stdout",
     "output_type": "stream",
     "text": [
      "                   all      0.742          1\n"
     ]
    },
    {
     "name": "stderr",
     "output_type": "stream",
     "text": [
      "\n"
     ]
    },
    {
     "name": "stdout",
     "output_type": "stream",
     "text": [
      "\n",
      "      Epoch    GPU_mem       loss  Instances       Size\n"
     ]
    },
    {
     "name": "stderr",
     "output_type": "stream",
     "text": [
      "       7/60         0G     0.6354          1        224: 100%|██████████| 65/65 [01:13<00:00,  1.13s/it]\n",
      "               classes   top1_acc   top5_acc: 100%|██████████| 10/10 [00:07<00:00,  1.35it/s]"
     ]
    },
    {
     "name": "stdout",
     "output_type": "stream",
     "text": [
      "                   all      0.742          1\n"
     ]
    },
    {
     "name": "stderr",
     "output_type": "stream",
     "text": [
      "\n"
     ]
    },
    {
     "name": "stdout",
     "output_type": "stream",
     "text": [
      "\n",
      "      Epoch    GPU_mem       loss  Instances       Size\n"
     ]
    },
    {
     "name": "stderr",
     "output_type": "stream",
     "text": [
      "       8/60         0G     0.6192          1        224: 100%|██████████| 65/65 [01:15<00:00,  1.17s/it]\n",
      "               classes   top1_acc   top5_acc: 100%|██████████| 10/10 [00:07<00:00,  1.38it/s]"
     ]
    },
    {
     "name": "stdout",
     "output_type": "stream",
     "text": [
      "                   all      0.783          1\n"
     ]
    },
    {
     "name": "stderr",
     "output_type": "stream",
     "text": [
      "\n"
     ]
    },
    {
     "name": "stdout",
     "output_type": "stream",
     "text": [
      "\n",
      "      Epoch    GPU_mem       loss  Instances       Size\n"
     ]
    },
    {
     "name": "stderr",
     "output_type": "stream",
     "text": [
      "       9/60         0G     0.5717          1        224: 100%|██████████| 65/65 [01:11<00:00,  1.11s/it]\n",
      "               classes   top1_acc   top5_acc: 100%|██████████| 10/10 [00:07<00:00,  1.35it/s]"
     ]
    },
    {
     "name": "stdout",
     "output_type": "stream",
     "text": [
      "                   all      0.742          1\n"
     ]
    },
    {
     "name": "stderr",
     "output_type": "stream",
     "text": [
      "\n"
     ]
    },
    {
     "name": "stdout",
     "output_type": "stream",
     "text": [
      "\n",
      "      Epoch    GPU_mem       loss  Instances       Size\n"
     ]
    },
    {
     "name": "stderr",
     "output_type": "stream",
     "text": [
      "      10/60         0G     0.6392          1        224: 100%|██████████| 65/65 [01:16<00:00,  1.18s/it]\n",
      "               classes   top1_acc   top5_acc: 100%|██████████| 10/10 [00:07<00:00,  1.34it/s]"
     ]
    },
    {
     "name": "stdout",
     "output_type": "stream",
     "text": [
      "                   all      0.803          1\n"
     ]
    },
    {
     "name": "stderr",
     "output_type": "stream",
     "text": [
      "\n"
     ]
    },
    {
     "name": "stdout",
     "output_type": "stream",
     "text": [
      "\n",
      "      Epoch    GPU_mem       loss  Instances       Size\n"
     ]
    },
    {
     "name": "stderr",
     "output_type": "stream",
     "text": [
      "      11/60         0G     0.5467          1        224: 100%|██████████| 65/65 [01:12<00:00,  1.11s/it]\n",
      "               classes   top1_acc   top5_acc: 100%|██████████| 10/10 [00:07<00:00,  1.36it/s]"
     ]
    },
    {
     "name": "stdout",
     "output_type": "stream",
     "text": [
      "                   all      0.822          1\n"
     ]
    },
    {
     "name": "stderr",
     "output_type": "stream",
     "text": [
      "\n"
     ]
    },
    {
     "name": "stdout",
     "output_type": "stream",
     "text": [
      "\n",
      "      Epoch    GPU_mem       loss  Instances       Size\n"
     ]
    },
    {
     "name": "stderr",
     "output_type": "stream",
     "text": [
      "      12/60         0G     0.4913          1        224: 100%|██████████| 65/65 [01:09<00:00,  1.08s/it]\n",
      "               classes   top1_acc   top5_acc: 100%|██████████| 10/10 [00:05<00:00,  1.80it/s]"
     ]
    },
    {
     "name": "stdout",
     "output_type": "stream",
     "text": [
      "                   all      0.764          1\n"
     ]
    },
    {
     "name": "stderr",
     "output_type": "stream",
     "text": [
      "\n"
     ]
    },
    {
     "name": "stdout",
     "output_type": "stream",
     "text": [
      "\n",
      "      Epoch    GPU_mem       loss  Instances       Size\n"
     ]
    },
    {
     "name": "stderr",
     "output_type": "stream",
     "text": [
      "      13/60         0G     0.4759          1        224: 100%|██████████| 65/65 [00:47<00:00,  1.36it/s]\n",
      "               classes   top1_acc   top5_acc: 100%|██████████| 10/10 [00:04<00:00,  2.11it/s]"
     ]
    },
    {
     "name": "stdout",
     "output_type": "stream",
     "text": [
      "                   all      0.793          1\n"
     ]
    },
    {
     "name": "stderr",
     "output_type": "stream",
     "text": [
      "\n"
     ]
    },
    {
     "name": "stdout",
     "output_type": "stream",
     "text": [
      "\n",
      "      Epoch    GPU_mem       loss  Instances       Size\n"
     ]
    },
    {
     "name": "stderr",
     "output_type": "stream",
     "text": [
      "      14/60         0G     0.4908          1        224: 100%|██████████| 65/65 [00:44<00:00,  1.47it/s]\n",
      "               classes   top1_acc   top5_acc: 100%|██████████| 10/10 [00:04<00:00,  2.03it/s]"
     ]
    },
    {
     "name": "stdout",
     "output_type": "stream",
     "text": [
      "                   all      0.793          1\n"
     ]
    },
    {
     "name": "stderr",
     "output_type": "stream",
     "text": [
      "\n"
     ]
    },
    {
     "name": "stdout",
     "output_type": "stream",
     "text": [
      "\n",
      "      Epoch    GPU_mem       loss  Instances       Size\n"
     ]
    },
    {
     "name": "stderr",
     "output_type": "stream",
     "text": [
      "      15/60         0G     0.4642          1        224: 100%|██████████| 65/65 [00:44<00:00,  1.46it/s]\n",
      "               classes   top1_acc   top5_acc: 100%|██████████| 10/10 [00:04<00:00,  2.03it/s]"
     ]
    },
    {
     "name": "stdout",
     "output_type": "stream",
     "text": [
      "                   all      0.774          1\n"
     ]
    },
    {
     "name": "stderr",
     "output_type": "stream",
     "text": [
      "\n"
     ]
    },
    {
     "name": "stdout",
     "output_type": "stream",
     "text": [
      "\n",
      "      Epoch    GPU_mem       loss  Instances       Size\n"
     ]
    },
    {
     "name": "stderr",
     "output_type": "stream",
     "text": [
      "      16/60         0G     0.4844          1        224: 100%|██████████| 65/65 [00:49<00:00,  1.32it/s]\n",
      "               classes   top1_acc   top5_acc: 100%|██████████| 10/10 [00:05<00:00,  1.97it/s]"
     ]
    },
    {
     "name": "stdout",
     "output_type": "stream",
     "text": [
      "                   all       0.79          1\n"
     ]
    },
    {
     "name": "stderr",
     "output_type": "stream",
     "text": [
      "\n"
     ]
    },
    {
     "name": "stdout",
     "output_type": "stream",
     "text": [
      "\n",
      "      Epoch    GPU_mem       loss  Instances       Size\n"
     ]
    },
    {
     "name": "stderr",
     "output_type": "stream",
     "text": [
      "      17/60         0G     0.4552          1        224: 100%|██████████| 65/65 [00:53<00:00,  1.21it/s]\n",
      "               classes   top1_acc   top5_acc: 100%|██████████| 10/10 [00:07<00:00,  1.40it/s]"
     ]
    },
    {
     "name": "stdout",
     "output_type": "stream",
     "text": [
      "                   all      0.796          1\n"
     ]
    },
    {
     "name": "stderr",
     "output_type": "stream",
     "text": [
      "\n"
     ]
    },
    {
     "name": "stdout",
     "output_type": "stream",
     "text": [
      "\n",
      "      Epoch    GPU_mem       loss  Instances       Size\n"
     ]
    },
    {
     "name": "stderr",
     "output_type": "stream",
     "text": [
      "      18/60         0G     0.4497          1        224: 100%|██████████| 65/65 [00:51<00:00,  1.25it/s]\n",
      "               classes   top1_acc   top5_acc: 100%|██████████| 10/10 [00:05<00:00,  1.83it/s]"
     ]
    },
    {
     "name": "stdout",
     "output_type": "stream",
     "text": [
      "                   all      0.828          1\n"
     ]
    },
    {
     "name": "stderr",
     "output_type": "stream",
     "text": [
      "\n"
     ]
    },
    {
     "name": "stdout",
     "output_type": "stream",
     "text": [
      "\n",
      "      Epoch    GPU_mem       loss  Instances       Size\n"
     ]
    },
    {
     "name": "stderr",
     "output_type": "stream",
     "text": [
      "      19/60         0G     0.4024          1        224: 100%|██████████| 65/65 [00:51<00:00,  1.27it/s]\n",
      "               classes   top1_acc   top5_acc: 100%|██████████| 10/10 [00:04<00:00,  2.09it/s]"
     ]
    },
    {
     "name": "stdout",
     "output_type": "stream",
     "text": [
      "                   all      0.831          1\n"
     ]
    },
    {
     "name": "stderr",
     "output_type": "stream",
     "text": [
      "\n"
     ]
    },
    {
     "name": "stdout",
     "output_type": "stream",
     "text": [
      "\n",
      "      Epoch    GPU_mem       loss  Instances       Size\n"
     ]
    },
    {
     "name": "stderr",
     "output_type": "stream",
     "text": [
      "      20/60         0G     0.4206          1        224: 100%|██████████| 65/65 [01:02<00:00,  1.04it/s]\n",
      "               classes   top1_acc   top5_acc: 100%|██████████| 10/10 [00:07<00:00,  1.40it/s]"
     ]
    },
    {
     "name": "stdout",
     "output_type": "stream",
     "text": [
      "                   all       0.78          1\n"
     ]
    },
    {
     "name": "stderr",
     "output_type": "stream",
     "text": [
      "\n"
     ]
    },
    {
     "name": "stdout",
     "output_type": "stream",
     "text": [
      "\n",
      "      Epoch    GPU_mem       loss  Instances       Size\n"
     ]
    },
    {
     "name": "stderr",
     "output_type": "stream",
     "text": [
      "      21/60         0G     0.3961          1        224: 100%|██████████| 65/65 [01:20<00:00,  1.24s/it]\n",
      "               classes   top1_acc   top5_acc: 100%|██████████| 10/10 [00:07<00:00,  1.33it/s]"
     ]
    },
    {
     "name": "stdout",
     "output_type": "stream",
     "text": [
      "                   all       0.78          1\n"
     ]
    },
    {
     "name": "stderr",
     "output_type": "stream",
     "text": [
      "\n"
     ]
    },
    {
     "name": "stdout",
     "output_type": "stream",
     "text": [
      "\n",
      "      Epoch    GPU_mem       loss  Instances       Size\n"
     ]
    },
    {
     "name": "stderr",
     "output_type": "stream",
     "text": [
      "      22/60         0G     0.3893          1        224: 100%|██████████| 65/65 [01:13<00:00,  1.13s/it]\n",
      "               classes   top1_acc   top5_acc: 100%|██████████| 10/10 [00:06<00:00,  1.43it/s]"
     ]
    },
    {
     "name": "stdout",
     "output_type": "stream",
     "text": [
      "                   all      0.809          1\n"
     ]
    },
    {
     "name": "stderr",
     "output_type": "stream",
     "text": [
      "\n"
     ]
    },
    {
     "name": "stdout",
     "output_type": "stream",
     "text": [
      "\n",
      "      Epoch    GPU_mem       loss  Instances       Size\n"
     ]
    },
    {
     "name": "stderr",
     "output_type": "stream",
     "text": [
      "      23/60         0G     0.3982          1        224: 100%|██████████| 65/65 [01:14<00:00,  1.15s/it]\n",
      "               classes   top1_acc   top5_acc: 100%|██████████| 10/10 [00:07<00:00,  1.36it/s]"
     ]
    },
    {
     "name": "stdout",
     "output_type": "stream",
     "text": [
      "                   all      0.799          1\n"
     ]
    },
    {
     "name": "stderr",
     "output_type": "stream",
     "text": [
      "\n"
     ]
    },
    {
     "name": "stdout",
     "output_type": "stream",
     "text": [
      "\n",
      "      Epoch    GPU_mem       loss  Instances       Size\n"
     ]
    },
    {
     "name": "stderr",
     "output_type": "stream",
     "text": [
      "      24/60         0G     0.3366          1        224: 100%|██████████| 65/65 [01:09<00:00,  1.07s/it]\n",
      "               classes   top1_acc   top5_acc: 100%|██████████| 10/10 [00:07<00:00,  1.37it/s]"
     ]
    },
    {
     "name": "stdout",
     "output_type": "stream",
     "text": [
      "                   all      0.825          1\n"
     ]
    },
    {
     "name": "stderr",
     "output_type": "stream",
     "text": [
      "\n"
     ]
    },
    {
     "name": "stdout",
     "output_type": "stream",
     "text": [
      "\n",
      "      Epoch    GPU_mem       loss  Instances       Size\n"
     ]
    },
    {
     "name": "stderr",
     "output_type": "stream",
     "text": [
      "      25/60         0G     0.3578          1        224: 100%|██████████| 65/65 [01:17<00:00,  1.19s/it]\n",
      "               classes   top1_acc   top5_acc: 100%|██████████| 10/10 [00:07<00:00,  1.30it/s]"
     ]
    },
    {
     "name": "stdout",
     "output_type": "stream",
     "text": [
      "                   all      0.812          1\n"
     ]
    },
    {
     "name": "stderr",
     "output_type": "stream",
     "text": [
      "\n"
     ]
    },
    {
     "name": "stdout",
     "output_type": "stream",
     "text": [
      "\n",
      "      Epoch    GPU_mem       loss  Instances       Size\n"
     ]
    },
    {
     "name": "stderr",
     "output_type": "stream",
     "text": [
      "      26/60         0G      0.327          1        224: 100%|██████████| 65/65 [01:13<00:00,  1.12s/it]\n",
      "               classes   top1_acc   top5_acc: 100%|██████████| 10/10 [00:08<00:00,  1.17it/s]"
     ]
    },
    {
     "name": "stdout",
     "output_type": "stream",
     "text": [
      "                   all      0.806          1\n"
     ]
    },
    {
     "name": "stderr",
     "output_type": "stream",
     "text": [
      "\n"
     ]
    },
    {
     "name": "stdout",
     "output_type": "stream",
     "text": [
      "\n",
      "      Epoch    GPU_mem       loss  Instances       Size\n"
     ]
    },
    {
     "name": "stderr",
     "output_type": "stream",
     "text": [
      "      27/60         0G     0.3278          1        224: 100%|██████████| 65/65 [01:10<00:00,  1.09s/it]\n",
      "               classes   top1_acc   top5_acc: 100%|██████████| 10/10 [00:07<00:00,  1.40it/s]"
     ]
    },
    {
     "name": "stdout",
     "output_type": "stream",
     "text": [
      "                   all      0.812          1\n"
     ]
    },
    {
     "name": "stderr",
     "output_type": "stream",
     "text": [
      "\n"
     ]
    },
    {
     "name": "stdout",
     "output_type": "stream",
     "text": [
      "\n",
      "      Epoch    GPU_mem       loss  Instances       Size\n"
     ]
    },
    {
     "name": "stderr",
     "output_type": "stream",
     "text": [
      "      28/60         0G     0.3434          1        224: 100%|██████████| 65/65 [01:12<00:00,  1.11s/it]\n",
      "               classes   top1_acc   top5_acc: 100%|██████████| 10/10 [00:06<00:00,  1.47it/s]"
     ]
    },
    {
     "name": "stdout",
     "output_type": "stream",
     "text": [
      "                   all      0.806          1\n"
     ]
    },
    {
     "name": "stderr",
     "output_type": "stream",
     "text": [
      "\n"
     ]
    },
    {
     "name": "stdout",
     "output_type": "stream",
     "text": [
      "\n",
      "      Epoch    GPU_mem       loss  Instances       Size\n"
     ]
    },
    {
     "name": "stderr",
     "output_type": "stream",
     "text": [
      "      29/60         0G     0.3663          1        224: 100%|██████████| 65/65 [01:04<00:00,  1.00it/s]\n",
      "               classes   top1_acc   top5_acc: 100%|██████████| 10/10 [00:06<00:00,  1.47it/s]"
     ]
    },
    {
     "name": "stdout",
     "output_type": "stream",
     "text": [
      "                   all      0.803          1\n"
     ]
    },
    {
     "name": "stderr",
     "output_type": "stream",
     "text": [
      "\n"
     ]
    },
    {
     "name": "stdout",
     "output_type": "stream",
     "text": [
      "\n",
      "      Epoch    GPU_mem       loss  Instances       Size\n"
     ]
    },
    {
     "name": "stderr",
     "output_type": "stream",
     "text": [
      "      30/60         0G     0.3567          1        224: 100%|██████████| 65/65 [01:08<00:00,  1.06s/it]\n",
      "               classes   top1_acc   top5_acc: 100%|██████████| 10/10 [00:07<00:00,  1.40it/s]"
     ]
    },
    {
     "name": "stdout",
     "output_type": "stream",
     "text": [
      "                   all      0.806          1\n"
     ]
    },
    {
     "name": "stderr",
     "output_type": "stream",
     "text": [
      "\n"
     ]
    },
    {
     "name": "stdout",
     "output_type": "stream",
     "text": [
      "\n",
      "      Epoch    GPU_mem       loss  Instances       Size\n"
     ]
    },
    {
     "name": "stderr",
     "output_type": "stream",
     "text": [
      "      31/60         0G     0.2756          1        224: 100%|██████████| 65/65 [01:18<00:00,  1.21s/it]\n",
      "               classes   top1_acc   top5_acc: 100%|██████████| 10/10 [00:07<00:00,  1.32it/s]"
     ]
    },
    {
     "name": "stdout",
     "output_type": "stream",
     "text": [
      "                   all      0.812          1\n"
     ]
    },
    {
     "name": "stderr",
     "output_type": "stream",
     "text": [
      "\n"
     ]
    },
    {
     "name": "stdout",
     "output_type": "stream",
     "text": [
      "\n",
      "      Epoch    GPU_mem       loss  Instances       Size\n"
     ]
    },
    {
     "name": "stderr",
     "output_type": "stream",
     "text": [
      "      32/60         0G     0.3077          1        224: 100%|██████████| 65/65 [01:11<00:00,  1.10s/it]\n",
      "               classes   top1_acc   top5_acc: 100%|██████████| 10/10 [00:07<00:00,  1.38it/s]"
     ]
    },
    {
     "name": "stdout",
     "output_type": "stream",
     "text": [
      "                   all      0.822          1\n"
     ]
    },
    {
     "name": "stderr",
     "output_type": "stream",
     "text": [
      "\n"
     ]
    },
    {
     "name": "stdout",
     "output_type": "stream",
     "text": [
      "\n",
      "      Epoch    GPU_mem       loss  Instances       Size\n"
     ]
    },
    {
     "name": "stderr",
     "output_type": "stream",
     "text": [
      "      33/60         0G      0.355          1        224: 100%|██████████| 65/65 [01:14<00:00,  1.14s/it]\n",
      "               classes   top1_acc   top5_acc: 100%|██████████| 10/10 [00:08<00:00,  1.21it/s]"
     ]
    },
    {
     "name": "stdout",
     "output_type": "stream",
     "text": [
      "                   all      0.815          1\n"
     ]
    },
    {
     "name": "stderr",
     "output_type": "stream",
     "text": [
      "\n"
     ]
    },
    {
     "name": "stdout",
     "output_type": "stream",
     "text": [
      "\n",
      "      Epoch    GPU_mem       loss  Instances       Size\n"
     ]
    },
    {
     "name": "stderr",
     "output_type": "stream",
     "text": [
      "      34/60         0G     0.3105          1        224: 100%|██████████| 65/65 [01:16<00:00,  1.18s/it]\n",
      "               classes   top1_acc   top5_acc: 100%|██████████| 10/10 [00:07<00:00,  1.33it/s]"
     ]
    },
    {
     "name": "stdout",
     "output_type": "stream",
     "text": [
      "                   all      0.809          1\n"
     ]
    },
    {
     "name": "stderr",
     "output_type": "stream",
     "text": [
      "\n"
     ]
    },
    {
     "name": "stdout",
     "output_type": "stream",
     "text": [
      "\n",
      "      Epoch    GPU_mem       loss  Instances       Size\n"
     ]
    },
    {
     "name": "stderr",
     "output_type": "stream",
     "text": [
      "      35/60         0G     0.2848          1        224: 100%|██████████| 65/65 [01:16<00:00,  1.18s/it]\n",
      "               classes   top1_acc   top5_acc: 100%|██████████| 10/10 [00:07<00:00,  1.34it/s]"
     ]
    },
    {
     "name": "stdout",
     "output_type": "stream",
     "text": [
      "                   all      0.799          1\n"
     ]
    },
    {
     "name": "stderr",
     "output_type": "stream",
     "text": [
      "\n"
     ]
    },
    {
     "name": "stdout",
     "output_type": "stream",
     "text": [
      "\n",
      "      Epoch    GPU_mem       loss  Instances       Size\n"
     ]
    },
    {
     "name": "stderr",
     "output_type": "stream",
     "text": [
      "      36/60         0G     0.3239          1        224: 100%|██████████| 65/65 [01:13<00:00,  1.14s/it]\n",
      "               classes   top1_acc   top5_acc: 100%|██████████| 10/10 [00:07<00:00,  1.34it/s]"
     ]
    },
    {
     "name": "stdout",
     "output_type": "stream",
     "text": [
      "                   all      0.803          1\n"
     ]
    },
    {
     "name": "stderr",
     "output_type": "stream",
     "text": [
      "\n"
     ]
    },
    {
     "name": "stdout",
     "output_type": "stream",
     "text": [
      "\n",
      "      Epoch    GPU_mem       loss  Instances       Size\n"
     ]
    },
    {
     "name": "stderr",
     "output_type": "stream",
     "text": [
      "      37/60         0G     0.2652          1        224: 100%|██████████| 65/65 [02:04<00:00,  1.92s/it]\n",
      "               classes   top1_acc   top5_acc: 100%|██████████| 10/10 [00:10<00:00,  1.05s/it]"
     ]
    },
    {
     "name": "stdout",
     "output_type": "stream",
     "text": [
      "                   all      0.818          1\n"
     ]
    },
    {
     "name": "stderr",
     "output_type": "stream",
     "text": [
      "\n"
     ]
    },
    {
     "name": "stdout",
     "output_type": "stream",
     "text": [
      "\n",
      "      Epoch    GPU_mem       loss  Instances       Size\n"
     ]
    },
    {
     "name": "stderr",
     "output_type": "stream",
     "text": [
      "      38/60         0G     0.2805          1        224: 100%|██████████| 65/65 [01:26<00:00,  1.33s/it]\n",
      "               classes   top1_acc   top5_acc: 100%|██████████| 10/10 [00:07<00:00,  1.34it/s]"
     ]
    },
    {
     "name": "stdout",
     "output_type": "stream",
     "text": [
      "                   all      0.809          1\n"
     ]
    },
    {
     "name": "stderr",
     "output_type": "stream",
     "text": [
      "\n"
     ]
    },
    {
     "name": "stdout",
     "output_type": "stream",
     "text": [
      "\n",
      "      Epoch    GPU_mem       loss  Instances       Size\n"
     ]
    },
    {
     "name": "stderr",
     "output_type": "stream",
     "text": [
      "      39/60         0G     0.2594          1        224: 100%|██████████| 65/65 [01:19<00:00,  1.22s/it]\n",
      "               classes   top1_acc   top5_acc: 100%|██████████| 10/10 [00:07<00:00,  1.26it/s]"
     ]
    },
    {
     "name": "stdout",
     "output_type": "stream",
     "text": [
      "                   all      0.822          1\n"
     ]
    },
    {
     "name": "stderr",
     "output_type": "stream",
     "text": [
      "\n"
     ]
    },
    {
     "name": "stdout",
     "output_type": "stream",
     "text": [
      "\n",
      "      Epoch    GPU_mem       loss  Instances       Size\n"
     ]
    },
    {
     "name": "stderr",
     "output_type": "stream",
     "text": [
      "      40/60         0G     0.2443          1        224: 100%|██████████| 65/65 [01:19<00:00,  1.22s/it]\n",
      "               classes   top1_acc   top5_acc: 100%|██████████| 10/10 [00:08<00:00,  1.25it/s]"
     ]
    },
    {
     "name": "stdout",
     "output_type": "stream",
     "text": [
      "                   all      0.796          1\n"
     ]
    },
    {
     "name": "stderr",
     "output_type": "stream",
     "text": [
      "\n"
     ]
    },
    {
     "name": "stdout",
     "output_type": "stream",
     "text": [
      "\n",
      "      Epoch    GPU_mem       loss  Instances       Size\n"
     ]
    },
    {
     "name": "stderr",
     "output_type": "stream",
     "text": [
      "      41/60         0G     0.2888          1        224: 100%|██████████| 65/65 [01:13<00:00,  1.13s/it]\n",
      "               classes   top1_acc   top5_acc: 100%|██████████| 10/10 [00:07<00:00,  1.36it/s]"
     ]
    },
    {
     "name": "stdout",
     "output_type": "stream",
     "text": [
      "                   all      0.818          1\n"
     ]
    },
    {
     "name": "stderr",
     "output_type": "stream",
     "text": [
      "\n"
     ]
    },
    {
     "name": "stdout",
     "output_type": "stream",
     "text": [
      "\n",
      "      Epoch    GPU_mem       loss  Instances       Size\n"
     ]
    },
    {
     "name": "stderr",
     "output_type": "stream",
     "text": [
      "      42/60         0G     0.2386          1        224: 100%|██████████| 65/65 [01:12<00:00,  1.11s/it]\n",
      "               classes   top1_acc   top5_acc: 100%|██████████| 10/10 [00:07<00:00,  1.38it/s]"
     ]
    },
    {
     "name": "stdout",
     "output_type": "stream",
     "text": [
      "                   all      0.812          1\n"
     ]
    },
    {
     "name": "stderr",
     "output_type": "stream",
     "text": [
      "\n"
     ]
    },
    {
     "name": "stdout",
     "output_type": "stream",
     "text": [
      "\n",
      "      Epoch    GPU_mem       loss  Instances       Size\n"
     ]
    },
    {
     "name": "stderr",
     "output_type": "stream",
     "text": [
      "      43/60         0G     0.2182          1        224: 100%|██████████| 65/65 [01:11<00:00,  1.11s/it]\n",
      "               classes   top1_acc   top5_acc: 100%|██████████| 10/10 [00:07<00:00,  1.39it/s]"
     ]
    },
    {
     "name": "stdout",
     "output_type": "stream",
     "text": [
      "                   all      0.838          1\n"
     ]
    },
    {
     "name": "stderr",
     "output_type": "stream",
     "text": [
      "\n"
     ]
    },
    {
     "name": "stdout",
     "output_type": "stream",
     "text": [
      "\n",
      "      Epoch    GPU_mem       loss  Instances       Size\n"
     ]
    },
    {
     "name": "stderr",
     "output_type": "stream",
     "text": [
      "      44/60         0G     0.2954          1        224: 100%|██████████| 65/65 [01:15<00:00,  1.16s/it]\n",
      "               classes   top1_acc   top5_acc: 100%|██████████| 10/10 [00:08<00:00,  1.24it/s]"
     ]
    },
    {
     "name": "stdout",
     "output_type": "stream",
     "text": [
      "                   all      0.818          1\n"
     ]
    },
    {
     "name": "stderr",
     "output_type": "stream",
     "text": [
      "\n"
     ]
    },
    {
     "name": "stdout",
     "output_type": "stream",
     "text": [
      "\n",
      "      Epoch    GPU_mem       loss  Instances       Size\n"
     ]
    },
    {
     "name": "stderr",
     "output_type": "stream",
     "text": [
      "      45/60         0G     0.2379          1        224: 100%|██████████| 65/65 [01:12<00:00,  1.11s/it]\n",
      "               classes   top1_acc   top5_acc: 100%|██████████| 10/10 [00:07<00:00,  1.39it/s]"
     ]
    },
    {
     "name": "stdout",
     "output_type": "stream",
     "text": [
      "                   all      0.809          1\n"
     ]
    },
    {
     "name": "stderr",
     "output_type": "stream",
     "text": [
      "\n"
     ]
    },
    {
     "name": "stdout",
     "output_type": "stream",
     "text": [
      "\n",
      "      Epoch    GPU_mem       loss  Instances       Size\n"
     ]
    },
    {
     "name": "stderr",
     "output_type": "stream",
     "text": [
      "      46/60         0G     0.2857          1        224: 100%|██████████| 65/65 [01:12<00:00,  1.12s/it]\n",
      "               classes   top1_acc   top5_acc: 100%|██████████| 10/10 [00:07<00:00,  1.37it/s]"
     ]
    },
    {
     "name": "stdout",
     "output_type": "stream",
     "text": [
      "                   all      0.809          1\n"
     ]
    },
    {
     "name": "stderr",
     "output_type": "stream",
     "text": [
      "\n"
     ]
    },
    {
     "name": "stdout",
     "output_type": "stream",
     "text": [
      "\n",
      "      Epoch    GPU_mem       loss  Instances       Size\n"
     ]
    },
    {
     "name": "stderr",
     "output_type": "stream",
     "text": [
      "      47/60         0G     0.2142          1        224: 100%|██████████| 65/65 [01:15<00:00,  1.16s/it]\n",
      "               classes   top1_acc   top5_acc: 100%|██████████| 10/10 [00:07<00:00,  1.31it/s]"
     ]
    },
    {
     "name": "stdout",
     "output_type": "stream",
     "text": [
      "                   all      0.815          1\n"
     ]
    },
    {
     "name": "stderr",
     "output_type": "stream",
     "text": [
      "\n"
     ]
    },
    {
     "name": "stdout",
     "output_type": "stream",
     "text": [
      "\n",
      "      Epoch    GPU_mem       loss  Instances       Size\n"
     ]
    },
    {
     "name": "stderr",
     "output_type": "stream",
     "text": [
      "      48/60         0G     0.2214          1        224: 100%|██████████| 65/65 [01:17<00:00,  1.19s/it]\n",
      "               classes   top1_acc   top5_acc: 100%|██████████| 10/10 [00:07<00:00,  1.35it/s]"
     ]
    },
    {
     "name": "stdout",
     "output_type": "stream",
     "text": [
      "                   all      0.834          1\n"
     ]
    },
    {
     "name": "stderr",
     "output_type": "stream",
     "text": [
      "\n"
     ]
    },
    {
     "name": "stdout",
     "output_type": "stream",
     "text": [
      "\n",
      "      Epoch    GPU_mem       loss  Instances       Size\n"
     ]
    },
    {
     "name": "stderr",
     "output_type": "stream",
     "text": [
      "      49/60         0G     0.2425          1        224: 100%|██████████| 65/65 [01:15<00:00,  1.16s/it]\n",
      "               classes   top1_acc   top5_acc: 100%|██████████| 10/10 [00:07<00:00,  1.35it/s]"
     ]
    },
    {
     "name": "stdout",
     "output_type": "stream",
     "text": [
      "                   all      0.828          1\n"
     ]
    },
    {
     "name": "stderr",
     "output_type": "stream",
     "text": [
      "\n"
     ]
    },
    {
     "name": "stdout",
     "output_type": "stream",
     "text": [
      "\n",
      "      Epoch    GPU_mem       loss  Instances       Size\n"
     ]
    },
    {
     "name": "stderr",
     "output_type": "stream",
     "text": [
      "      50/60         0G     0.2367          1        224: 100%|██████████| 65/65 [01:13<00:00,  1.13s/it]\n",
      "               classes   top1_acc   top5_acc: 100%|██████████| 10/10 [00:07<00:00,  1.31it/s]"
     ]
    },
    {
     "name": "stdout",
     "output_type": "stream",
     "text": [
      "                   all      0.828          1\n"
     ]
    },
    {
     "name": "stderr",
     "output_type": "stream",
     "text": [
      "\n"
     ]
    },
    {
     "name": "stdout",
     "output_type": "stream",
     "text": [
      "\n",
      "      Epoch    GPU_mem       loss  Instances       Size\n"
     ]
    },
    {
     "name": "stderr",
     "output_type": "stream",
     "text": [
      "      51/60         0G     0.2326          1        224: 100%|██████████| 65/65 [01:17<00:00,  1.19s/it]\n",
      "               classes   top1_acc   top5_acc: 100%|██████████| 10/10 [00:07<00:00,  1.37it/s]"
     ]
    },
    {
     "name": "stdout",
     "output_type": "stream",
     "text": [
      "                   all      0.825          1\n"
     ]
    },
    {
     "name": "stderr",
     "output_type": "stream",
     "text": [
      "\n"
     ]
    },
    {
     "name": "stdout",
     "output_type": "stream",
     "text": [
      "\n",
      "      Epoch    GPU_mem       loss  Instances       Size\n"
     ]
    },
    {
     "name": "stderr",
     "output_type": "stream",
     "text": [
      "      52/60         0G     0.1949          1        224: 100%|██████████| 65/65 [01:14<00:00,  1.14s/it]\n",
      "               classes   top1_acc   top5_acc: 100%|██████████| 10/10 [00:07<00:00,  1.32it/s]"
     ]
    },
    {
     "name": "stdout",
     "output_type": "stream",
     "text": [
      "                   all      0.831          1\n"
     ]
    },
    {
     "name": "stderr",
     "output_type": "stream",
     "text": [
      "\n"
     ]
    },
    {
     "name": "stdout",
     "output_type": "stream",
     "text": [
      "\n",
      "      Epoch    GPU_mem       loss  Instances       Size\n"
     ]
    },
    {
     "name": "stderr",
     "output_type": "stream",
     "text": [
      "      53/60         0G     0.1731          1        224: 100%|██████████| 65/65 [01:18<00:00,  1.20s/it]\n",
      "               classes   top1_acc   top5_acc: 100%|██████████| 10/10 [00:07<00:00,  1.29it/s]"
     ]
    },
    {
     "name": "stdout",
     "output_type": "stream",
     "text": [
      "                   all      0.831          1\n"
     ]
    },
    {
     "name": "stderr",
     "output_type": "stream",
     "text": [
      "\n"
     ]
    },
    {
     "name": "stdout",
     "output_type": "stream",
     "text": [
      "\n",
      "      Epoch    GPU_mem       loss  Instances       Size\n"
     ]
    },
    {
     "name": "stderr",
     "output_type": "stream",
     "text": [
      "      54/60         0G     0.1974          1        224: 100%|██████████| 65/65 [01:20<00:00,  1.24s/it]\n",
      "               classes   top1_acc   top5_acc: 100%|██████████| 10/10 [00:08<00:00,  1.21it/s]"
     ]
    },
    {
     "name": "stdout",
     "output_type": "stream",
     "text": [
      "                   all      0.828          1\n"
     ]
    },
    {
     "name": "stderr",
     "output_type": "stream",
     "text": [
      "\n"
     ]
    },
    {
     "name": "stdout",
     "output_type": "stream",
     "text": [
      "\n",
      "      Epoch    GPU_mem       loss  Instances       Size\n"
     ]
    },
    {
     "name": "stderr",
     "output_type": "stream",
     "text": [
      "      55/60         0G      0.221          1        224: 100%|██████████| 65/65 [01:20<00:00,  1.23s/it]\n",
      "               classes   top1_acc   top5_acc: 100%|██████████| 10/10 [00:07<00:00,  1.31it/s]"
     ]
    },
    {
     "name": "stdout",
     "output_type": "stream",
     "text": [
      "                   all      0.831          1\n"
     ]
    },
    {
     "name": "stderr",
     "output_type": "stream",
     "text": [
      "\n"
     ]
    },
    {
     "name": "stdout",
     "output_type": "stream",
     "text": [
      "\n",
      "      Epoch    GPU_mem       loss  Instances       Size\n"
     ]
    },
    {
     "name": "stderr",
     "output_type": "stream",
     "text": [
      "      56/60         0G     0.2074          1        224: 100%|██████████| 65/65 [01:20<00:00,  1.24s/it]\n",
      "               classes   top1_acc   top5_acc: 100%|██████████| 10/10 [00:08<00:00,  1.25it/s]"
     ]
    },
    {
     "name": "stdout",
     "output_type": "stream",
     "text": [
      "                   all      0.831          1\n"
     ]
    },
    {
     "name": "stderr",
     "output_type": "stream",
     "text": [
      "\n"
     ]
    },
    {
     "name": "stdout",
     "output_type": "stream",
     "text": [
      "\n",
      "      Epoch    GPU_mem       loss  Instances       Size\n"
     ]
    },
    {
     "name": "stderr",
     "output_type": "stream",
     "text": [
      "      57/60         0G     0.1933          1        224: 100%|██████████| 65/65 [01:16<00:00,  1.18s/it]\n",
      "               classes   top1_acc   top5_acc: 100%|██████████| 10/10 [00:07<00:00,  1.35it/s]"
     ]
    },
    {
     "name": "stdout",
     "output_type": "stream",
     "text": [
      "                   all      0.825          1\n"
     ]
    },
    {
     "name": "stderr",
     "output_type": "stream",
     "text": [
      "\n"
     ]
    },
    {
     "name": "stdout",
     "output_type": "stream",
     "text": [
      "\n",
      "      Epoch    GPU_mem       loss  Instances       Size\n"
     ]
    },
    {
     "name": "stderr",
     "output_type": "stream",
     "text": [
      "      58/60         0G     0.2166          1        224: 100%|██████████| 65/65 [01:12<00:00,  1.12s/it]\n",
      "               classes   top1_acc   top5_acc: 100%|██████████| 10/10 [00:07<00:00,  1.34it/s]"
     ]
    },
    {
     "name": "stdout",
     "output_type": "stream",
     "text": [
      "                   all      0.831          1\n"
     ]
    },
    {
     "name": "stderr",
     "output_type": "stream",
     "text": [
      "\n"
     ]
    },
    {
     "name": "stdout",
     "output_type": "stream",
     "text": [
      "\n",
      "      Epoch    GPU_mem       loss  Instances       Size\n"
     ]
    },
    {
     "name": "stderr",
     "output_type": "stream",
     "text": [
      "      59/60         0G     0.2137          1        224: 100%|██████████| 65/65 [01:12<00:00,  1.11s/it]\n",
      "               classes   top1_acc   top5_acc: 100%|██████████| 10/10 [00:07<00:00,  1.31it/s]"
     ]
    },
    {
     "name": "stdout",
     "output_type": "stream",
     "text": [
      "                   all      0.825          1\n"
     ]
    },
    {
     "name": "stderr",
     "output_type": "stream",
     "text": [
      "\n"
     ]
    },
    {
     "name": "stdout",
     "output_type": "stream",
     "text": [
      "\n",
      "      Epoch    GPU_mem       loss  Instances       Size\n"
     ]
    },
    {
     "name": "stderr",
     "output_type": "stream",
     "text": [
      "      60/60         0G     0.2229          1        224: 100%|██████████| 65/65 [01:11<00:00,  1.10s/it]\n",
      "               classes   top1_acc   top5_acc: 100%|██████████| 10/10 [00:07<00:00,  1.27it/s]"
     ]
    },
    {
     "name": "stdout",
     "output_type": "stream",
     "text": [
      "                   all      0.822          1\n"
     ]
    },
    {
     "name": "stderr",
     "output_type": "stream",
     "text": [
      "\n"
     ]
    },
    {
     "name": "stdout",
     "output_type": "stream",
     "text": [
      "\n",
      "60 epochs completed in 1.572 hours.\n",
      "Optimizer stripped from runs\\classify\\train30\\weights\\last.pt, 3.0MB\n",
      "Optimizer stripped from runs\\classify\\train30\\weights\\best.pt, 3.0MB\n",
      "\n",
      "Validating runs\\classify\\train30\\weights\\best.pt...\n",
      "Ultralytics 8.3.31  Python-3.12.1 torch-2.5.1+cpu CPU (Intel Core(TM) i5-6300U 2.40GHz)\n",
      "YOLOv8n-cls summary (fused): 73 layers, 1,441,285 parameters, 0 gradients, 3.3 GFLOPs\n",
      "\u001b[34m\u001b[1mtrain:\u001b[0m E:\\Clg Activities\\Projects\\Cosmetic shade recomender\\Data\\train... found 1025 images in 5 classes  \n",
      "\u001b[34m\u001b[1mval:\u001b[0m E:\\Clg Activities\\Projects\\Cosmetic shade recomender\\Data\\validation... found 314 images in 5 classes  \n",
      "\u001b[34m\u001b[1mtest:\u001b[0m E:\\Clg Activities\\Projects\\Cosmetic shade recomender\\Data\\test... found 173 images in 5 classes  \n"
     ]
    },
    {
     "name": "stderr",
     "output_type": "stream",
     "text": [
      "               classes   top1_acc   top5_acc: 100%|██████████| 10/10 [00:07<00:00,  1.43it/s]\n"
     ]
    },
    {
     "name": "stdout",
     "output_type": "stream",
     "text": [
      "                   all      0.838          1\n",
      "Speed: 0.0ms preprocess, 12.1ms inference, 0.0ms loss, 0.0ms postprocess per image\n",
      "Results saved to \u001b[1mruns\\classify\\train30\u001b[0m\n"
     ]
    },
    {
     "data": {
      "text/plain": [
       "ultralytics.utils.metrics.ClassifyMetrics object with attributes:\n",
       "\n",
       "confusion_matrix: <ultralytics.utils.metrics.ConfusionMatrix object at 0x00000293DABAD520>\n",
       "curves: []\n",
       "curves_results: []\n",
       "fitness: 0.918789803981781\n",
       "keys: ['metrics/accuracy_top1', 'metrics/accuracy_top5']\n",
       "results_dict: {'metrics/accuracy_top1': 0.837579607963562, 'metrics/accuracy_top5': 1.0, 'fitness': 0.918789803981781}\n",
       "save_dir: WindowsPath('runs/classify/train30')\n",
       "speed: {'preprocess': 0.0, 'inference': 12.051134352471419, 'loss': 0.0, 'postprocess': 0.0}\n",
       "task: 'classify'\n",
       "top1: 0.837579607963562\n",
       "top5: 1.0"
      ]
     },
     "execution_count": 2,
     "metadata": {},
     "output_type": "execute_result"
    }
   ],
   "source": [
    "# Load a model\n",
    "model = YOLO('yolov8n-cls.pt')  # load a pretrained model (recommended for training)\n",
    "\n",
    "data = \"E:/Clg Activities/Projects/Cosmetic shade recomender/Data\"\n",
    "# Train the model\n",
    "model.train(data=data , epochs=60)"
   ]
  },
  {
   "cell_type": "code",
   "execution_count": 3,
   "metadata": {},
   "outputs": [],
   "source": [
    "# Load the trained model\n",
    "trained_model = YOLO(r'E:\\Clg Activities\\Projects\\Cosmetic shade recomender\\Project code\\runs\\classify\\train30\\weights\\best.pt')  # Replace with the path to your best model"
   ]
  },
  {
   "cell_type": "code",
   "execution_count": 4,
   "metadata": {},
   "outputs": [
    {
     "name": "stdout",
     "output_type": "stream",
     "text": [
      "\n",
      "image 1/21 E:\\Clg Activities\\Projects\\Cosmetic shade recomender\\Data\\Test\\Dark\\1 - Copy.jpeg: 224x224 Dark 1.00, Medium Dark 0.00, Medium 0.00, Very Fair 0.00, Fair 0.00, 23.7ms\n",
      "image 2/21 E:\\Clg Activities\\Projects\\Cosmetic shade recomender\\Data\\Test\\Dark\\10.jpg: 224x224 Dark 1.00, Medium Dark 0.00, Medium 0.00, Very Fair 0.00, Fair 0.00, 23.7ms\n",
      "image 3/21 E:\\Clg Activities\\Projects\\Cosmetic shade recomender\\Data\\Test\\Dark\\12.jpg: 224x224 Dark 1.00, Fair 0.00, Medium 0.00, Very Fair 0.00, Medium Dark 0.00, 23.7ms\n",
      "image 4/21 E:\\Clg Activities\\Projects\\Cosmetic shade recomender\\Data\\Test\\Dark\\14 - Copy.jpg: 224x224 Dark 1.00, Medium Dark 0.00, Medium 0.00, Very Fair 0.00, Fair 0.00, 23.7ms\n",
      "image 5/21 E:\\Clg Activities\\Projects\\Cosmetic shade recomender\\Data\\Test\\Dark\\19 - Copy.jpeg: 224x224 Dark 1.00, Medium Dark 0.00, Medium 0.00, Very Fair 0.00, Fair 0.00, 23.7ms\n",
      "image 6/21 E:\\Clg Activities\\Projects\\Cosmetic shade recomender\\Data\\Test\\Dark\\24_1_1_20170112204648604.jpg.chip.jpg: 224x224 Dark 1.00, Medium Dark 0.00, Medium 0.00, Very Fair 0.00, Fair 0.00, 22.7ms\n",
      "image 7/21 E:\\Clg Activities\\Projects\\Cosmetic shade recomender\\Data\\Test\\Dark\\25.jpg: 224x224 Dark 1.00, Medium Dark 0.00, Medium 0.00, Fair 0.00, Very Fair 0.00, 22.7ms\n",
      "image 8/21 E:\\Clg Activities\\Projects\\Cosmetic shade recomender\\Data\\Test\\Dark\\26_1_1_20170112210429380.jpg.chip.jpg: 224x224 Dark 1.00, Medium Dark 0.00, Medium 0.00, Very Fair 0.00, Fair 0.00, 22.7ms\n",
      "image 9/21 E:\\Clg Activities\\Projects\\Cosmetic shade recomender\\Data\\Test\\Dark\\26_1_1_20170116223432216.jpg.chip.jpg: 224x224 Dark 1.00, Medium Dark 0.00, Very Fair 0.00, Medium 0.00, Fair 0.00, 22.7ms\n",
      "image 10/21 E:\\Clg Activities\\Projects\\Cosmetic shade recomender\\Data\\Test\\Dark\\3 - Copy.jpeg: 224x224 Dark 1.00, Medium Dark 0.00, Medium 0.00, Very Fair 0.00, Fair 0.00, 22.7ms\n",
      "image 11/21 E:\\Clg Activities\\Projects\\Cosmetic shade recomender\\Data\\Test\\Dark\\372.jpg: 224x224 Dark 1.00, Medium Dark 0.00, Medium 0.00, Fair 0.00, Very Fair 0.00, 33.7ms\n",
      "image 12/21 E:\\Clg Activities\\Projects\\Cosmetic shade recomender\\Data\\Test\\Dark\\373.jpg: 224x224 Dark 1.00, Medium Dark 0.00, Very Fair 0.00, Medium 0.00, Fair 0.00, 33.7ms\n",
      "image 13/21 E:\\Clg Activities\\Projects\\Cosmetic shade recomender\\Data\\Test\\Dark\\4.jpg: 224x224 Dark 1.00, Medium Dark 0.00, Very Fair 0.00, Medium 0.00, Fair 0.00, 33.7ms\n",
      "image 14/21 E:\\Clg Activities\\Projects\\Cosmetic shade recomender\\Data\\Test\\Dark\\436.jpeg: 224x224 Dark 0.99, Medium Dark 0.01, Medium 0.00, Very Fair 0.00, Fair 0.00, 33.7ms\n",
      "image 15/21 E:\\Clg Activities\\Projects\\Cosmetic shade recomender\\Data\\Test\\Dark\\481.jpeg: 224x224 Dark 1.00, Medium Dark 0.00, Medium 0.00, Very Fair 0.00, Fair 0.00, 33.7ms\n",
      "image 16/21 E:\\Clg Activities\\Projects\\Cosmetic shade recomender\\Data\\Test\\Dark\\5 - Copy.jpg: 224x224 Dark 1.00, Medium Dark 0.00, Medium 0.00, Very Fair 0.00, Fair 0.00, 18.3ms\n",
      "image 17/21 E:\\Clg Activities\\Projects\\Cosmetic shade recomender\\Data\\Test\\Dark\\55_1_1_20170116232600318.jpg.chip.jpg: 224x224 Dark 1.00, Medium Dark 0.00, Medium 0.00, Very Fair 0.00, Fair 0.00, 18.3ms\n",
      "image 18/21 E:\\Clg Activities\\Projects\\Cosmetic shade recomender\\Data\\Test\\Dark\\9.jpg: 224x224 Dark 1.00, Medium Dark 0.00, Medium 0.00, Very Fair 0.00, Fair 0.00, 18.3ms\n",
      "image 19/21 E:\\Clg Activities\\Projects\\Cosmetic shade recomender\\Data\\Test\\Dark\\augmented_82223400 - Copy.jpg: 224x224 Dark 1.00, Medium Dark 0.00, Medium 0.00, Fair 0.00, Very Fair 0.00, 18.3ms\n",
      "image 20/21 E:\\Clg Activities\\Projects\\Cosmetic shade recomender\\Data\\Test\\Dark\\augmented_93406560.jpg: 224x224 Dark 1.00, Medium Dark 0.00, Medium 0.00, Very Fair 0.00, Fair 0.00, 18.3ms\n",
      "image 21/21 E:\\Clg Activities\\Projects\\Cosmetic shade recomender\\Data\\Test\\Dark\\augmented_rotation1_62562208.jpg: 224x224 Dark 1.00, Medium Dark 0.00, Very Fair 0.00, Fair 0.00, Medium 0.00, 37.9ms\n",
      "Speed: 13.5ms preprocess, 25.3ms inference, 0.0ms postprocess per image at shape (5, 3, 224, 224)\n",
      "[ultralytics.engine.results.Results object with attributes:\n",
      "\n",
      "boxes: None\n",
      "keypoints: None\n",
      "masks: None\n",
      "names: {0: 'Dark', 1: 'Fair', 2: 'Medium', 3: 'Medium Dark', 4: 'Very Fair'}\n",
      "obb: None\n",
      "orig_img: array([[[ 42,  45,  43],\n",
      "        [ 40,  43,  41],\n",
      "        [ 32,  35,  33],\n",
      "        ...,\n",
      "        [ 16,  28,  30],\n",
      "        [ 46,  58,  60],\n",
      "        [ 26,  38,  40]],\n",
      "\n",
      "       [[ 24,  27,  25],\n",
      "        [ 33,  36,  34],\n",
      "        [ 37,  40,  38],\n",
      "        ...,\n",
      "        [  5,  17,  19],\n",
      "        [ 23,  32,  35],\n",
      "        [ 25,  37,  39]],\n",
      "\n",
      "       [[ 22,  24,  24],\n",
      "        [ 30,  32,  32],\n",
      "        [ 40,  42,  42],\n",
      "        ...,\n",
      "        [ 15,  25,  25],\n",
      "        [  0,   2,   2],\n",
      "        [  7,  17,  17]],\n",
      "\n",
      "       ...,\n",
      "\n",
      "       [[181, 187, 182],\n",
      "        [171, 177, 172],\n",
      "        [176, 183, 180],\n",
      "        ...,\n",
      "        [ 14,  24,  31],\n",
      "        [ 15,  25,  32],\n",
      "        [ 15,  25,  32]],\n",
      "\n",
      "       [[176, 182, 177],\n",
      "        [170, 176, 171],\n",
      "        [163, 170, 167],\n",
      "        ...,\n",
      "        [ 14,  24,  31],\n",
      "        [ 14,  24,  31],\n",
      "        [ 15,  25,  32]],\n",
      "\n",
      "       [[180, 186, 181],\n",
      "        [174, 180, 175],\n",
      "        [178, 185, 182],\n",
      "        ...,\n",
      "        [ 13,  23,  30],\n",
      "        [ 13,  23,  30],\n",
      "        [ 14,  24,  31]]], dtype=uint8)\n",
      "orig_shape: (134, 84)\n",
      "path: 'E:\\\\Clg Activities\\\\Projects\\\\Cosmetic shade recomender\\\\Data\\\\Test\\\\Dark\\\\1 - Copy.jpeg'\n",
      "probs: ultralytics.engine.results.Probs object\n",
      "save_dir: 'runs\\\\classify\\\\predict'\n",
      "speed: {'preprocess': 34.10935401916504, 'inference': 23.736143112182617, 'postprocess': 0.0}, ultralytics.engine.results.Results object with attributes:\n",
      "\n",
      "boxes: None\n",
      "keypoints: None\n",
      "masks: None\n",
      "names: {0: 'Dark', 1: 'Fair', 2: 'Medium', 3: 'Medium Dark', 4: 'Very Fair'}\n",
      "obb: None\n",
      "orig_img: array([[[154, 147, 150],\n",
      "        [139, 132, 135],\n",
      "        [122, 116, 121],\n",
      "        ...,\n",
      "        [153, 151, 151],\n",
      "        [153, 151, 151],\n",
      "        [171, 171, 171]],\n",
      "\n",
      "       [[150, 143, 146],\n",
      "        [130, 125, 127],\n",
      "        [118, 112, 117],\n",
      "        ...,\n",
      "        [154, 152, 152],\n",
      "        [152, 150, 150],\n",
      "        [161, 161, 161]],\n",
      "\n",
      "       [[145, 140, 142],\n",
      "        [124, 119, 121],\n",
      "        [112, 106, 111],\n",
      "        ...,\n",
      "        [151, 149, 149],\n",
      "        [151, 149, 149],\n",
      "        [156, 154, 154]],\n",
      "\n",
      "       ...,\n",
      "\n",
      "       [[ 29,  30,  44],\n",
      "        [ 30,  31,  45],\n",
      "        [ 29,  32,  46],\n",
      "        ...,\n",
      "        [ 91,  96,  99],\n",
      "        [ 89,  94,  97],\n",
      "        [ 59,  64,  67]],\n",
      "\n",
      "       [[ 29,  30,  44],\n",
      "        [ 29,  30,  44],\n",
      "        [ 28,  31,  45],\n",
      "        ...,\n",
      "        [116, 121, 124],\n",
      "        [ 85,  90,  93],\n",
      "        [ 52,  57,  60]],\n",
      "\n",
      "       [[ 29,  30,  44],\n",
      "        [ 29,  30,  44],\n",
      "        [ 28,  31,  45],\n",
      "        ...,\n",
      "        [169, 174, 177],\n",
      "        [ 90,  95,  98],\n",
      "        [ 90,  95,  98]]], dtype=uint8)\n",
      "orig_shape: (328, 173)\n",
      "path: 'E:\\\\Clg Activities\\\\Projects\\\\Cosmetic shade recomender\\\\Data\\\\Test\\\\Dark\\\\10.jpg'\n",
      "probs: ultralytics.engine.results.Probs object\n",
      "save_dir: 'runs\\\\classify\\\\predict'\n",
      "speed: {'preprocess': 34.10935401916504, 'inference': 23.736143112182617, 'postprocess': 0.0}, ultralytics.engine.results.Results object with attributes:\n",
      "\n",
      "boxes: None\n",
      "keypoints: None\n",
      "masks: None\n",
      "names: {0: 'Dark', 1: 'Fair', 2: 'Medium', 3: 'Medium Dark', 4: 'Very Fair'}\n",
      "obb: None\n",
      "orig_img: array([[[ 18,  18,  18],\n",
      "        [ 18,  18,  18],\n",
      "        [ 18,  18,  18],\n",
      "        ...,\n",
      "        [ 99, 141,   2],\n",
      "        [ 99, 141,   2],\n",
      "        [ 99, 142,   1]],\n",
      "\n",
      "       [[ 18,  18,  18],\n",
      "        [ 18,  18,  18],\n",
      "        [ 18,  18,  18],\n",
      "        ...,\n",
      "        [ 99, 141,   2],\n",
      "        [ 99, 142,   1],\n",
      "        [ 99, 142,   1]],\n",
      "\n",
      "       [[ 18,  18,  18],\n",
      "        [ 18,  18,  18],\n",
      "        [ 19,  19,  19],\n",
      "        ...,\n",
      "        [ 99, 142,   1],\n",
      "        [ 99, 142,   1],\n",
      "        [ 99, 142,   1]],\n",
      "\n",
      "       ...,\n",
      "\n",
      "       [[ 12,  12,  12],\n",
      "        [ 11,  11,  11],\n",
      "        [  9,   9,   9],\n",
      "        ...,\n",
      "        [ 89, 130,   1],\n",
      "        [ 91, 130,   1],\n",
      "        [ 91, 130,   1]],\n",
      "\n",
      "       [[ 12,  12,  12],\n",
      "        [ 11,  11,  11],\n",
      "        [  9,   9,   9],\n",
      "        ...,\n",
      "        [ 89, 130,   1],\n",
      "        [ 91, 130,   1],\n",
      "        [ 91, 130,   1]],\n",
      "\n",
      "       [[ 13,  13,  13],\n",
      "        [ 11,  11,  11],\n",
      "        [ 10,  10,  10],\n",
      "        ...,\n",
      "        [ 89, 130,   3],\n",
      "        [ 91, 130,   1],\n",
      "        [ 91, 130,   1]]], dtype=uint8)\n",
      "orig_shape: (133, 98)\n",
      "path: 'E:\\\\Clg Activities\\\\Projects\\\\Cosmetic shade recomender\\\\Data\\\\Test\\\\Dark\\\\12.jpg'\n",
      "probs: ultralytics.engine.results.Probs object\n",
      "save_dir: 'runs\\\\classify\\\\predict'\n",
      "speed: {'preprocess': 34.10935401916504, 'inference': 23.736143112182617, 'postprocess': 0.0}, ultralytics.engine.results.Results object with attributes:\n",
      "\n",
      "boxes: None\n",
      "keypoints: None\n",
      "masks: None\n",
      "names: {0: 'Dark', 1: 'Fair', 2: 'Medium', 3: 'Medium Dark', 4: 'Very Fair'}\n",
      "obb: None\n",
      "orig_img: array([[[32, 31, 17],\n",
      "        [32, 31, 17],\n",
      "        [32, 31, 17],\n",
      "        ...,\n",
      "        [34, 31, 27],\n",
      "        [34, 31, 27],\n",
      "        [37, 34, 30]],\n",
      "\n",
      "       [[31, 30, 16],\n",
      "        [32, 31, 17],\n",
      "        [32, 31, 17],\n",
      "        ...,\n",
      "        [35, 32, 28],\n",
      "        [35, 32, 28],\n",
      "        [38, 35, 31]],\n",
      "\n",
      "       [[31, 31, 15],\n",
      "        [32, 32, 16],\n",
      "        [32, 32, 16],\n",
      "        ...,\n",
      "        [34, 31, 27],\n",
      "        [36, 33, 29],\n",
      "        [40, 37, 33]],\n",
      "\n",
      "       ...,\n",
      "\n",
      "       [[ 9, 11, 12],\n",
      "        [ 8, 10, 11],\n",
      "        [ 7,  9, 10],\n",
      "        ...,\n",
      "        [ 3,  5,  5],\n",
      "        [28, 30, 30],\n",
      "        [13, 15, 15]],\n",
      "\n",
      "       [[11, 13, 14],\n",
      "        [10, 12, 13],\n",
      "        [ 8, 10, 11],\n",
      "        ...,\n",
      "        [ 2,  4,  4],\n",
      "        [14, 16, 16],\n",
      "        [20, 22, 22]],\n",
      "\n",
      "       [[13, 15, 16],\n",
      "        [11, 13, 14],\n",
      "        [ 9, 11, 12],\n",
      "        ...,\n",
      "        [ 3,  5,  5],\n",
      "        [ 0,  2,  2],\n",
      "        [23, 25, 25]]], dtype=uint8)\n",
      "orig_shape: (240, 429)\n",
      "path: 'E:\\\\Clg Activities\\\\Projects\\\\Cosmetic shade recomender\\\\Data\\\\Test\\\\Dark\\\\14 - Copy.jpg'\n",
      "probs: ultralytics.engine.results.Probs object\n",
      "save_dir: 'runs\\\\classify\\\\predict'\n",
      "speed: {'preprocess': 34.10935401916504, 'inference': 23.736143112182617, 'postprocess': 0.0}, ultralytics.engine.results.Results object with attributes:\n",
      "\n",
      "boxes: None\n",
      "keypoints: None\n",
      "masks: None\n",
      "names: {0: 'Dark', 1: 'Fair', 2: 'Medium', 3: 'Medium Dark', 4: 'Very Fair'}\n",
      "obb: None\n",
      "orig_img: array([[[ 19,  17,  23],\n",
      "        [ 22,  20,  26],\n",
      "        [ 26,  24,  30],\n",
      "        ...,\n",
      "        [  7,   6,  15],\n",
      "        [  7,   6,  15],\n",
      "        [  6,   5,  14]],\n",
      "\n",
      "       [[ 26,  24,  30],\n",
      "        [ 25,  23,  29],\n",
      "        [ 23,  21,  27],\n",
      "        ...,\n",
      "        [  6,   5,  14],\n",
      "        [  6,   5,  14],\n",
      "        [  6,   5,  14]],\n",
      "\n",
      "       [[ 29,  27,  33],\n",
      "        [ 24,  22,  28],\n",
      "        [ 19,  17,  23],\n",
      "        ...,\n",
      "        [  6,   6,  12],\n",
      "        [  6,   6,  12],\n",
      "        [  5,   5,  11]],\n",
      "\n",
      "       ...,\n",
      "\n",
      "       [[ 63,  66,  74],\n",
      "        [ 29,  32,  40],\n",
      "        [ 47,  49,  59],\n",
      "        ...,\n",
      "        [ 53,  58,  67],\n",
      "        [107, 111, 116],\n",
      "        [116, 120, 125]],\n",
      "\n",
      "       [[ 81,  84,  92],\n",
      "        [ 68,  71,  79],\n",
      "        [ 84,  86,  97],\n",
      "        ...,\n",
      "        [ 76,  78,  88],\n",
      "        [111, 115, 120],\n",
      "        [ 98, 102, 107]],\n",
      "\n",
      "       [[ 59,  62,  70],\n",
      "        [ 85,  88,  96],\n",
      "        [121, 123, 134],\n",
      "        ...,\n",
      "        [ 92,  94, 104],\n",
      "        [109, 113, 118],\n",
      "        [ 74,  78,  83]]], dtype=uint8)\n",
      "orig_shape: (99, 99)\n",
      "path: 'E:\\\\Clg Activities\\\\Projects\\\\Cosmetic shade recomender\\\\Data\\\\Test\\\\Dark\\\\19 - Copy.jpeg'\n",
      "probs: ultralytics.engine.results.Probs object\n",
      "save_dir: 'runs\\\\classify\\\\predict'\n",
      "speed: {'preprocess': 34.10935401916504, 'inference': 23.736143112182617, 'postprocess': 0.0}, ultralytics.engine.results.Results object with attributes:\n",
      "\n",
      "boxes: None\n",
      "keypoints: None\n",
      "masks: None\n",
      "names: {0: 'Dark', 1: 'Fair', 2: 'Medium', 3: 'Medium Dark', 4: 'Very Fair'}\n",
      "obb: None\n",
      "orig_img: array([[[ 84, 184, 219],\n",
      "        [ 70, 170, 205],\n",
      "        [ 66, 163, 197],\n",
      "        ...,\n",
      "        [  4,  21,  47],\n",
      "        [  7,  42,  76],\n",
      "        [ 64, 108, 145]],\n",
      "\n",
      "       [[ 73, 172, 210],\n",
      "        [ 71, 168, 204],\n",
      "        [ 66, 162, 198],\n",
      "        ...,\n",
      "        [  0,  11,  39],\n",
      "        [  0,  28,  61],\n",
      "        [ 47,  89, 124]],\n",
      "\n",
      "       [[ 66, 162, 202],\n",
      "        [ 69, 165, 205],\n",
      "        [ 67, 162, 201],\n",
      "        ...,\n",
      "        [  0,   9,  37],\n",
      "        [  0,  17,  48],\n",
      "        [ 32,  69, 103]],\n",
      "\n",
      "       ...,\n",
      "\n",
      "       [[ 72, 133, 195],\n",
      "        [ 56, 117, 181],\n",
      "        [ 43, 101, 167],\n",
      "        ...,\n",
      "        [ 35,  99, 170],\n",
      "        [ 37, 105, 178],\n",
      "        [ 39, 106, 181]],\n",
      "\n",
      "       [[ 72, 133, 195],\n",
      "        [ 58, 119, 183],\n",
      "        [ 46, 104, 170],\n",
      "        ...,\n",
      "        [ 36,  98, 169],\n",
      "        [ 42, 105, 179],\n",
      "        [ 43, 108, 183]],\n",
      "\n",
      "       [[ 72, 133, 195],\n",
      "        [ 59, 120, 184],\n",
      "        [ 48, 106, 172],\n",
      "        ...,\n",
      "        [ 42, 104, 175],\n",
      "        [ 48, 109, 183],\n",
      "        [ 49, 111, 187]]], dtype=uint8)\n",
      "orig_shape: (176, 146)\n",
      "path: 'E:\\\\Clg Activities\\\\Projects\\\\Cosmetic shade recomender\\\\Data\\\\Test\\\\Dark\\\\24_1_1_20170112204648604.jpg.chip.jpg'\n",
      "probs: ultralytics.engine.results.Probs object\n",
      "save_dir: 'runs\\\\classify\\\\predict'\n",
      "speed: {'preprocess': 6.981515884399414, 'inference': 22.739553451538086, 'postprocess': 0.0}, ultralytics.engine.results.Results object with attributes:\n",
      "\n",
      "boxes: None\n",
      "keypoints: None\n",
      "masks: None\n",
      "names: {0: 'Dark', 1: 'Fair', 2: 'Medium', 3: 'Medium Dark', 4: 'Very Fair'}\n",
      "obb: None\n",
      "orig_img: array([[[133, 134, 138],\n",
      "        [251, 252, 255],\n",
      "        [242, 244, 245],\n",
      "        ...,\n",
      "        [ 31,  33,  34],\n",
      "        [ 37,  39,  40],\n",
      "        [ 46,  45,  49]],\n",
      "\n",
      "       [[131, 132, 136],\n",
      "        [251, 252, 255],\n",
      "        [244, 246, 247],\n",
      "        ...,\n",
      "        [ 31,  33,  34],\n",
      "        [ 31,  33,  34],\n",
      "        [ 45,  44,  48]],\n",
      "\n",
      "       [[129, 130, 134],\n",
      "        [251, 252, 255],\n",
      "        [245, 247, 248],\n",
      "        ...,\n",
      "        [ 31,  30,  34],\n",
      "        [ 38,  37,  41],\n",
      "        [ 41,  37,  43]],\n",
      "\n",
      "       ...,\n",
      "\n",
      "       [[184, 186, 196],\n",
      "        [247, 250, 255],\n",
      "        [242, 247, 248],\n",
      "        ...,\n",
      "        [210, 206, 201],\n",
      "        [210, 206, 201],\n",
      "        [210, 206, 201]],\n",
      "\n",
      "       [[184, 186, 196],\n",
      "        [247, 250, 255],\n",
      "        [242, 247, 248],\n",
      "        ...,\n",
      "        [210, 206, 201],\n",
      "        [210, 206, 201],\n",
      "        [210, 206, 201]],\n",
      "\n",
      "       [[184, 186, 196],\n",
      "        [247, 250, 255],\n",
      "        [242, 247, 248],\n",
      "        ...,\n",
      "        [210, 206, 201],\n",
      "        [210, 206, 201],\n",
      "        [210, 206, 201]]], dtype=uint8)\n",
      "orig_shape: (342, 431)\n",
      "path: 'E:\\\\Clg Activities\\\\Projects\\\\Cosmetic shade recomender\\\\Data\\\\Test\\\\Dark\\\\25.jpg'\n",
      "probs: ultralytics.engine.results.Probs object\n",
      "save_dir: 'runs\\\\classify\\\\predict'\n",
      "speed: {'preprocess': 6.981515884399414, 'inference': 22.739553451538086, 'postprocess': 0.0}, ultralytics.engine.results.Results object with attributes:\n",
      "\n",
      "boxes: None\n",
      "keypoints: None\n",
      "masks: None\n",
      "names: {0: 'Dark', 1: 'Fair', 2: 'Medium', 3: 'Medium Dark', 4: 'Very Fair'}\n",
      "obb: None\n",
      "orig_img: array([[[  0,   3,   1],\n",
      "        [  0,   3,   1],\n",
      "        [  0,   2,   0],\n",
      "        ...,\n",
      "        [ 83, 139, 144],\n",
      "        [103, 161, 166],\n",
      "        [111, 172, 176]],\n",
      "\n",
      "       [[  0,   3,   1],\n",
      "        [  0,   3,   1],\n",
      "        [  0,   3,   1],\n",
      "        ...,\n",
      "        [ 77, 133, 138],\n",
      "        [ 98, 156, 161],\n",
      "        [107, 168, 172]],\n",
      "\n",
      "       [[  0,   3,   1],\n",
      "        [  0,   3,   1],\n",
      "        [  0,   3,   1],\n",
      "        ...,\n",
      "        [ 70, 125, 130],\n",
      "        [ 93, 149, 154],\n",
      "        [103, 161, 166]],\n",
      "\n",
      "       ...,\n",
      "\n",
      "       [[113, 180, 175],\n",
      "        [113, 180, 175],\n",
      "        [111, 181, 175],\n",
      "        ...,\n",
      "        [107, 176, 179],\n",
      "        [103, 172, 175],\n",
      "        [ 98, 168, 168]],\n",
      "\n",
      "       [[117, 184, 179],\n",
      "        [115, 182, 177],\n",
      "        [113, 183, 177],\n",
      "        ...,\n",
      "        [118, 185, 186],\n",
      "        [110, 177, 178],\n",
      "        [102, 170, 169]],\n",
      "\n",
      "       [[119, 186, 181],\n",
      "        [117, 184, 179],\n",
      "        [113, 183, 177],\n",
      "        ...,\n",
      "        [118, 185, 186],\n",
      "        [111, 179, 178],\n",
      "        [103, 171, 170]]], dtype=uint8)\n",
      "orig_shape: (178, 168)\n",
      "path: 'E:\\\\Clg Activities\\\\Projects\\\\Cosmetic shade recomender\\\\Data\\\\Test\\\\Dark\\\\26_1_1_20170112210429380.jpg.chip.jpg'\n",
      "probs: ultralytics.engine.results.Probs object\n",
      "save_dir: 'runs\\\\classify\\\\predict'\n",
      "speed: {'preprocess': 6.981515884399414, 'inference': 22.739553451538086, 'postprocess': 0.0}, ultralytics.engine.results.Results object with attributes:\n",
      "\n",
      "boxes: None\n",
      "keypoints: None\n",
      "masks: None\n",
      "names: {0: 'Dark', 1: 'Fair', 2: 'Medium', 3: 'Medium Dark', 4: 'Very Fair'}\n",
      "obb: None\n",
      "orig_img: array([[[ 2,  2,  2],\n",
      "        [ 2,  2,  2],\n",
      "        [ 2,  2,  2],\n",
      "        ...,\n",
      "        [ 0,  0,  0],\n",
      "        [ 0,  0,  0],\n",
      "        [ 0,  0,  0]],\n",
      "\n",
      "       [[ 2,  2,  2],\n",
      "        [ 2,  2,  2],\n",
      "        [ 2,  2,  2],\n",
      "        ...,\n",
      "        [ 0,  0,  0],\n",
      "        [ 0,  0,  0],\n",
      "        [ 0,  0,  0]],\n",
      "\n",
      "       [[ 2,  2,  2],\n",
      "        [ 2,  2,  2],\n",
      "        [ 2,  2,  2],\n",
      "        ...,\n",
      "        [ 0,  0,  0],\n",
      "        [ 0,  0,  0],\n",
      "        [ 0,  0,  0]],\n",
      "\n",
      "       ...,\n",
      "\n",
      "       [[10, 18, 17],\n",
      "        [31, 39, 38],\n",
      "        [72, 77, 78],\n",
      "        ...,\n",
      "        [ 0,  0,  0],\n",
      "        [ 0,  0,  0],\n",
      "        [ 0,  0,  0]],\n",
      "\n",
      "       [[10, 16, 15],\n",
      "        [30, 36, 35],\n",
      "        [63, 69, 68],\n",
      "        ...,\n",
      "        [ 0,  0,  0],\n",
      "        [ 0,  0,  0],\n",
      "        [ 0,  0,  0]],\n",
      "\n",
      "       [[11, 17, 16],\n",
      "        [20, 26, 25],\n",
      "        [48, 54, 53],\n",
      "        ...,\n",
      "        [ 0,  0,  0],\n",
      "        [ 0,  0,  0],\n",
      "        [ 0,  0,  0]]], dtype=uint8)\n",
      "orig_shape: (200, 200)\n",
      "path: 'E:\\\\Clg Activities\\\\Projects\\\\Cosmetic shade recomender\\\\Data\\\\Test\\\\Dark\\\\26_1_1_20170116223432216.jpg.chip.jpg'\n",
      "probs: ultralytics.engine.results.Probs object\n",
      "save_dir: 'runs\\\\classify\\\\predict'\n",
      "speed: {'preprocess': 6.981515884399414, 'inference': 22.739553451538086, 'postprocess': 0.0}, ultralytics.engine.results.Results object with attributes:\n",
      "\n",
      "boxes: None\n",
      "keypoints: None\n",
      "masks: None\n",
      "names: {0: 'Dark', 1: 'Fair', 2: 'Medium', 3: 'Medium Dark', 4: 'Very Fair'}\n",
      "obb: None\n",
      "orig_img: array([[[ 7, 17, 27],\n",
      "        [ 6, 16, 26],\n",
      "        [ 8, 18, 28],\n",
      "        ...,\n",
      "        [46, 61, 93],\n",
      "        [32, 47, 79],\n",
      "        [41, 56, 88]],\n",
      "\n",
      "       [[ 8, 18, 28],\n",
      "        [ 6, 16, 26],\n",
      "        [ 8, 18, 28],\n",
      "        ...,\n",
      "        [38, 53, 85],\n",
      "        [45, 60, 92],\n",
      "        [29, 44, 76]],\n",
      "\n",
      "       [[ 9, 19, 29],\n",
      "        [ 7, 17, 27],\n",
      "        [ 8, 18, 28],\n",
      "        ...,\n",
      "        [29, 42, 74],\n",
      "        [39, 52, 84],\n",
      "        [44, 57, 89]],\n",
      "\n",
      "       ...,\n",
      "\n",
      "       [[ 3,  3,  3],\n",
      "        [ 3,  3,  3],\n",
      "        [ 2,  2,  2],\n",
      "        ...,\n",
      "        [ 3,  7, 18],\n",
      "        [ 4,  8, 19],\n",
      "        [ 5,  9, 20]],\n",
      "\n",
      "       [[ 3,  3,  3],\n",
      "        [ 3,  3,  3],\n",
      "        [ 2,  2,  2],\n",
      "        ...,\n",
      "        [ 4,  8, 19],\n",
      "        [ 5,  9, 20],\n",
      "        [ 6, 10, 21]],\n",
      "\n",
      "       [[ 3,  3,  3],\n",
      "        [ 3,  3,  3],\n",
      "        [ 2,  2,  2],\n",
      "        ...,\n",
      "        [ 6,  9, 23],\n",
      "        [ 7, 10, 24],\n",
      "        [ 8, 11, 25]]], dtype=uint8)\n",
      "orig_shape: (543, 329)\n",
      "path: 'E:\\\\Clg Activities\\\\Projects\\\\Cosmetic shade recomender\\\\Data\\\\Test\\\\Dark\\\\3 - Copy.jpeg'\n",
      "probs: ultralytics.engine.results.Probs object\n",
      "save_dir: 'runs\\\\classify\\\\predict'\n",
      "speed: {'preprocess': 6.981515884399414, 'inference': 22.739553451538086, 'postprocess': 0.0}, ultralytics.engine.results.Results object with attributes:\n",
      "\n",
      "boxes: None\n",
      "keypoints: None\n",
      "masks: None\n",
      "names: {0: 'Dark', 1: 'Fair', 2: 'Medium', 3: 'Medium Dark', 4: 'Very Fair'}\n",
      "obb: None\n",
      "orig_img: array([[[13, 13, 13],\n",
      "        [10, 10, 10],\n",
      "        [ 5,  5,  5],\n",
      "        ...,\n",
      "        [14, 19, 18],\n",
      "        [26, 32, 31],\n",
      "        [36, 43, 46]],\n",
      "\n",
      "       [[12, 12, 12],\n",
      "        [ 9,  9,  9],\n",
      "        [ 5,  5,  5],\n",
      "        ...,\n",
      "        [18, 23, 22],\n",
      "        [29, 35, 34],\n",
      "        [42, 49, 52]],\n",
      "\n",
      "       [[ 9,  9,  9],\n",
      "        [ 8,  8,  8],\n",
      "        [ 5,  5,  5],\n",
      "        ...,\n",
      "        [17, 22, 21],\n",
      "        [28, 34, 33],\n",
      "        [41, 48, 51]],\n",
      "\n",
      "       ...,\n",
      "\n",
      "       [[41, 44, 58],\n",
      "        [40, 43, 57],\n",
      "        [38, 44, 57],\n",
      "        ...,\n",
      "        [48, 55, 72],\n",
      "        [48, 55, 72],\n",
      "        [47, 54, 71]],\n",
      "\n",
      "       [[42, 45, 59],\n",
      "        [41, 44, 58],\n",
      "        [38, 44, 57],\n",
      "        ...,\n",
      "        [49, 56, 73],\n",
      "        [50, 57, 74],\n",
      "        [47, 54, 71]],\n",
      "\n",
      "       [[43, 46, 60],\n",
      "        [41, 44, 58],\n",
      "        [39, 42, 56],\n",
      "        ...,\n",
      "        [48, 55, 72],\n",
      "        [49, 56, 71],\n",
      "        [47, 54, 69]]], dtype=uint8)\n",
      "orig_shape: (465, 377)\n",
      "path: 'E:\\\\Clg Activities\\\\Projects\\\\Cosmetic shade recomender\\\\Data\\\\Test\\\\Dark\\\\372.jpg'\n",
      "probs: ultralytics.engine.results.Probs object\n",
      "save_dir: 'runs\\\\classify\\\\predict'\n",
      "speed: {'preprocess': 8.377647399902344, 'inference': 33.70976448059082, 'postprocess': 0.20008087158203125}, ultralytics.engine.results.Results object with attributes:\n",
      "\n",
      "boxes: None\n",
      "keypoints: None\n",
      "masks: None\n",
      "names: {0: 'Dark', 1: 'Fair', 2: 'Medium', 3: 'Medium Dark', 4: 'Very Fair'}\n",
      "obb: None\n",
      "orig_img: array([[[ 71,  89, 154],\n",
      "        [ 62,  80, 141],\n",
      "        [ 48,  65, 116],\n",
      "        ...,\n",
      "        [ 33,  32,  36],\n",
      "        [ 33,  32,  36],\n",
      "        [ 31,  30,  34]],\n",
      "\n",
      "       [[ 65,  82, 145],\n",
      "        [ 54,  70, 129],\n",
      "        [ 38,  53, 102],\n",
      "        ...,\n",
      "        [ 34,  33,  37],\n",
      "        [ 35,  34,  38],\n",
      "        [ 34,  33,  37]],\n",
      "\n",
      "       [[ 57,  71, 130],\n",
      "        [ 45,  58, 114],\n",
      "        [ 26,  40,  88],\n",
      "        ...,\n",
      "        [ 35,  34,  36],\n",
      "        [ 37,  36,  38],\n",
      "        [ 38,  37,  39]],\n",
      "\n",
      "       ...,\n",
      "\n",
      "       [[ 23,  21,  21],\n",
      "        [ 25,  23,  23],\n",
      "        [ 29,  27,  27],\n",
      "        ...,\n",
      "        [ 46,  46,  70],\n",
      "        [ 45,  43,  65],\n",
      "        [ 43,  41,  63]],\n",
      "\n",
      "       [[ 22,  20,  20],\n",
      "        [ 23,  21,  21],\n",
      "        [ 25,  23,  23],\n",
      "        ...,\n",
      "        [ 44,  46,  70],\n",
      "        [ 43,  44,  65],\n",
      "        [ 41,  42,  63]],\n",
      "\n",
      "       [[ 22,  20,  20],\n",
      "        [ 22,  20,  20],\n",
      "        [ 22,  20,  20],\n",
      "        ...,\n",
      "        [ 44,  46,  70],\n",
      "        [ 43,  44,  65],\n",
      "        [ 41,  42,  63]]], dtype=uint8)\n",
      "orig_shape: (272, 179)\n",
      "path: 'E:\\\\Clg Activities\\\\Projects\\\\Cosmetic shade recomender\\\\Data\\\\Test\\\\Dark\\\\373.jpg'\n",
      "probs: ultralytics.engine.results.Probs object\n",
      "save_dir: 'runs\\\\classify\\\\predict'\n",
      "speed: {'preprocess': 8.377647399902344, 'inference': 33.70976448059082, 'postprocess': 0.20008087158203125}, ultralytics.engine.results.Results object with attributes:\n",
      "\n",
      "boxes: None\n",
      "keypoints: None\n",
      "masks: None\n",
      "names: {0: 'Dark', 1: 'Fair', 2: 'Medium', 3: 'Medium Dark', 4: 'Very Fair'}\n",
      "obb: None\n",
      "orig_img: array([[[225, 227, 228],\n",
      "        [225, 227, 228],\n",
      "        [225, 227, 228],\n",
      "        ...,\n",
      "        [ 73,  80, 107],\n",
      "        [ 69,  75, 104],\n",
      "        [ 49,  55,  84]],\n",
      "\n",
      "       [[225, 227, 228],\n",
      "        [225, 227, 228],\n",
      "        [225, 227, 228],\n",
      "        ...,\n",
      "        [ 59,  66,  93],\n",
      "        [ 66,  72, 101],\n",
      "        [ 59,  65,  94]],\n",
      "\n",
      "       [[225, 227, 228],\n",
      "        [225, 227, 228],\n",
      "        [225, 227, 228],\n",
      "        ...,\n",
      "        [ 56,  63,  90],\n",
      "        [ 55,  62,  89],\n",
      "        [ 54,  61,  88]],\n",
      "\n",
      "       ...,\n",
      "\n",
      "       [[ 76,  80, 108],\n",
      "        [ 75,  80, 105],\n",
      "        [ 74,  78, 106],\n",
      "        ...,\n",
      "        [192, 195, 203],\n",
      "        [222, 226, 231],\n",
      "        [222, 226, 231]],\n",
      "\n",
      "       [[ 72,  76, 104],\n",
      "        [ 73,  77, 105],\n",
      "        [ 74,  78, 106],\n",
      "        ...,\n",
      "        [194, 197, 205],\n",
      "        [225, 228, 233],\n",
      "        [224, 227, 232]],\n",
      "\n",
      "       [[ 68,  72, 100],\n",
      "        [ 70,  74, 102],\n",
      "        [ 73,  77, 105],\n",
      "        ...,\n",
      "        [198, 201, 209],\n",
      "        [226, 229, 234],\n",
      "        [225, 228, 233]]], dtype=uint8)\n",
      "orig_shape: (627, 300)\n",
      "path: 'E:\\\\Clg Activities\\\\Projects\\\\Cosmetic shade recomender\\\\Data\\\\Test\\\\Dark\\\\4.jpg'\n",
      "probs: ultralytics.engine.results.Probs object\n",
      "save_dir: 'runs\\\\classify\\\\predict'\n",
      "speed: {'preprocess': 8.377647399902344, 'inference': 33.70976448059082, 'postprocess': 0.20008087158203125}, ultralytics.engine.results.Results object with attributes:\n",
      "\n",
      "boxes: None\n",
      "keypoints: None\n",
      "masks: None\n",
      "names: {0: 'Dark', 1: 'Fair', 2: 'Medium', 3: 'Medium Dark', 4: 'Very Fair'}\n",
      "obb: None\n",
      "orig_img: array([[[118, 125, 144],\n",
      "        [116, 123, 142],\n",
      "        [115, 122, 141],\n",
      "        ...,\n",
      "        [ 28,  32,  33],\n",
      "        [ 31,  35,  36],\n",
      "        [ 32,  36,  37]],\n",
      "\n",
      "       [[119, 126, 145],\n",
      "        [119, 126, 145],\n",
      "        [118, 125, 144],\n",
      "        ...,\n",
      "        [ 22,  26,  27],\n",
      "        [ 26,  30,  31],\n",
      "        [ 29,  33,  34]],\n",
      "\n",
      "       [[115, 122, 141],\n",
      "        [120, 127, 146],\n",
      "        [121, 128, 147],\n",
      "        ...,\n",
      "        [ 27,  31,  32],\n",
      "        [ 28,  32,  33],\n",
      "        [ 27,  31,  32]],\n",
      "\n",
      "       ...,\n",
      "\n",
      "       [[ 24,  35,  55],\n",
      "        [ 23,  34,  54],\n",
      "        [ 22,  33,  55],\n",
      "        ...,\n",
      "        [ 18,  29,  49],\n",
      "        [ 18,  29,  49],\n",
      "        [ 18,  29,  49]],\n",
      "\n",
      "       [[ 25,  36,  56],\n",
      "        [ 24,  35,  55],\n",
      "        [ 23,  34,  56],\n",
      "        ...,\n",
      "        [ 18,  29,  49],\n",
      "        [ 18,  29,  49],\n",
      "        [ 18,  29,  49]],\n",
      "\n",
      "       [[ 27,  38,  58],\n",
      "        [ 25,  36,  56],\n",
      "        [ 24,  35,  55],\n",
      "        ...,\n",
      "        [ 18,  29,  49],\n",
      "        [ 18,  29,  49],\n",
      "        [ 18,  29,  49]]], dtype=uint8)\n",
      "orig_shape: (443, 223)\n",
      "path: 'E:\\\\Clg Activities\\\\Projects\\\\Cosmetic shade recomender\\\\Data\\\\Test\\\\Dark\\\\436.jpeg'\n",
      "probs: ultralytics.engine.results.Probs object\n",
      "save_dir: 'runs\\\\classify\\\\predict'\n",
      "speed: {'preprocess': 8.377647399902344, 'inference': 33.70976448059082, 'postprocess': 0.20008087158203125}, ultralytics.engine.results.Results object with attributes:\n",
      "\n",
      "boxes: None\n",
      "keypoints: None\n",
      "masks: None\n",
      "names: {0: 'Dark', 1: 'Fair', 2: 'Medium', 3: 'Medium Dark', 4: 'Very Fair'}\n",
      "obb: None\n",
      "orig_img: array([[[31, 25, 26],\n",
      "        [26, 20, 21],\n",
      "        [25, 19, 20],\n",
      "        ...,\n",
      "        [21, 15, 16],\n",
      "        [36, 30, 31],\n",
      "        [27, 21, 22]],\n",
      "\n",
      "       [[ 9,  3,  4],\n",
      "        [13,  7,  8],\n",
      "        [11,  5,  6],\n",
      "        ...,\n",
      "        [18, 12, 13],\n",
      "        [21, 15, 16],\n",
      "        [23, 17, 18]],\n",
      "\n",
      "       [[28, 23, 24],\n",
      "        [39, 34, 35],\n",
      "        [22, 17, 18],\n",
      "        ...,\n",
      "        [32, 27, 28],\n",
      "        [30, 25, 26],\n",
      "        [22, 17, 18]],\n",
      "\n",
      "       ...,\n",
      "\n",
      "       [[ 0,  1,  5],\n",
      "        [ 0,  0,  4],\n",
      "        [ 0,  0,  5],\n",
      "        ...,\n",
      "        [19, 15, 14],\n",
      "        [15, 10, 11],\n",
      "        [12,  7,  8]],\n",
      "\n",
      "       [[ 0,  1,  5],\n",
      "        [ 0,  0,  4],\n",
      "        [ 0,  0,  5],\n",
      "        ...,\n",
      "        [21, 17, 16],\n",
      "        [17, 12, 13],\n",
      "        [14,  9, 10]],\n",
      "\n",
      "       [[ 2,  3,  7],\n",
      "        [ 1,  2,  6],\n",
      "        [ 3,  1,  7],\n",
      "        ...,\n",
      "        [24, 19, 18],\n",
      "        [19, 14, 15],\n",
      "        [16, 11, 12]]], dtype=uint8)\n",
      "orig_shape: (127, 62)\n",
      "path: 'E:\\\\Clg Activities\\\\Projects\\\\Cosmetic shade recomender\\\\Data\\\\Test\\\\Dark\\\\481.jpeg'\n",
      "probs: ultralytics.engine.results.Probs object\n",
      "save_dir: 'runs\\\\classify\\\\predict'\n",
      "speed: {'preprocess': 8.377647399902344, 'inference': 33.70976448059082, 'postprocess': 0.20008087158203125}, ultralytics.engine.results.Results object with attributes:\n",
      "\n",
      "boxes: None\n",
      "keypoints: None\n",
      "masks: None\n",
      "names: {0: 'Dark', 1: 'Fair', 2: 'Medium', 3: 'Medium Dark', 4: 'Very Fair'}\n",
      "obb: None\n",
      "orig_img: array([[[ 68, 107, 139],\n",
      "        [ 83, 122, 154],\n",
      "        [ 72, 110, 142],\n",
      "        ...,\n",
      "        [ 86,  92, 105],\n",
      "        [ 82,  88, 101],\n",
      "        [ 68,  74,  87]],\n",
      "\n",
      "       [[ 68, 107, 139],\n",
      "        [ 89, 128, 160],\n",
      "        [ 81, 119, 151],\n",
      "        ...,\n",
      "        [ 85,  91, 102],\n",
      "        [ 94, 100, 113],\n",
      "        [ 86,  92, 103]],\n",
      "\n",
      "       [[ 67, 105, 137],\n",
      "        [ 90, 128, 160],\n",
      "        [ 97, 132, 165],\n",
      "        ...,\n",
      "        [ 52,  57,  66],\n",
      "        [ 52,  56,  67],\n",
      "        [ 53,  58,  67]],\n",
      "\n",
      "       ...,\n",
      "\n",
      "       [[ 11,  17,  24],\n",
      "        [ 11,  17,  24],\n",
      "        [ 11,  17,  24],\n",
      "        ...,\n",
      "        [ 28,  44,  80],\n",
      "        [ 30,  46,  82],\n",
      "        [ 32,  48,  84]],\n",
      "\n",
      "       [[ 11,  17,  24],\n",
      "        [ 11,  17,  24],\n",
      "        [ 11,  17,  24],\n",
      "        ...,\n",
      "        [ 29,  45,  81],\n",
      "        [ 30,  46,  82],\n",
      "        [ 31,  47,  83]],\n",
      "\n",
      "       [[ 11,  17,  24],\n",
      "        [ 11,  17,  24],\n",
      "        [ 11,  17,  24],\n",
      "        ...,\n",
      "        [ 29,  45,  81],\n",
      "        [ 30,  46,  82],\n",
      "        [ 30,  46,  82]]], dtype=uint8)\n",
      "orig_shape: (328, 180)\n",
      "path: 'E:\\\\Clg Activities\\\\Projects\\\\Cosmetic shade recomender\\\\Data\\\\Test\\\\Dark\\\\5 - Copy.jpg'\n",
      "probs: ultralytics.engine.results.Probs object\n",
      "save_dir: 'runs\\\\classify\\\\predict'\n",
      "speed: {'preprocess': 5.1891326904296875, 'inference': 18.349218368530273, 'postprocess': 0.0}, ultralytics.engine.results.Results object with attributes:\n",
      "\n",
      "boxes: None\n",
      "keypoints: None\n",
      "masks: None\n",
      "names: {0: 'Dark', 1: 'Fair', 2: 'Medium', 3: 'Medium Dark', 4: 'Very Fair'}\n",
      "obb: None\n",
      "orig_img: array([[[ 77,  48, 117],\n",
      "        [ 48,  21,  85],\n",
      "        [ 35,  12,  67],\n",
      "        ...,\n",
      "        [ 86,  46, 148],\n",
      "        [105,  63, 172],\n",
      "        [122,  78, 191]],\n",
      "\n",
      "       [[ 70,  41, 110],\n",
      "        [ 42,  15,  79],\n",
      "        [ 33,  10,  65],\n",
      "        ...,\n",
      "        [ 82,  42, 144],\n",
      "        [ 98,  56, 165],\n",
      "        [113,  70, 181]],\n",
      "\n",
      "       [[ 61,  33,  99],\n",
      "        [ 35,   8,  71],\n",
      "        [ 31,   8,  62],\n",
      "        ...,\n",
      "        [ 78,  38, 139],\n",
      "        [ 91,  49, 158],\n",
      "        [102,  59, 170]],\n",
      "\n",
      "       ...,\n",
      "\n",
      "       [[ 45,   1, 118],\n",
      "        [ 46,   3, 118],\n",
      "        [ 50,   8, 119],\n",
      "        ...,\n",
      "        [178, 116, 252],\n",
      "        [177, 116, 250],\n",
      "        [175, 114, 248]],\n",
      "\n",
      "       [[ 47,   3, 120],\n",
      "        [ 45,   2, 117],\n",
      "        [ 46,   3, 116],\n",
      "        ...,\n",
      "        [177, 115, 251],\n",
      "        [176, 115, 249],\n",
      "        [175, 114, 248]],\n",
      "\n",
      "       [[ 48,   4, 121],\n",
      "        [ 45,   2, 117],\n",
      "        [ 43,   0, 115],\n",
      "        ...,\n",
      "        [176, 114, 250],\n",
      "        [176, 115, 249],\n",
      "        [175, 114, 248]]], dtype=uint8)\n",
      "orig_shape: (200, 163)\n",
      "path: 'E:\\\\Clg Activities\\\\Projects\\\\Cosmetic shade recomender\\\\Data\\\\Test\\\\Dark\\\\55_1_1_20170116232600318.jpg.chip.jpg'\n",
      "probs: ultralytics.engine.results.Probs object\n",
      "save_dir: 'runs\\\\classify\\\\predict'\n",
      "speed: {'preprocess': 5.1891326904296875, 'inference': 18.349218368530273, 'postprocess': 0.0}, ultralytics.engine.results.Results object with attributes:\n",
      "\n",
      "boxes: None\n",
      "keypoints: None\n",
      "masks: None\n",
      "names: {0: 'Dark', 1: 'Fair', 2: 'Medium', 3: 'Medium Dark', 4: 'Very Fair'}\n",
      "obb: None\n",
      "orig_img: array([[[  1,   1,   1],\n",
      "        [  2,   2,   2],\n",
      "        [  0,   1,   1],\n",
      "        ...,\n",
      "        [ 11,  13,  13],\n",
      "        [ 11,  13,  13],\n",
      "        [ 11,  13,  13]],\n",
      "\n",
      "       [[  2,   2,   2],\n",
      "        [  3,   3,   3],\n",
      "        [  1,   3,   3],\n",
      "        ...,\n",
      "        [ 11,  13,  13],\n",
      "        [ 11,  13,  13],\n",
      "        [ 11,  13,  13]],\n",
      "\n",
      "       [[  3,   3,   3],\n",
      "        [  5,   5,   5],\n",
      "        [  3,   5,   5],\n",
      "        ...,\n",
      "        [ 11,  13,  13],\n",
      "        [ 11,  13,  13],\n",
      "        [ 11,  13,  13]],\n",
      "\n",
      "       ...,\n",
      "\n",
      "       [[  0,  30,  49],\n",
      "        [  9,  42,  61],\n",
      "        [  1,  34,  54],\n",
      "        ...,\n",
      "        [ 18,  25,  40],\n",
      "        [ 20,  29,  43],\n",
      "        [ 22,  31,  45]],\n",
      "\n",
      "       [[  0,  53,  83],\n",
      "        [  7,  67,  97],\n",
      "        [ 11,  71, 101],\n",
      "        ...,\n",
      "        [ 17,  24,  39],\n",
      "        [ 20,  27,  42],\n",
      "        [ 23,  30,  45]],\n",
      "\n",
      "       [[ 17,  91, 127],\n",
      "        [ 27, 101, 137],\n",
      "        [ 34, 105, 142],\n",
      "        ...,\n",
      "        [ 17,  24,  39],\n",
      "        [ 21,  28,  43],\n",
      "        [ 24,  31,  46]]], dtype=uint8)\n",
      "orig_shape: (456, 259)\n",
      "path: 'E:\\\\Clg Activities\\\\Projects\\\\Cosmetic shade recomender\\\\Data\\\\Test\\\\Dark\\\\9.jpg'\n",
      "probs: ultralytics.engine.results.Probs object\n",
      "save_dir: 'runs\\\\classify\\\\predict'\n",
      "speed: {'preprocess': 5.1891326904296875, 'inference': 18.349218368530273, 'postprocess': 0.0}, ultralytics.engine.results.Results object with attributes:\n",
      "\n",
      "boxes: None\n",
      "keypoints: None\n",
      "masks: None\n",
      "names: {0: 'Dark', 1: 'Fair', 2: 'Medium', 3: 'Medium Dark', 4: 'Very Fair'}\n",
      "obb: None\n",
      "orig_img: array([[[ 25,  25,  25],\n",
      "        [ 24,  24,  24],\n",
      "        [ 23,  23,  23],\n",
      "        ...,\n",
      "        [ 31,  31,  31],\n",
      "        [ 32,  32,  32],\n",
      "        [ 33,  33,  33]],\n",
      "\n",
      "       [[ 25,  25,  25],\n",
      "        [ 25,  25,  25],\n",
      "        [ 24,  24,  24],\n",
      "        ...,\n",
      "        [ 30,  30,  30],\n",
      "        [ 32,  32,  32],\n",
      "        [ 32,  32,  32]],\n",
      "\n",
      "       [[ 25,  25,  25],\n",
      "        [ 25,  25,  25],\n",
      "        [ 25,  25,  25],\n",
      "        ...,\n",
      "        [ 30,  30,  30],\n",
      "        [ 31,  31,  31],\n",
      "        [ 32,  32,  32]],\n",
      "\n",
      "       ...,\n",
      "\n",
      "       [[ 11,  13,  13],\n",
      "        [ 11,  13,  13],\n",
      "        [ 10,  12,  12],\n",
      "        ...,\n",
      "        [132, 197, 165],\n",
      "        [128, 194, 159],\n",
      "        [122, 190, 155]],\n",
      "\n",
      "       [[ 11,  13,  13],\n",
      "        [ 11,  13,  13],\n",
      "        [ 10,  12,  12],\n",
      "        ...,\n",
      "        [128, 195, 163],\n",
      "        [124, 191, 159],\n",
      "        [120, 188, 153]],\n",
      "\n",
      "       [[ 10,  12,  12],\n",
      "        [ 10,  12,  12],\n",
      "        [ 10,  12,  12],\n",
      "        ...,\n",
      "        [124, 191, 159],\n",
      "        [121, 188, 156],\n",
      "        [119, 188, 155]]], dtype=uint8)\n",
      "orig_shape: (401, 392)\n",
      "path: 'E:\\\\Clg Activities\\\\Projects\\\\Cosmetic shade recomender\\\\Data\\\\Test\\\\Dark\\\\augmented_82223400 - Copy.jpg'\n",
      "probs: ultralytics.engine.results.Probs object\n",
      "save_dir: 'runs\\\\classify\\\\predict'\n",
      "speed: {'preprocess': 5.1891326904296875, 'inference': 18.349218368530273, 'postprocess': 0.0}, ultralytics.engine.results.Results object with attributes:\n",
      "\n",
      "boxes: None\n",
      "keypoints: None\n",
      "masks: None\n",
      "names: {0: 'Dark', 1: 'Fair', 2: 'Medium', 3: 'Medium Dark', 4: 'Very Fair'}\n",
      "obb: None\n",
      "orig_img: array([[[ 41,  43,  43],\n",
      "        [ 41,  43,  43],\n",
      "        [ 44,  46,  46],\n",
      "        ...,\n",
      "        [198, 203, 201],\n",
      "        [198, 203, 201],\n",
      "        [198, 203, 201]],\n",
      "\n",
      "       [[ 41,  43,  43],\n",
      "        [ 42,  44,  44],\n",
      "        [ 46,  48,  48],\n",
      "        ...,\n",
      "        [197, 202, 200],\n",
      "        [198, 203, 201],\n",
      "        [199, 204, 202]],\n",
      "\n",
      "       [[ 45,  47,  47],\n",
      "        [ 46,  48,  48],\n",
      "        [ 50,  52,  52],\n",
      "        ...,\n",
      "        [196, 201, 199],\n",
      "        [198, 203, 201],\n",
      "        [199, 204, 202]],\n",
      "\n",
      "       ...,\n",
      "\n",
      "       [[243, 234, 220],\n",
      "        [243, 234, 220],\n",
      "        [243, 234, 220],\n",
      "        ...,\n",
      "        [202, 186, 180],\n",
      "        [203, 187, 181],\n",
      "        [203, 187, 181]],\n",
      "\n",
      "       [[243, 234, 220],\n",
      "        [243, 234, 220],\n",
      "        [243, 234, 220],\n",
      "        ...,\n",
      "        [203, 187, 181],\n",
      "        [204, 188, 182],\n",
      "        [204, 188, 182]],\n",
      "\n",
      "       [[243, 234, 220],\n",
      "        [243, 234, 220],\n",
      "        [243, 234, 220],\n",
      "        ...,\n",
      "        [203, 187, 181],\n",
      "        [204, 188, 182],\n",
      "        [204, 188, 182]]], dtype=uint8)\n",
      "orig_shape: (512, 512)\n",
      "path: 'E:\\\\Clg Activities\\\\Projects\\\\Cosmetic shade recomender\\\\Data\\\\Test\\\\Dark\\\\augmented_93406560.jpg'\n",
      "probs: ultralytics.engine.results.Probs object\n",
      "save_dir: 'runs\\\\classify\\\\predict'\n",
      "speed: {'preprocess': 5.1891326904296875, 'inference': 18.349218368530273, 'postprocess': 0.0}, ultralytics.engine.results.Results object with attributes:\n",
      "\n",
      "boxes: None\n",
      "keypoints: None\n",
      "masks: None\n",
      "names: {0: 'Dark', 1: 'Fair', 2: 'Medium', 3: 'Medium Dark', 4: 'Very Fair'}\n",
      "obb: None\n",
      "orig_img: array([[[0, 0, 0],\n",
      "        [0, 0, 0],\n",
      "        [0, 0, 0],\n",
      "        ...,\n",
      "        [0, 0, 0],\n",
      "        [0, 0, 0],\n",
      "        [0, 0, 0]],\n",
      "\n",
      "       [[0, 0, 0],\n",
      "        [0, 0, 0],\n",
      "        [0, 0, 0],\n",
      "        ...,\n",
      "        [0, 0, 0],\n",
      "        [0, 0, 0],\n",
      "        [0, 0, 0]],\n",
      "\n",
      "       [[0, 0, 0],\n",
      "        [0, 0, 0],\n",
      "        [0, 0, 0],\n",
      "        ...,\n",
      "        [0, 0, 0],\n",
      "        [0, 0, 0],\n",
      "        [0, 0, 0]],\n",
      "\n",
      "       ...,\n",
      "\n",
      "       [[1, 2, 0],\n",
      "        [1, 2, 0],\n",
      "        [1, 2, 0],\n",
      "        ...,\n",
      "        [0, 0, 0],\n",
      "        [0, 0, 0],\n",
      "        [0, 0, 0]],\n",
      "\n",
      "       [[1, 1, 1],\n",
      "        [1, 1, 1],\n",
      "        [1, 1, 1],\n",
      "        ...,\n",
      "        [0, 0, 0],\n",
      "        [0, 0, 0],\n",
      "        [0, 0, 0]],\n",
      "\n",
      "       [[1, 1, 1],\n",
      "        [1, 1, 1],\n",
      "        [1, 1, 1],\n",
      "        ...,\n",
      "        [0, 0, 0],\n",
      "        [0, 0, 0],\n",
      "        [0, 0, 0]]], dtype=uint8)\n",
      "orig_shape: (512, 512)\n",
      "path: 'E:\\\\Clg Activities\\\\Projects\\\\Cosmetic shade recomender\\\\Data\\\\Test\\\\Dark\\\\augmented_rotation1_62562208.jpg'\n",
      "probs: ultralytics.engine.results.Probs object\n",
      "save_dir: 'runs\\\\classify\\\\predict'\n",
      "speed: {'preprocess': 9.970664978027344, 'inference': 37.897586822509766, 'postprocess': 0.0}]\n"
     ]
    }
   ],
   "source": [
    "# Run inference on a test image\n",
    "results = trained_model.predict(source=r\"E:\\Clg Activities\\Projects\\Cosmetic shade recomender\\Data\\Test\\Dark\", batch = 5)\n",
    "print(results)"
   ]
  },
  {
   "cell_type": "code",
   "execution_count": null,
   "metadata": {},
   "outputs": [],
   "source": []
  },
  {
   "cell_type": "markdown",
   "metadata": {},
   "source": [
    "# Prediction on training data and cm "
   ]
  },
  {
   "cell_type": "code",
   "execution_count": 5,
   "metadata": {},
   "outputs": [
    {
     "name": "stdout",
     "output_type": "stream",
     "text": [
      "\n",
      "image 1/21 E:\\Clg Activities\\Projects\\Cosmetic shade recomender\\Data\\Test\\Dark\\1 - Copy.jpeg: 224x224 Dark 1.00, Medium Dark 0.00, Medium 0.00, Very Fair 0.00, Fair 0.00, 48.9ms\n"
     ]
    },
    {
     "name": "stderr",
     "output_type": "stream",
     "text": [
      "<>:10: SyntaxWarning: invalid escape sequence '\\C'\n",
      "<>:17: SyntaxWarning: invalid escape sequence '\\C'\n",
      "<>:24: SyntaxWarning: invalid escape sequence '\\C'\n",
      "<>:31: SyntaxWarning: invalid escape sequence '\\C'\n",
      "<>:38: SyntaxWarning: invalid escape sequence '\\C'\n",
      "<>:10: SyntaxWarning: invalid escape sequence '\\C'\n",
      "<>:17: SyntaxWarning: invalid escape sequence '\\C'\n",
      "<>:24: SyntaxWarning: invalid escape sequence '\\C'\n",
      "<>:31: SyntaxWarning: invalid escape sequence '\\C'\n",
      "<>:38: SyntaxWarning: invalid escape sequence '\\C'\n",
      "C:\\Users\\Genius\\AppData\\Local\\Temp\\ipykernel_10340\\747146705.py:10: SyntaxWarning: invalid escape sequence '\\C'\n",
      "  results = trained_model.predict(source=\"E:\\Clg Activities\\Projects\\Cosmetic shade recomender\\Data\\Test\\Dark\")\n",
      "C:\\Users\\Genius\\AppData\\Local\\Temp\\ipykernel_10340\\747146705.py:17: SyntaxWarning: invalid escape sequence '\\C'\n",
      "  results1 = trained_model.predict(source='E:\\Clg Activities\\Projects\\Cosmetic shade recomender\\Data\\Test\\Fair')\n",
      "C:\\Users\\Genius\\AppData\\Local\\Temp\\ipykernel_10340\\747146705.py:24: SyntaxWarning: invalid escape sequence '\\C'\n",
      "  results2 = trained_model.predict(source='E:\\Clg Activities\\Projects\\Cosmetic shade recomender\\Data\\Test\\Medium')\n",
      "C:\\Users\\Genius\\AppData\\Local\\Temp\\ipykernel_10340\\747146705.py:31: SyntaxWarning: invalid escape sequence '\\C'\n",
      "  results = trained_model.predict(source=\"E:\\Clg Activities\\Projects\\Cosmetic shade recomender\\Data\\Test\\Medium Dark\")\n",
      "C:\\Users\\Genius\\AppData\\Local\\Temp\\ipykernel_10340\\747146705.py:38: SyntaxWarning: invalid escape sequence '\\C'\n",
      "  results = trained_model.predict(source=\"E:\\Clg Activities\\Projects\\Cosmetic shade recomender\\Data\\Test\\Very Fair\")\n"
     ]
    },
    {
     "name": "stdout",
     "output_type": "stream",
     "text": [
      "image 2/21 E:\\Clg Activities\\Projects\\Cosmetic shade recomender\\Data\\Test\\Dark\\10.jpg: 224x224 Dark 1.00, Medium Dark 0.00, Medium 0.00, Very Fair 0.00, Fair 0.00, 148.6ms\n",
      "image 3/21 E:\\Clg Activities\\Projects\\Cosmetic shade recomender\\Data\\Test\\Dark\\12.jpg: 224x224 Dark 1.00, Fair 0.00, Medium 0.00, Very Fair 0.00, Medium Dark 0.00, 79.8ms\n",
      "image 4/21 E:\\Clg Activities\\Projects\\Cosmetic shade recomender\\Data\\Test\\Dark\\14 - Copy.jpg: 224x224 Dark 1.00, Medium Dark 0.00, Medium 0.00, Very Fair 0.00, Fair 0.00, 38.9ms\n",
      "image 5/21 E:\\Clg Activities\\Projects\\Cosmetic shade recomender\\Data\\Test\\Dark\\19 - Copy.jpeg: 224x224 Dark 1.00, Medium Dark 0.00, Medium 0.00, Very Fair 0.00, Fair 0.00, 39.9ms\n",
      "image 6/21 E:\\Clg Activities\\Projects\\Cosmetic shade recomender\\Data\\Test\\Dark\\24_1_1_20170112204648604.jpg.chip.jpg: 224x224 Dark 1.00, Medium Dark 0.00, Medium 0.00, Very Fair 0.00, Fair 0.00, 55.9ms\n",
      "image 7/21 E:\\Clg Activities\\Projects\\Cosmetic shade recomender\\Data\\Test\\Dark\\25.jpg: 224x224 Dark 1.00, Medium Dark 0.00, Medium 0.00, Fair 0.00, Very Fair 0.00, 39.9ms\n",
      "image 8/21 E:\\Clg Activities\\Projects\\Cosmetic shade recomender\\Data\\Test\\Dark\\26_1_1_20170112210429380.jpg.chip.jpg: 224x224 Dark 1.00, Medium Dark 0.00, Medium 0.00, Very Fair 0.00, Fair 0.00, 53.9ms\n",
      "image 9/21 E:\\Clg Activities\\Projects\\Cosmetic shade recomender\\Data\\Test\\Dark\\26_1_1_20170116223432216.jpg.chip.jpg: 224x224 Dark 1.00, Medium Dark 0.00, Very Fair 0.00, Medium 0.00, Fair 0.00, 72.8ms\n",
      "image 10/21 E:\\Clg Activities\\Projects\\Cosmetic shade recomender\\Data\\Test\\Dark\\3 - Copy.jpeg: 224x224 Dark 1.00, Medium Dark 0.00, Medium 0.00, Very Fair 0.00, Fair 0.00, 112.7ms\n",
      "image 11/21 E:\\Clg Activities\\Projects\\Cosmetic shade recomender\\Data\\Test\\Dark\\372.jpg: 224x224 Dark 1.00, Medium Dark 0.00, Medium 0.00, Fair 0.00, Very Fair 0.00, 84.8ms\n",
      "image 12/21 E:\\Clg Activities\\Projects\\Cosmetic shade recomender\\Data\\Test\\Dark\\373.jpg: 224x224 Dark 1.00, Medium Dark 0.00, Very Fair 0.00, Medium 0.00, Fair 0.00, 60.8ms\n",
      "image 13/21 E:\\Clg Activities\\Projects\\Cosmetic shade recomender\\Data\\Test\\Dark\\4.jpg: 224x224 Dark 1.00, Medium Dark 0.00, Very Fair 0.00, Medium 0.00, Fair 0.00, 30.9ms\n",
      "image 14/21 E:\\Clg Activities\\Projects\\Cosmetic shade recomender\\Data\\Test\\Dark\\436.jpeg: 224x224 Dark 0.99, Medium Dark 0.01, Medium 0.00, Very Fair 0.00, Fair 0.00, 31.9ms\n",
      "image 15/21 E:\\Clg Activities\\Projects\\Cosmetic shade recomender\\Data\\Test\\Dark\\481.jpeg: 224x224 Dark 1.00, Medium Dark 0.00, Medium 0.00, Very Fair 0.00, Fair 0.00, 29.9ms\n",
      "image 16/21 E:\\Clg Activities\\Projects\\Cosmetic shade recomender\\Data\\Test\\Dark\\5 - Copy.jpg: 224x224 Dark 1.00, Medium Dark 0.00, Medium 0.00, Very Fair 0.00, Fair 0.00, 32.9ms\n",
      "image 17/21 E:\\Clg Activities\\Projects\\Cosmetic shade recomender\\Data\\Test\\Dark\\55_1_1_20170116232600318.jpg.chip.jpg: 224x224 Dark 1.00, Medium Dark 0.00, Medium 0.00, Very Fair 0.00, Fair 0.00, 33.9ms\n",
      "image 18/21 E:\\Clg Activities\\Projects\\Cosmetic shade recomender\\Data\\Test\\Dark\\9.jpg: 224x224 Dark 1.00, Medium Dark 0.00, Medium 0.00, Very Fair 0.00, Fair 0.00, 67.8ms\n",
      "image 19/21 E:\\Clg Activities\\Projects\\Cosmetic shade recomender\\Data\\Test\\Dark\\augmented_82223400 - Copy.jpg: 224x224 Dark 1.00, Medium Dark 0.00, Medium 0.00, Fair 0.00, Very Fair 0.00, 56.8ms\n",
      "image 20/21 E:\\Clg Activities\\Projects\\Cosmetic shade recomender\\Data\\Test\\Dark\\augmented_93406560.jpg: 224x224 Dark 1.00, Medium Dark 0.00, Medium 0.00, Very Fair 0.00, Fair 0.00, 33.9ms\n",
      "image 21/21 E:\\Clg Activities\\Projects\\Cosmetic shade recomender\\Data\\Test\\Dark\\augmented_rotation1_62562208.jpg: 224x224 Dark 1.00, Medium Dark 0.00, Very Fair 0.00, Fair 0.00, Medium 0.00, 35.9ms\n",
      "Speed: 14.9ms preprocess, 56.7ms inference, 0.0ms postprocess per image at shape (1, 3, 224, 224)\n",
      "\n",
      "image 1/41 E:\\Clg Activities\\Projects\\Cosmetic shade recomender\\Data\\Test\\Fair\\2698608 - Copy.jpg: 224x224 Fair 1.00, Medium 0.00, Medium Dark 0.00, Very Fair 0.00, Dark 0.00, 41.9ms\n",
      "image 2/41 E:\\Clg Activities\\Projects\\Cosmetic shade recomender\\Data\\Test\\Fair\\34_0_0_20170104204354155.jpg.chip - Copy.jpg: 224x224 Very Fair 0.75, Fair 0.25, Medium 0.00, Dark 0.00, Medium Dark 0.00, 35.9ms\n",
      "image 3/41 E:\\Clg Activities\\Projects\\Cosmetic shade recomender\\Data\\Test\\Fair\\36170927.jpg: 224x224 Fair 1.00, Very Fair 0.00, Medium 0.00, Dark 0.00, Medium Dark 0.00, 44.9ms\n",
      "image 4/41 E:\\Clg Activities\\Projects\\Cosmetic shade recomender\\Data\\Test\\Fair\\36281745.jpg: 224x224 Fair 0.54, Very Fair 0.46, Medium 0.00, Dark 0.00, Medium Dark 0.00, 209.4ms\n",
      "image 5/41 E:\\Clg Activities\\Projects\\Cosmetic shade recomender\\Data\\Test\\Fair\\36570624.jpg: 224x224 Fair 0.96, Very Fair 0.04, Medium 0.00, Dark 0.00, Medium Dark 0.00, 75.8ms\n",
      "image 6/41 E:\\Clg Activities\\Projects\\Cosmetic shade recomender\\Data\\Test\\Fair\\36_1_0_20170105183405999.jpg.chip - Copy.jpg: 224x224 Fair 0.93, Very Fair 0.07, Medium 0.01, Medium Dark 0.00, Dark 0.00, 80.8ms\n",
      "image 7/41 E:\\Clg Activities\\Projects\\Cosmetic shade recomender\\Data\\Test\\Fair\\37494344 - Copy.jpg: 224x224 Fair 0.92, Very Fair 0.08, Medium 0.00, Dark 0.00, Medium Dark 0.00, 36.9ms\n",
      "image 8/41 E:\\Clg Activities\\Projects\\Cosmetic shade recomender\\Data\\Test\\Fair\\37494344.jpg: 224x224 Fair 0.92, Very Fair 0.08, Medium 0.00, Dark 0.00, Medium Dark 0.00, 34.9ms\n",
      "image 9/41 E:\\Clg Activities\\Projects\\Cosmetic shade recomender\\Data\\Test\\Fair\\37514477.jpg: 224x224 Fair 0.89, Very Fair 0.11, Dark 0.00, Medium 0.00, Medium Dark 0.00, 32.9ms\n",
      "image 10/41 E:\\Clg Activities\\Projects\\Cosmetic shade recomender\\Data\\Test\\Fair\\37739127.jpg: 224x224 Fair 0.93, Very Fair 0.04, Medium 0.03, Medium Dark 0.00, Dark 0.00, 24.9ms\n",
      "image 11/41 E:\\Clg Activities\\Projects\\Cosmetic shade recomender\\Data\\Test\\Fair\\37839095.jpg: 224x224 Fair 1.00, Very Fair 0.00, Medium 0.00, Dark 0.00, Medium Dark 0.00, 29.9ms\n",
      "image 12/41 E:\\Clg Activities\\Projects\\Cosmetic shade recomender\\Data\\Test\\Fair\\37930739.jpg: 224x224 Fair 1.00, Medium 0.00, Very Fair 0.00, Medium Dark 0.00, Dark 0.00, 33.9ms\n",
      "image 13/41 E:\\Clg Activities\\Projects\\Cosmetic shade recomender\\Data\\Test\\Fair\\37_0_0_20170116201223316.jpg.chip - Copy.jpg: 224x224 Fair 0.61, Medium 0.22, Very Fair 0.17, Medium Dark 0.00, Dark 0.00, 73.8ms\n",
      "image 14/41 E:\\Clg Activities\\Projects\\Cosmetic shade recomender\\Data\\Test\\Fair\\37_0_0_20170117135928574.jpg.chip.jpg: 224x224 Fair 0.91, Medium 0.06, Very Fair 0.02, Medium Dark 0.00, Dark 0.00, 71.8ms\n",
      "image 15/41 E:\\Clg Activities\\Projects\\Cosmetic shade recomender\\Data\\Test\\Fair\\37_0_3_20170104204445187.jpg.chip.jpg: 224x224 Fair 0.98, Very Fair 0.01, Medium 0.00, Medium Dark 0.00, Dark 0.00, 49.9ms\n",
      "image 16/41 E:\\Clg Activities\\Projects\\Cosmetic shade recomender\\Data\\Test\\Fair\\37_0_3_20170104232806122.jpg.chip.jpg: 224x224 Fair 0.77, Medium 0.22, Very Fair 0.01, Medium Dark 0.00, Dark 0.00, 38.9ms\n",
      "image 17/41 E:\\Clg Activities\\Projects\\Cosmetic shade recomender\\Data\\Test\\Fair\\37_0_3_20170119153105041.jpg.chip.jpg: 224x224 Medium 1.00, Medium Dark 0.00, Fair 0.00, Dark 0.00, Very Fair 0.00, 52.9ms\n",
      "image 18/41 E:\\Clg Activities\\Projects\\Cosmetic shade recomender\\Data\\Test\\Fair\\37_0_3_20170119202343501.jpg.chip.jpg: 224x224 Fair 0.99, Medium 0.01, Very Fair 0.00, Medium Dark 0.00, Dark 0.00, 47.9ms\n",
      "image 19/41 E:\\Clg Activities\\Projects\\Cosmetic shade recomender\\Data\\Test\\Fair\\37_0_4_20170104000748917.jpg.chip.jpg: 224x224 Very Fair 0.52, Fair 0.43, Medium 0.04, Medium Dark 0.00, Dark 0.00, 43.9ms\n",
      "image 20/41 E:\\Clg Activities\\Projects\\Cosmetic shade recomender\\Data\\Test\\Fair\\37_1_2_20170116184911351.jpg.chip.jpg: 224x224 Fair 0.98, Medium 0.02, Very Fair 0.00, Medium Dark 0.00, Dark 0.00, 79.8ms\n",
      "image 21/41 E:\\Clg Activities\\Projects\\Cosmetic shade recomender\\Data\\Test\\Fair\\37_1_3_20170109132653966.jpg.chip.jpg: 224x224 Medium 0.95, Fair 0.05, Very Fair 0.00, Medium Dark 0.00, Dark 0.00, 62.8ms\n",
      "image 22/41 E:\\Clg Activities\\Projects\\Cosmetic shade recomender\\Data\\Test\\Fair\\38017135.jpg: 224x224 Fair 1.00, Very Fair 0.00, Medium 0.00, Medium Dark 0.00, Dark 0.00, 82.8ms\n",
      "image 23/41 E:\\Clg Activities\\Projects\\Cosmetic shade recomender\\Data\\Test\\Fair\\38063211.jpg: 224x224 Fair 0.85, Very Fair 0.15, Medium 0.00, Dark 0.00, Medium Dark 0.00, 91.8ms\n",
      "image 24/41 E:\\Clg Activities\\Projects\\Cosmetic shade recomender\\Data\\Test\\Fair\\38069819.jpg: 224x224 Fair 0.99, Very Fair 0.01, Medium 0.00, Medium Dark 0.00, Dark 0.00, 29.9ms\n",
      "image 25/41 E:\\Clg Activities\\Projects\\Cosmetic shade recomender\\Data\\Test\\Fair\\38197087.jpg: 224x224 Fair 1.00, Very Fair 0.00, Medium 0.00, Dark 0.00, Medium Dark 0.00, 35.9ms\n",
      "image 26/41 E:\\Clg Activities\\Projects\\Cosmetic shade recomender\\Data\\Test\\Fair\\38763587.jpg: 224x224 Fair 0.99, Very Fair 0.01, Medium 0.00, Medium Dark 0.00, Dark 0.00, 24.9ms\n",
      "image 27/41 E:\\Clg Activities\\Projects\\Cosmetic shade recomender\\Data\\Test\\Fair\\38_0_0_20170105184043687.jpg.chip.jpg: 224x224 Fair 0.59, Very Fair 0.35, Medium 0.05, Medium Dark 0.00, Dark 0.00, 32.9ms\n",
      "image 28/41 E:\\Clg Activities\\Projects\\Cosmetic shade recomender\\Data\\Test\\Fair\\39116450.jpg: 224x224 Fair 0.90, Very Fair 0.10, Medium 0.00, Dark 0.00, Medium Dark 0.00, 29.9ms\n",
      "image 29/41 E:\\Clg Activities\\Projects\\Cosmetic shade recomender\\Data\\Test\\Fair\\39427102.jpg: 224x224 Fair 0.96, Very Fair 0.04, Medium 0.00, Medium Dark 0.00, Dark 0.00, 67.8ms\n",
      "image 30/41 E:\\Clg Activities\\Projects\\Cosmetic shade recomender\\Data\\Test\\Fair\\39609074.jpg: 224x224 Fair 0.99, Very Fair 0.01, Medium 0.00, Dark 0.00, Medium Dark 0.00, 56.8ms\n",
      "image 31/41 E:\\Clg Activities\\Projects\\Cosmetic shade recomender\\Data\\Test\\Fair\\39618062.jpg: 224x224 Fair 0.93, Very Fair 0.07, Dark 0.00, Medium 0.00, Medium Dark 0.00, 57.8ms\n",
      "image 32/41 E:\\Clg Activities\\Projects\\Cosmetic shade recomender\\Data\\Test\\Fair\\39726580.jpg: 224x224 Fair 0.99, Very Fair 0.01, Medium 0.00, Dark 0.00, Medium Dark 0.00, 33.9ms\n",
      "image 33/41 E:\\Clg Activities\\Projects\\Cosmetic shade recomender\\Data\\Test\\Fair\\39728473.jpg: 224x224 Fair 0.98, Very Fair 0.02, Medium 0.00, Dark 0.00, Medium Dark 0.00, 63.8ms\n",
      "image 34/41 E:\\Clg Activities\\Projects\\Cosmetic shade recomender\\Data\\Test\\Fair\\39746065.jpg: 224x224 Fair 0.90, Very Fair 0.10, Medium 0.00, Dark 0.00, Medium Dark 0.00, 37.9ms\n",
      "image 35/41 E:\\Clg Activities\\Projects\\Cosmetic shade recomender\\Data\\Test\\Fair\\39812630.jpg: 224x224 Fair 0.99, Very Fair 0.01, Medium 0.00, Medium Dark 0.00, Dark 0.00, 49.9ms\n",
      "image 36/41 E:\\Clg Activities\\Projects\\Cosmetic shade recomender\\Data\\Test\\Fair\\39908199.jpg: 224x224 Fair 0.85, Very Fair 0.15, Medium 0.00, Dark 0.00, Medium Dark 0.00, 58.8ms\n",
      "image 37/41 E:\\Clg Activities\\Projects\\Cosmetic shade recomender\\Data\\Test\\Fair\\39_0_2_20170116192518885.jpg.chip - Copy.jpg: 224x224 Fair 0.78, Very Fair 0.19, Medium 0.04, Dark 0.00, Medium Dark 0.00, 67.8ms\n",
      "image 38/41 E:\\Clg Activities\\Projects\\Cosmetic shade recomender\\Data\\Test\\Fair\\40077133.jpg: 224x224 Fair 0.98, Medium 0.02, Very Fair 0.00, Medium Dark 0.00, Dark 0.00, 56.8ms\n",
      "image 39/41 E:\\Clg Activities\\Projects\\Cosmetic shade recomender\\Data\\Test\\Fair\\40710202.jpg: 224x224 Fair 1.00, Medium 0.00, Very Fair 0.00, Dark 0.00, Medium Dark 0.00, 49.9ms\n",
      "image 40/41 E:\\Clg Activities\\Projects\\Cosmetic shade recomender\\Data\\Test\\Fair\\41468236.jpg: 224x224 Fair 0.98, Very Fair 0.02, Medium 0.00, Dark 0.00, Medium Dark 0.00, 31.9ms\n",
      "image 41/41 E:\\Clg Activities\\Projects\\Cosmetic shade recomender\\Data\\Test\\Fair\\4931228.jpg: 224x224 Fair 0.97, Very Fair 0.02, Medium 0.01, Medium Dark 0.00, Dark 0.00, 28.9ms\n",
      "Speed: 9.0ms preprocess, 53.5ms inference, 0.1ms postprocess per image at shape (1, 3, 224, 224)\n",
      "\n",
      "image 1/35 E:\\Clg Activities\\Projects\\Cosmetic shade recomender\\Data\\Test\\Medium\\1.jpeg: 224x224 Medium 0.99, Medium Dark 0.01, Fair 0.00, Dark 0.00, Very Fair 0.00, 30.9ms\n",
      "image 2/35 E:\\Clg Activities\\Projects\\Cosmetic shade recomender\\Data\\Test\\Medium\\10.jpg: 224x224 Medium 0.71, Fair 0.29, Medium Dark 0.00, Very Fair 0.00, Dark 0.00, 27.9ms\n",
      "image 3/35 E:\\Clg Activities\\Projects\\Cosmetic shade recomender\\Data\\Test\\Medium\\10_0_1_20170110220507258.jpg.chip.jpg: 224x224 Medium 0.60, Fair 0.34, Medium Dark 0.05, Very Fair 0.00, Dark 0.00, 43.9ms\n",
      "image 4/35 E:\\Clg Activities\\Projects\\Cosmetic shade recomender\\Data\\Test\\Medium\\11.jpg: 224x224 Medium Dark 0.90, Medium 0.09, Dark 0.00, Fair 0.00, Very Fair 0.00, 58.8ms\n",
      "image 5/35 E:\\Clg Activities\\Projects\\Cosmetic shade recomender\\Data\\Test\\Medium\\12.jpg: 224x224 Medium 0.87, Fair 0.12, Medium Dark 0.01, Dark 0.00, Very Fair 0.00, 64.8ms\n",
      "image 6/35 E:\\Clg Activities\\Projects\\Cosmetic shade recomender\\Data\\Test\\Medium\\13.jpg: 224x224 Medium 0.60, Fair 0.24, Medium Dark 0.16, Very Fair 0.00, Dark 0.00, 147.6ms\n",
      "image 7/35 E:\\Clg Activities\\Projects\\Cosmetic shade recomender\\Data\\Test\\Medium\\14_0_1_20170117133924867.jpg.chip.jpg: 224x224 Medium 1.00, Medium Dark 0.00, Fair 0.00, Dark 0.00, Very Fair 0.00, 43.9ms\n",
      "image 8/35 E:\\Clg Activities\\Projects\\Cosmetic shade recomender\\Data\\Test\\Medium\\14_1_1_20170109203225054.jpg.chip.jpg: 224x224 Medium 1.00, Medium Dark 0.00, Fair 0.00, Dark 0.00, Very Fair 0.00, 43.9ms\n",
      "image 9/35 E:\\Clg Activities\\Projects\\Cosmetic shade recomender\\Data\\Test\\Medium\\14_1_3_20161220220655004.jpg.chip.jpg: 224x224 Medium 0.99, Fair 0.01, Medium Dark 0.00, Very Fair 0.00, Dark 0.00, 40.9ms\n",
      "image 10/35 E:\\Clg Activities\\Projects\\Cosmetic shade recomender\\Data\\Test\\Medium\\15_0_1_20170113132336584.jpg.chip.jpg: 224x224 Medium 1.00, Medium Dark 0.00, Fair 0.00, Dark 0.00, Very Fair 0.00, 43.9ms\n",
      "image 11/35 E:\\Clg Activities\\Projects\\Cosmetic shade recomender\\Data\\Test\\Medium\\15_0_2_20170102235056163.jpg.chip.jpg: 224x224 Medium 0.68, Fair 0.31, Medium Dark 0.00, Very Fair 0.00, Dark 0.00, 60.8ms\n",
      "image 12/35 E:\\Clg Activities\\Projects\\Cosmetic shade recomender\\Data\\Test\\Medium\\15_0_2_20170104013327250.jpg.chip.jpg: 224x224 Medium 1.00, Fair 0.00, Medium Dark 0.00, Very Fair 0.00, Dark 0.00, 90.8ms\n",
      "image 13/35 E:\\Clg Activities\\Projects\\Cosmetic shade recomender\\Data\\Test\\Medium\\15_0_3_20170104225537649.jpg.chip.jpg: 224x224 Medium 1.00, Medium Dark 0.00, Fair 0.00, Very Fair 0.00, Dark 0.00, 92.7ms\n",
      "image 14/35 E:\\Clg Activities\\Projects\\Cosmetic shade recomender\\Data\\Test\\Medium\\15_1_3_20170104222011950.jpg.chip.jpg: 224x224 Medium 1.00, Fair 0.00, Medium Dark 0.00, Very Fair 0.00, Dark 0.00, 38.9ms\n",
      "image 15/35 E:\\Clg Activities\\Projects\\Cosmetic shade recomender\\Data\\Test\\Medium\\16.jpg: 224x224 Medium 1.00, Fair 0.00, Very Fair 0.00, Medium Dark 0.00, Dark 0.00, 30.9ms\n",
      "image 16/35 E:\\Clg Activities\\Projects\\Cosmetic shade recomender\\Data\\Test\\Medium\\16_0_1_20170116214205175.jpg.chip.jpg: 224x224 Medium 0.94, Medium Dark 0.06, Dark 0.00, Fair 0.00, Very Fair 0.00, 29.9ms\n",
      "image 17/35 E:\\Clg Activities\\Projects\\Cosmetic shade recomender\\Data\\Test\\Medium\\16_0_3_20170110231223673.jpg.chip.jpg: 224x224 Medium 1.00, Medium Dark 0.00, Fair 0.00, Very Fair 0.00, Dark 0.00, 24.9ms\n",
      "image 18/35 E:\\Clg Activities\\Projects\\Cosmetic shade recomender\\Data\\Test\\Medium\\16_1_1_20170109213003514.jpg.chip.jpg: 224x224 Medium 1.00, Medium Dark 0.00, Fair 0.00, Very Fair 0.00, Dark 0.00, 33.9ms\n",
      "image 19/35 E:\\Clg Activities\\Projects\\Cosmetic shade recomender\\Data\\Test\\Medium\\16_1_4_20170103201023166.jpg.chip.jpg: 224x224 Medium 1.00, Fair 0.00, Very Fair 0.00, Medium Dark 0.00, Dark 0.00, 93.7ms\n",
      "image 20/35 E:\\Clg Activities\\Projects\\Cosmetic shade recomender\\Data\\Test\\Medium\\17_0_1_20170113145213577.jpg.chip.jpg: 224x224 Medium 0.98, Dark 0.01, Medium Dark 0.01, Fair 0.00, Very Fair 0.00, 60.8ms\n",
      "image 21/35 E:\\Clg Activities\\Projects\\Cosmetic shade recomender\\Data\\Test\\Medium\\17_0_1_20170113145220398.jpg.chip.jpg: 224x224 Medium 1.00, Medium Dark 0.00, Fair 0.00, Very Fair 0.00, Dark 0.00, 55.9ms\n",
      "image 22/35 E:\\Clg Activities\\Projects\\Cosmetic shade recomender\\Data\\Test\\Medium\\17_1_4_20170103201513799.jpg.chip.jpg: 224x224 Medium 0.95, Fair 0.05, Medium Dark 0.00, Very Fair 0.00, Dark 0.00, 47.9ms\n",
      "image 23/35 E:\\Clg Activities\\Projects\\Cosmetic shade recomender\\Data\\Test\\Medium\\18.jpeg: 224x224 Medium 1.00, Medium Dark 0.00, Fair 0.00, Very Fair 0.00, Dark 0.00, 35.9ms\n",
      "image 24/35 E:\\Clg Activities\\Projects\\Cosmetic shade recomender\\Data\\Test\\Medium\\18_0_1_20170113132623905.jpg.chip.jpg: 224x224 Medium 1.00, Medium Dark 0.00, Fair 0.00, Very Fair 0.00, Dark 0.00, 45.9ms\n",
      "image 25/35 E:\\Clg Activities\\Projects\\Cosmetic shade recomender\\Data\\Test\\Medium\\18_0_1_20170114033130286.jpg.chip.jpg: 224x224 Medium 0.98, Medium Dark 0.02, Fair 0.00, Dark 0.00, Very Fair 0.00, 37.9ms\n",
      "image 26/35 E:\\Clg Activities\\Projects\\Cosmetic shade recomender\\Data\\Test\\Medium\\18_0_3_20170104225820545.jpg.chip.jpg: 224x224 Medium 0.99, Fair 0.01, Medium Dark 0.00, Very Fair 0.00, Dark 0.00, 35.9ms\n",
      "image 27/35 E:\\Clg Activities\\Projects\\Cosmetic shade recomender\\Data\\Test\\Medium\\18_0_3_20170117153126523.jpg.chip.jpg: 224x224 Medium 1.00, Medium Dark 0.00, Fair 0.00, Very Fair 0.00, Dark 0.00, 46.9ms\n",
      "image 28/35 E:\\Clg Activities\\Projects\\Cosmetic shade recomender\\Data\\Test\\Medium\\1_0_1_20170110212837862.jpg.chip.jpg: 224x224 Medium 1.00, Fair 0.00, Very Fair 0.00, Medium Dark 0.00, Dark 0.00, 68.8ms\n",
      "image 29/35 E:\\Clg Activities\\Projects\\Cosmetic shade recomender\\Data\\Test\\Medium\\1_0_1_20170110213645409.jpg.chip.jpg: 224x224 Medium 0.91, Fair 0.08, Very Fair 0.00, Dark 0.00, Medium Dark 0.00, 78.8ms\n",
      "image 30/35 E:\\Clg Activities\\Projects\\Cosmetic shade recomender\\Data\\Test\\Medium\\7.jpg: 224x224 Medium 1.00, Fair 0.00, Dark 0.00, Medium Dark 0.00, Very Fair 0.00, 88.8ms\n",
      "image 31/35 E:\\Clg Activities\\Projects\\Cosmetic shade recomender\\Data\\Test\\Medium\\7_0_1_20170110223522905.jpg.chip.jpg: 224x224 Medium 0.98, Medium Dark 0.02, Dark 0.00, Fair 0.00, Very Fair 0.00, 40.9ms\n",
      "image 32/35 E:\\Clg Activities\\Projects\\Cosmetic shade recomender\\Data\\Test\\Medium\\7_0_1_20170110224345168.jpg.chip.jpg: 224x224 Medium 0.99, Fair 0.01, Dark 0.00, Medium Dark 0.00, Very Fair 0.00, 30.9ms\n",
      "image 33/35 E:\\Clg Activities\\Projects\\Cosmetic shade recomender\\Data\\Test\\Medium\\8.webp: 224x224 Medium Dark 0.81, Medium 0.19, Fair 0.00, Dark 0.00, Very Fair 0.00, 26.9ms\n",
      "image 34/35 E:\\Clg Activities\\Projects\\Cosmetic shade recomender\\Data\\Test\\Medium\\8_1_1_20170109205445571.jpg.chip.jpg: 224x224 Medium 0.94, Fair 0.06, Very Fair 0.00, Medium Dark 0.00, Dark 0.00, 29.9ms\n",
      "image 35/35 E:\\Clg Activities\\Projects\\Cosmetic shade recomender\\Data\\Test\\Medium\\9_0_1_20170110224349623.jpg.chip.jpg: 224x224 Medium 0.82, Medium Dark 0.17, Dark 0.01, Fair 0.00, Very Fair 0.00, 32.9ms\n",
      "Speed: 6.6ms preprocess, 51.7ms inference, 0.1ms postprocess per image at shape (1, 3, 224, 224)\n",
      "\n",
      "image 1/32 E:\\Clg Activities\\Projects\\Cosmetic shade recomender\\Data\\Test\\Medium Dark\\1.jpeg: 224x224 Medium Dark 0.71, Dark 0.29, Medium 0.00, Very Fair 0.00, Fair 0.00, 28.9ms\n",
      "image 2/32 E:\\Clg Activities\\Projects\\Cosmetic shade recomender\\Data\\Test\\Medium Dark\\1.webp: 224x224 Medium Dark 0.74, Medium 0.18, Dark 0.07, Fair 0.00, Very Fair 0.00, 31.9ms\n",
      "image 3/32 E:\\Clg Activities\\Projects\\Cosmetic shade recomender\\Data\\Test\\Medium Dark\\13_0_1_20170110232537879.jpg.chip.jpg: 224x224 Medium 0.95, Medium Dark 0.04, Dark 0.01, Very Fair 0.00, Fair 0.00, 23.9ms\n",
      "image 4/32 E:\\Clg Activities\\Projects\\Cosmetic shade recomender\\Data\\Test\\Medium Dark\\13_1_1_20170109204443201.jpg.chip.jpg: 224x224 Medium 0.93, Dark 0.05, Medium Dark 0.02, Fair 0.00, Very Fair 0.00, 36.9ms\n",
      "image 5/32 E:\\Clg Activities\\Projects\\Cosmetic shade recomender\\Data\\Test\\Medium Dark\\15_0_1_20170110231743136.jpg.chip.jpg: 224x224 Dark 0.84, Medium 0.14, Medium Dark 0.02, Very Fair 0.00, Fair 0.00, 30.9ms\n",
      "image 6/32 E:\\Clg Activities\\Projects\\Cosmetic shade recomender\\Data\\Test\\Medium Dark\\16_0_1_20170116161243731.jpg.chip.jpg: 224x224 Medium Dark 0.95, Dark 0.04, Medium 0.01, Fair 0.00, Very Fair 0.00, 66.8ms\n",
      "image 7/32 E:\\Clg Activities\\Projects\\Cosmetic shade recomender\\Data\\Test\\Medium Dark\\16_0_3_20170110232812662.jpg.chip.jpg: 224x224 Dark 0.98, Medium 0.01, Medium Dark 0.00, Very Fair 0.00, Fair 0.00, 62.8ms\n",
      "image 8/32 E:\\Clg Activities\\Projects\\Cosmetic shade recomender\\Data\\Test\\Medium Dark\\16_1_1_20170114025512971.jpg.chip.jpg: 224x224 Medium Dark 0.98, Medium 0.02, Dark 0.00, Fair 0.00, Very Fair 0.00, 54.9ms\n",
      "image 9/32 E:\\Clg Activities\\Projects\\Cosmetic shade recomender\\Data\\Test\\Medium Dark\\17_1_1_20170114030014850.jpg.chip.jpg: 224x224 Medium 0.86, Medium Dark 0.14, Dark 0.00, Fair 0.00, Very Fair 0.00, 38.9ms\n",
      "image 10/32 E:\\Clg Activities\\Projects\\Cosmetic shade recomender\\Data\\Test\\Medium Dark\\17_1_1_20170114030031959.jpg.chip.jpg: 224x224 Medium 0.80, Dark 0.13, Medium Dark 0.07, Fair 0.00, Very Fair 0.00, 42.9ms\n",
      "image 11/32 E:\\Clg Activities\\Projects\\Cosmetic shade recomender\\Data\\Test\\Medium Dark\\18.jpeg: 224x224 Medium Dark 1.00, Dark 0.00, Medium 0.00, Fair 0.00, Very Fair 0.00, 41.9ms\n",
      "image 12/32 E:\\Clg Activities\\Projects\\Cosmetic shade recomender\\Data\\Test\\Medium Dark\\18_1_1_20170109214355606.jpg.chip.jpg: 224x224 Medium 0.82, Dark 0.12, Medium Dark 0.06, Fair 0.00, Very Fair 0.00, 40.9ms\n",
      "image 13/32 E:\\Clg Activities\\Projects\\Cosmetic shade recomender\\Data\\Test\\Medium Dark\\18_1_1_20170113005132350.jpg.chip.jpg: 224x224 Medium 0.99, Medium Dark 0.01, Dark 0.00, Fair 0.00, Very Fair 0.00, 40.9ms\n",
      "image 14/32 E:\\Clg Activities\\Projects\\Cosmetic shade recomender\\Data\\Test\\Medium Dark\\18_1_1_20170114030339628.jpg.chip.jpg: 224x224 Medium 1.00, Medium Dark 0.00, Fair 0.00, Dark 0.00, Very Fair 0.00, 66.8ms\n",
      "image 15/32 E:\\Clg Activities\\Projects\\Cosmetic shade recomender\\Data\\Test\\Medium Dark\\1_1_1_20170109194554835.jpg.chip.jpg: 224x224 Medium 0.89, Very Fair 0.05, Fair 0.05, Dark 0.00, Medium Dark 0.00, 243.3ms\n",
      "image 16/32 E:\\Clg Activities\\Projects\\Cosmetic shade recomender\\Data\\Test\\Medium Dark\\2.jpeg: 224x224 Dark 0.84, Medium Dark 0.10, Medium 0.06, Very Fair 0.00, Fair 0.00, 60.8ms\n",
      "image 17/32 E:\\Clg Activities\\Projects\\Cosmetic shade recomender\\Data\\Test\\Medium Dark\\23_0_1_20170114032011297.jpg.chip.jpg: 224x224 Medium Dark 0.56, Dark 0.44, Medium 0.00, Fair 0.00, Very Fair 0.00, 33.9ms\n",
      "image 18/32 E:\\Clg Activities\\Projects\\Cosmetic shade recomender\\Data\\Test\\Medium Dark\\23_1_1_20170114024652649.jpg.chip.jpg: 224x224 Medium 1.00, Dark 0.00, Medium Dark 0.00, Fair 0.00, Very Fair 0.00, 24.9ms\n",
      "image 19/32 E:\\Clg Activities\\Projects\\Cosmetic shade recomender\\Data\\Test\\Medium Dark\\23_1_1_20170114033443186.jpg.chip.jpg: 224x224 Medium 0.71, Medium Dark 0.29, Dark 0.00, Fair 0.00, Very Fair 0.00, 34.9ms\n",
      "image 20/32 E:\\Clg Activities\\Projects\\Cosmetic shade recomender\\Data\\Test\\Medium Dark\\23_1_1_20170117171341177.jpg.chip.jpg: 224x224 Medium 1.00, Medium Dark 0.00, Fair 0.00, Dark 0.00, Very Fair 0.00, 29.9ms\n",
      "image 21/32 E:\\Clg Activities\\Projects\\Cosmetic shade recomender\\Data\\Test\\Medium Dark\\24_0_0_20170113210126406.jpg.chip.jpg: 224x224 Medium Dark 1.00, Medium 0.00, Dark 0.00, Fair 0.00, Very Fair 0.00, 32.9ms\n",
      "image 22/32 E:\\Clg Activities\\Projects\\Cosmetic shade recomender\\Data\\Test\\Medium Dark\\24_0_1_20170113134109338.jpg.chip.jpg: 224x224 Dark 0.62, Medium 0.24, Medium Dark 0.13, Fair 0.00, Very Fair 0.00, 35.9ms\n",
      "image 23/32 E:\\Clg Activities\\Projects\\Cosmetic shade recomender\\Data\\Test\\Medium Dark\\24_0_1_20170114030108935.jpg.chip.jpg: 224x224 Medium Dark 0.99, Dark 0.01, Medium 0.00, Fair 0.00, Very Fair 0.00, 67.8ms\n",
      "image 24/32 E:\\Clg Activities\\Projects\\Cosmetic shade recomender\\Data\\Test\\Medium Dark\\3.jpg: 224x224 Medium Dark 0.80, Medium 0.20, Dark 0.00, Fair 0.00, Very Fair 0.00, 58.8ms\n",
      "image 25/32 E:\\Clg Activities\\Projects\\Cosmetic shade recomender\\Data\\Test\\Medium Dark\\3_0_1_20170109194623635.jpg.chip.jpg: 224x224 Medium 0.88, Dark 0.06, Medium Dark 0.06, Fair 0.00, Very Fair 0.00, 34.9ms\n",
      "image 26/32 E:\\Clg Activities\\Projects\\Cosmetic shade recomender\\Data\\Test\\Medium Dark\\3_0_1_20170110213659314.jpg.chip.jpg: 224x224 Medium Dark 0.86, Medium 0.14, Dark 0.00, Very Fair 0.00, Fair 0.00, 31.9ms\n",
      "image 27/32 E:\\Clg Activities\\Projects\\Cosmetic shade recomender\\Data\\Test\\Medium Dark\\3_1_1_20170109194614913.jpg.chip.jpg: 224x224 Medium 0.99, Medium Dark 0.00, Dark 0.00, Fair 0.00, Very Fair 0.00, 45.9ms\n",
      "image 28/32 E:\\Clg Activities\\Projects\\Cosmetic shade recomender\\Data\\Test\\Medium Dark\\5.jpg: 224x224 Medium Dark 0.89, Medium 0.11, Dark 0.00, Fair 0.00, Very Fair 0.00, 31.9ms\n",
      "image 29/32 E:\\Clg Activities\\Projects\\Cosmetic shade recomender\\Data\\Test\\Medium Dark\\5_0_1_20170113154912353.jpg.chip.jpg: 224x224 Medium Dark 0.51, Medium 0.46, Dark 0.03, Fair 0.00, Very Fair 0.00, 34.9ms\n",
      "image 30/32 E:\\Clg Activities\\Projects\\Cosmetic shade recomender\\Data\\Test\\Medium Dark\\6_1_1_20161220220430595.jpg.chip.jpg: 224x224 Medium 0.99, Medium Dark 0.01, Fair 0.00, Dark 0.00, Very Fair 0.00, 45.9ms\n",
      "image 31/32 E:\\Clg Activities\\Projects\\Cosmetic shade recomender\\Data\\Test\\Medium Dark\\7_1_1_20170109194708063.jpg.chip.jpg: 224x224 Medium Dark 0.66, Dark 0.33, Medium 0.00, Fair 0.00, Very Fair 0.00, 58.8ms\n",
      "image 32/32 E:\\Clg Activities\\Projects\\Cosmetic shade recomender\\Data\\Test\\Medium Dark\\9_1_1_20170109201837354.jpg.chip (2).jpg: 224x224 Medium Dark 0.97, Dark 0.03, Medium 0.00, Fair 0.00, Very Fair 0.00, 76.8ms\n",
      "Speed: 6.0ms preprocess, 49.8ms inference, 0.1ms postprocess per image at shape (1, 3, 224, 224)\n",
      "\n",
      "image 1/44 E:\\Clg Activities\\Projects\\Cosmetic shade recomender\\Data\\Test\\Very Fair\\15_1_0_20170109214523308.jpg.chip.jpg: 224x224 Very Fair 1.00, Fair 0.00, Medium 0.00, Dark 0.00, Medium Dark 0.00, 53.8ms\n",
      "image 2/44 E:\\Clg Activities\\Projects\\Cosmetic shade recomender\\Data\\Test\\Very Fair\\15_1_0_20170109214633067.jpg.chip.jpg: 224x224 Very Fair 0.99, Fair 0.01, Medium 0.00, Dark 0.00, Medium Dark 0.00, 58.8ms\n",
      "image 3/44 E:\\Clg Activities\\Projects\\Cosmetic shade recomender\\Data\\Test\\Very Fair\\15_1_0_20170109214723528.jpg.chip.jpg: 224x224 Very Fair 0.89, Fair 0.11, Medium 0.00, Dark 0.00, Medium Dark 0.00, 69.8ms\n",
      "image 4/44 E:\\Clg Activities\\Projects\\Cosmetic shade recomender\\Data\\Test\\Very Fair\\16_0_0_20170110231646278.jpg.chip.jpg: 224x224 Very Fair 0.75, Fair 0.25, Medium 0.00, Dark 0.00, Medium Dark 0.00, 32.9ms\n",
      "image 5/44 E:\\Clg Activities\\Projects\\Cosmetic shade recomender\\Data\\Test\\Very Fair\\16_1_3_20170109213433239.jpg.chip.jpg: 224x224 Very Fair 0.92, Fair 0.08, Medium 0.00, Dark 0.00, Medium Dark 0.00, 29.9ms\n",
      "image 6/44 E:\\Clg Activities\\Projects\\Cosmetic shade recomender\\Data\\Test\\Very Fair\\18_0_0_20170110232106743.jpg.chip.jpg: 224x224 Very Fair 0.98, Fair 0.01, Medium 0.01, Dark 0.00, Medium Dark 0.00, 29.9ms\n",
      "image 7/44 E:\\Clg Activities\\Projects\\Cosmetic shade recomender\\Data\\Test\\Very Fair\\18_0_0_20170110232448997.jpg.chip.jpg: 224x224 Fair 0.97, Very Fair 0.03, Medium 0.00, Dark 0.00, Medium Dark 0.00, 24.9ms\n",
      "image 8/44 E:\\Clg Activities\\Projects\\Cosmetic shade recomender\\Data\\Test\\Very Fair\\18_0_0_20170110232621309.jpg.chip.jpg: 224x224 Fair 0.95, Very Fair 0.05, Medium 0.00, Dark 0.00, Medium Dark 0.00, 60.8ms\n",
      "image 9/44 E:\\Clg Activities\\Projects\\Cosmetic shade recomender\\Data\\Test\\Very Fair\\18_0_4_20170103201305015.jpg.chip.jpg: 224x224 Fair 0.50, Medium 0.39, Very Fair 0.08, Dark 0.01, Medium Dark 0.01, 67.8ms\n",
      "image 10/44 E:\\Clg Activities\\Projects\\Cosmetic shade recomender\\Data\\Test\\Very Fair\\18_1_0_20170109213413212.jpg.chip.jpg: 224x224 Very Fair 1.00, Fair 0.00, Medium 0.00, Dark 0.00, Medium Dark 0.00, 55.8ms\n",
      "image 11/44 E:\\Clg Activities\\Projects\\Cosmetic shade recomender\\Data\\Test\\Very Fair\\18_1_0_20170109213414723.jpg.chip.jpg: 224x224 Very Fair 1.00, Fair 0.00, Medium 0.00, Dark 0.00, Medium Dark 0.00, 40.9ms\n",
      "image 12/44 E:\\Clg Activities\\Projects\\Cosmetic shade recomender\\Data\\Test\\Very Fair\\18_1_2_20170109213157620.jpg.chip.jpg: 224x224 Very Fair 1.00, Dark 0.00, Fair 0.00, Medium 0.00, Medium Dark 0.00, 38.9ms\n",
      "image 13/44 E:\\Clg Activities\\Projects\\Cosmetic shade recomender\\Data\\Test\\Very Fair\\19_0_2_20170104020121132.jpg.chip.jpg: 224x224 Very Fair 0.65, Fair 0.34, Medium 0.01, Dark 0.00, Medium Dark 0.00, 49.9ms\n",
      "image 14/44 E:\\Clg Activities\\Projects\\Cosmetic shade recomender\\Data\\Test\\Very Fair\\21_0_3_20170119150216454.jpg.chip.jpg: 224x224 Very Fair 0.77, Fair 0.22, Medium 0.01, Dark 0.00, Medium Dark 0.00, 37.9ms\n",
      "image 15/44 E:\\Clg Activities\\Projects\\Cosmetic shade recomender\\Data\\Test\\Very Fair\\22_0_0_20170111181750310.jpg.chip.jpg: 224x224 Very Fair 0.99, Fair 0.01, Medium 0.00, Dark 0.00, Medium Dark 0.00, 50.9ms\n",
      "image 16/44 E:\\Clg Activities\\Projects\\Cosmetic shade recomender\\Data\\Test\\Very Fair\\24_1_2_20170104021300885.jpg.chip.jpg: 224x224 Very Fair 0.94, Fair 0.06, Medium 0.00, Dark 0.00, Medium Dark 0.00, 57.9ms\n",
      "image 17/44 E:\\Clg Activities\\Projects\\Cosmetic shade recomender\\Data\\Test\\Very Fair\\29_0_0_20170104201127146.jpg.chip.jpg: 224x224 Fair 0.98, Very Fair 0.02, Medium 0.00, Dark 0.00, Medium Dark 0.00, 87.8ms\n",
      "image 18/44 E:\\Clg Activities\\Projects\\Cosmetic shade recomender\\Data\\Test\\Very Fair\\29_0_0_20170104202110730.jpg.chip.jpg: 224x224 Fair 0.95, Very Fair 0.05, Medium 0.00, Dark 0.00, Medium Dark 0.00, 86.8ms\n",
      "image 19/44 E:\\Clg Activities\\Projects\\Cosmetic shade recomender\\Data\\Test\\Very Fair\\31_1_0_20170103183812243.jpg.chip.jpg: 224x224 Medium 0.95, Very Fair 0.04, Fair 0.01, Dark 0.00, Medium Dark 0.00, 41.9ms\n",
      "image 20/44 E:\\Clg Activities\\Projects\\Cosmetic shade recomender\\Data\\Test\\Very Fair\\31_1_4_20170103230248753.jpg.chip.jpg: 224x224 Very Fair 0.99, Fair 0.01, Medium 0.00, Dark 0.00, Medium Dark 0.00, 27.9ms\n",
      "image 21/44 E:\\Clg Activities\\Projects\\Cosmetic shade recomender\\Data\\Test\\Very Fair\\32_0_0_20170105165141556.jpg.chip.jpg: 224x224 Very Fair 0.78, Fair 0.22, Medium 0.00, Dark 0.00, Medium Dark 0.00, 24.9ms\n",
      "image 22/44 E:\\Clg Activities\\Projects\\Cosmetic shade recomender\\Data\\Test\\Very Fair\\32_0_0_20170105171757165.jpg.chip.jpg: 224x224 Fair 0.94, Very Fair 0.06, Medium 0.00, Medium Dark 0.00, Dark 0.00, 122.7ms\n",
      "image 23/44 E:\\Clg Activities\\Projects\\Cosmetic shade recomender\\Data\\Test\\Very Fair\\32_0_0_20170111181750357.jpg.chip.jpg: 224x224 Fair 0.90, Very Fair 0.10, Medium 0.00, Dark 0.00, Medium Dark 0.00, 28.9ms\n",
      "image 24/44 E:\\Clg Activities\\Projects\\Cosmetic shade recomender\\Data\\Test\\Very Fair\\34_0_0_20170104201652065.jpg.chip.jpg: 224x224 Very Fair 0.74, Fair 0.25, Medium 0.00, Dark 0.00, Medium Dark 0.00, 46.9ms\n",
      "image 25/44 E:\\Clg Activities\\Projects\\Cosmetic shade recomender\\Data\\Test\\Very Fair\\36_1_0_20170105164705002.jpg.chip.jpg: 224x224 Fair 0.43, Very Fair 0.31, Medium 0.26, Medium Dark 0.00, Dark 0.00, 59.8ms\n",
      "image 26/44 E:\\Clg Activities\\Projects\\Cosmetic shade recomender\\Data\\Test\\Very Fair\\36_1_0_20170108224009217.jpg.chip.jpg: 224x224 Fair 0.87, Very Fair 0.13, Medium 0.01, Dark 0.00, Medium Dark 0.00, 60.8ms\n",
      "image 27/44 E:\\Clg Activities\\Projects\\Cosmetic shade recomender\\Data\\Test\\Very Fair\\36_1_0_20170109003400403.jpg.chip.jpg: 224x224 Fair 0.83, Very Fair 0.17, Medium 0.00, Medium Dark 0.00, Dark 0.00, 41.9ms\n",
      "image 28/44 E:\\Clg Activities\\Projects\\Cosmetic shade recomender\\Data\\Test\\Very Fair\\36_1_4_20170117203519312.jpg.chip.jpg: 224x224 Very Fair 0.99, Fair 0.01, Medium 0.00, Dark 0.00, Medium Dark 0.00, 37.9ms\n",
      "image 29/44 E:\\Clg Activities\\Projects\\Cosmetic shade recomender\\Data\\Test\\Very Fair\\37_0_0_20170117114931801.jpg.chip.jpg: 224x224 Very Fair 0.64, Fair 0.35, Medium 0.00, Dark 0.00, Medium Dark 0.00, 47.9ms\n",
      "image 30/44 E:\\Clg Activities\\Projects\\Cosmetic shade recomender\\Data\\Test\\Very Fair\\37_0_0_20170117120612576.jpg.chip.jpg: 224x224 Very Fair 0.64, Fair 0.35, Medium 0.02, Dark 0.00, Medium Dark 0.00, 36.9ms\n",
      "image 31/44 E:\\Clg Activities\\Projects\\Cosmetic shade recomender\\Data\\Test\\Very Fair\\38_0_0_20170105171807556.jpg.chip.jpg: 224x224 Fair 0.99, Very Fair 0.01, Medium 0.00, Medium Dark 0.00, Dark 0.00, 44.9ms\n",
      "image 32/44 E:\\Clg Activities\\Projects\\Cosmetic shade recomender\\Data\\Test\\Very Fair\\39_1_0_20170104002227438.jpg.chip.jpg: 224x224 Very Fair 0.83, Fair 0.17, Medium 0.00, Dark 0.00, Medium Dark 0.00, 41.9ms\n",
      "image 33/44 E:\\Clg Activities\\Projects\\Cosmetic shade recomender\\Data\\Test\\Very Fair\\39_1_0_20170104205624580.jpg.chip.jpg: 224x224 Very Fair 1.00, Fair 0.00, Medium 0.00, Dark 0.00, Medium Dark 0.00, 64.8ms\n",
      "image 34/44 E:\\Clg Activities\\Projects\\Cosmetic shade recomender\\Data\\Test\\Very Fair\\39_1_0_20170104235806251.jpg.chip.jpg: 224x224 Very Fair 0.99, Fair 0.01, Medium 0.00, Dark 0.00, Medium Dark 0.00, 85.8ms\n",
      "image 35/44 E:\\Clg Activities\\Projects\\Cosmetic shade recomender\\Data\\Test\\Very Fair\\39_1_0_20170105003308781.jpg.chip.jpg: 224x224 Very Fair 0.87, Fair 0.13, Medium 0.00, Dark 0.00, Medium Dark 0.00, 79.8ms\n",
      "image 36/44 E:\\Clg Activities\\Projects\\Cosmetic shade recomender\\Data\\Test\\Very Fair\\39_1_0_20170105164247586.jpg.chip.jpg: 224x224 Very Fair 0.66, Fair 0.34, Medium 0.00, Medium Dark 0.00, Dark 0.00, 35.9ms\n",
      "image 37/44 E:\\Clg Activities\\Projects\\Cosmetic shade recomender\\Data\\Test\\Very Fair\\39_1_0_20170105172637013.jpg.chip.jpg: 224x224 Very Fair 0.75, Fair 0.25, Medium 0.00, Dark 0.00, Medium Dark 0.00, 39.9ms\n",
      "image 38/44 E:\\Clg Activities\\Projects\\Cosmetic shade recomender\\Data\\Test\\Very Fair\\39_1_0_20170111182452865.jpg.chip.jpg: 224x224 Very Fair 0.75, Fair 0.25, Medium 0.00, Medium Dark 0.00, Dark 0.00, 23.9ms\n",
      "image 39/44 E:\\Clg Activities\\Projects\\Cosmetic shade recomender\\Data\\Test\\Very Fair\\39_1_0_20170117154452143.jpg.chip.jpg: 224x224 Fair 0.61, Very Fair 0.35, Medium 0.03, Medium Dark 0.00, Dark 0.00, 34.9ms\n",
      "image 40/44 E:\\Clg Activities\\Projects\\Cosmetic shade recomender\\Data\\Test\\Very Fair\\40_0_0_20170103182925914.jpg.chip.jpg: 224x224 Very Fair 1.00, Fair 0.00, Medium 0.00, Dark 0.00, Medium Dark 0.00, 27.9ms\n",
      "image 41/44 E:\\Clg Activities\\Projects\\Cosmetic shade recomender\\Data\\Test\\Very Fair\\40_0_0_20170104202600778.jpg.chip.jpg: 224x224 Very Fair 1.00, Fair 0.00, Medium 0.00, Dark 0.00, Medium Dark 0.00, 27.9ms\n",
      "image 42/44 E:\\Clg Activities\\Projects\\Cosmetic shade recomender\\Data\\Test\\Very Fair\\40_0_0_20170117134621935.jpg.chip.jpg: 224x224 Fair 0.92, Very Fair 0.07, Medium 0.02, Medium Dark 0.00, Dark 0.00, 30.9ms\n",
      "image 43/44 E:\\Clg Activities\\Projects\\Cosmetic shade recomender\\Data\\Test\\Very Fair\\44_1_0_20170116222639625.jpg.chip.jpg: 224x224 Very Fair 0.96, Fair 0.04, Medium 0.00, Dark 0.00, Medium Dark 0.00, 61.8ms\n",
      "image 44/44 E:\\Clg Activities\\Projects\\Cosmetic shade recomender\\Data\\Test\\Very Fair\\44_1_0_20170117190015938.jpg.chip.jpg: 224x224 Very Fair 0.77, Fair 0.23, Medium 0.00, Dark 0.00, Medium Dark 0.00, 78.8ms\n",
      "Speed: 6.7ms preprocess, 49.8ms inference, 0.1ms postprocess per image at shape (1, 3, 224, 224)\n",
      "[0, 0, 0, 0, 0, 0, 0, 0, 0, 0, 0, 0, 0, 0, 0, 0, 0, 0, 0, 0, 0, 1, 1, 1, 1, 1, 1, 1, 1, 1, 1, 1, 1, 1, 1, 1, 1, 1, 1, 1, 1, 1, 1, 1, 1, 1, 1, 1, 1, 1, 1, 1, 1, 1, 1, 1, 1, 1, 1, 1, 1, 1, 2, 2, 2, 2, 2, 2, 2, 2, 2, 2, 2, 2, 2, 2, 2, 2, 2, 2, 2, 2, 2, 2, 2, 2, 2, 2, 2, 2, 2, 2, 2, 2, 2, 2, 2, 3, 3, 3, 3, 3, 3, 3, 3, 3, 3, 3, 3, 3, 3, 3, 3, 3, 3, 3, 3, 3, 3, 3, 3, 3, 3, 3, 3, 3, 3, 3, 3, 4, 4, 4, 4, 4, 4, 4, 4, 4, 4, 4, 4, 4, 4, 4, 4, 4, 4, 4, 4, 4, 4, 4, 4, 4, 4, 4, 4, 4, 4, 4, 4, 4, 4, 4, 4, 4, 4, 4, 4, 4, 4, 4, 4]\n",
      "[0, 0, 0, 0, 0, 0, 0, 0, 0, 0, 0, 0, 0, 0, 0, 0, 0, 0, 0, 0, 0, 1, 4, 1, 1, 1, 1, 1, 1, 1, 1, 1, 1, 1, 1, 1, 1, 2, 1, 4, 1, 2, 1, 1, 1, 1, 1, 1, 1, 1, 1, 1, 1, 1, 1, 1, 1, 1, 1, 1, 1, 1, 2, 2, 2, 3, 2, 2, 2, 2, 2, 2, 2, 2, 2, 2, 2, 2, 2, 2, 2, 2, 2, 2, 2, 2, 2, 2, 2, 2, 2, 2, 2, 2, 3, 2, 2, 3, 3, 2, 2, 0, 3, 0, 3, 2, 2, 3, 2, 2, 2, 2, 0, 3, 2, 2, 2, 3, 0, 3, 3, 2, 3, 2, 3, 3, 2, 3, 3, 4, 4, 4, 4, 4, 4, 1, 1, 1, 4, 4, 4, 4, 4, 4, 4, 1, 1, 2, 4, 4, 1, 1, 4, 1, 1, 1, 4, 4, 4, 1, 4, 4, 4, 4, 4, 4, 4, 1, 4, 4, 1, 4, 4]\n"
     ]
    }
   ],
   "source": [
    "# Prediction on training data and cm\n",
    "\n",
    "\n",
    "true_labels = []\n",
    "predicted_labels = []\n",
    "\n",
    "# Run inference on each class and collect true and predicted labels\n",
    "    \n",
    "# Class 0: Dark\n",
    "results = trained_model.predict(source=\"E:\\Clg Activities\\Projects\\Cosmetic shade recomender\\Data\\Test\\Dark\")\n",
    "for result in results:\n",
    "    predicted_class = result.probs.top1  # Get the predicted class index\n",
    "    true_labels.append(0)  # Dark corresponds to label 0\n",
    "    predicted_labels.append(predicted_class)\n",
    "\n",
    "# Class 1: Fair\n",
    "results1 = trained_model.predict(source='E:\\Clg Activities\\Projects\\Cosmetic shade recomender\\Data\\Test\\Fair')\n",
    "for result in results1:\n",
    "    predicted_class = result.probs.top1  # Get the predicted class index\n",
    "    true_labels.append(1)  # Fair corresponds to label 2\n",
    "    predicted_labels.append(predicted_class)\n",
    "\n",
    "# Class 2: Medium\n",
    "results2 = trained_model.predict(source='E:\\Clg Activities\\Projects\\Cosmetic shade recomender\\Data\\Test\\Medium')\n",
    "for result in results2:\n",
    "    predicted_class = result.probs.top1  # Get the predicted class index\n",
    "    true_labels.append(2)  # Medium corresponds to label 3\n",
    "    predicted_labels.append(predicted_class)\n",
    "\n",
    "# Class 3: Medium Dark\n",
    "results = trained_model.predict(source=\"E:\\Clg Activities\\Projects\\Cosmetic shade recomender\\Data\\Test\\Medium Dark\")\n",
    "for result in results:\n",
    "    predicted_class = result.probs.top1  # Get the predicted class index\n",
    "    true_labels.append(3)  # Medium Dark corresponds to label 4\n",
    "    predicted_labels.append(predicted_class)\n",
    "\n",
    "# Class 4: Very Fair\n",
    "results = trained_model.predict(source=\"E:\\Clg Activities\\Projects\\Cosmetic shade recomender\\Data\\Test\\Very Fair\")\n",
    "for result in results:\n",
    "    predicted_class = result.probs.top1  # Get the predicted class index\n",
    "    true_labels.append(4)  # BaVery Fair corresponds to label 5\n",
    "    predicted_labels.append(predicted_class)\n",
    "\n",
    "    \n",
    "# Now you have true_labels and predicted_labels lists\n",
    "print(true_labels)\n",
    "print(predicted_labels)"
   ]
  },
  {
   "cell_type": "code",
   "execution_count": 6,
   "metadata": {},
   "outputs": [
    {
     "name": "stdout",
     "output_type": "stream",
     "text": [
      "[[21  0  0  0  0]\n",
      " [ 0 37  2  0  2]\n",
      " [ 0  0 33  2  0]\n",
      " [ 4  0 14 14  0]\n",
      " [ 0 13  1  0 30]]\n"
     ]
    },
    {
     "data": {
      "text/plain": [
       "<Figure size 800x600 with 2 Axes>"
      ]
     },
     "metadata": {},
     "output_type": "display_data"
    }
   ],
   "source": [
    "# Define class names\n",
    "class_names = [\"Dark\", \"Fair\", \"Medium\",\"Medium Dark\",\"Very Fair\"]\n",
    "\n",
    "# Compute the confusion matrix\n",
    "conf_matrix = confusion_matrix(true_labels, predicted_labels)\n",
    "print(conf_matrix)\n",
    "# Plot the confusion matrix\n",
    "plt.figure(figsize=(8, 6))\n",
    "sns.heatmap(conf_matrix, annot=True, fmt='d', cmap='Blues', xticklabels=class_names, yticklabels=class_names)\n",
    "plt.xlabel(\"Predicted\")\n",
    "plt.ylabel(\"Actual\")\n",
    "plt.title(\"Confusion Matrix\")\n",
    "plt.show()"
   ]
  },
  {
   "cell_type": "code",
   "execution_count": null,
   "metadata": {},
   "outputs": [],
   "source": []
  },
  {
   "cell_type": "markdown",
   "metadata": {},
   "source": [
    "# Prediction on validation data and cm "
   ]
  },
  {
   "cell_type": "code",
   "execution_count": 7,
   "metadata": {},
   "outputs": [
    {
     "name": "stdout",
     "output_type": "stream",
     "text": [
      "\n",
      "image 1/38 E:\\Clg Activities\\Projects\\Cosmetic shade recomender\\Data\\Validation\\Dark\\1 - Copy.jpeg: 224x224 Dark 1.00, Medium Dark 0.00, Medium 0.00, Very Fair 0.00, Fair 0.00, 62.8ms\n"
     ]
    },
    {
     "name": "stderr",
     "output_type": "stream",
     "text": [
      "<>:7: SyntaxWarning: invalid escape sequence '\\C'\n",
      "<>:14: SyntaxWarning: invalid escape sequence '\\C'\n",
      "<>:21: SyntaxWarning: invalid escape sequence '\\C'\n",
      "<>:28: SyntaxWarning: invalid escape sequence '\\C'\n",
      "<>:35: SyntaxWarning: invalid escape sequence '\\C'\n",
      "<>:7: SyntaxWarning: invalid escape sequence '\\C'\n",
      "<>:14: SyntaxWarning: invalid escape sequence '\\C'\n",
      "<>:21: SyntaxWarning: invalid escape sequence '\\C'\n",
      "<>:28: SyntaxWarning: invalid escape sequence '\\C'\n",
      "<>:35: SyntaxWarning: invalid escape sequence '\\C'\n",
      "C:\\Users\\Genius\\AppData\\Local\\Temp\\ipykernel_10340\\660512413.py:7: SyntaxWarning: invalid escape sequence '\\C'\n",
      "  results = trained_model.predict(source='E:\\Clg Activities\\Projects\\Cosmetic shade recomender\\Data\\Validation\\Dark')\n",
      "C:\\Users\\Genius\\AppData\\Local\\Temp\\ipykernel_10340\\660512413.py:14: SyntaxWarning: invalid escape sequence '\\C'\n",
      "  results1 = trained_model.predict(source='E:\\Clg Activities\\Projects\\Cosmetic shade recomender\\Data\\Validation\\Fair')\n",
      "C:\\Users\\Genius\\AppData\\Local\\Temp\\ipykernel_10340\\660512413.py:21: SyntaxWarning: invalid escape sequence '\\C'\n",
      "  results2 = trained_model.predict(source='E:\\Clg Activities\\Projects\\Cosmetic shade recomender\\Data\\Validation\\Medium')\n",
      "C:\\Users\\Genius\\AppData\\Local\\Temp\\ipykernel_10340\\660512413.py:28: SyntaxWarning: invalid escape sequence '\\C'\n",
      "  results2 = trained_model.predict(source='E:\\Clg Activities\\Projects\\Cosmetic shade recomender\\Data\\Validation\\Medium Dark')\n",
      "C:\\Users\\Genius\\AppData\\Local\\Temp\\ipykernel_10340\\660512413.py:35: SyntaxWarning: invalid escape sequence '\\C'\n",
      "  results2 = trained_model.predict(source='E:\\Clg Activities\\Projects\\Cosmetic shade recomender\\Data\\Validation\\Very Fair')\n"
     ]
    },
    {
     "name": "stdout",
     "output_type": "stream",
     "text": [
      "image 2/38 E:\\Clg Activities\\Projects\\Cosmetic shade recomender\\Data\\Validation\\Dark\\15 - Copy.jpg: 224x224 Dark 1.00, Medium Dark 0.00, Medium 0.00, Very Fair 0.00, Fair 0.00, 219.4ms\n",
      "image 3/38 E:\\Clg Activities\\Projects\\Cosmetic shade recomender\\Data\\Validation\\Dark\\15_0_1_20170120134502877.jpg.chip (2).jpg: 224x224 Dark 0.98, Medium Dark 0.02, Medium 0.00, Very Fair 0.00, Fair 0.00, 71.8ms\n",
      "image 4/38 E:\\Clg Activities\\Projects\\Cosmetic shade recomender\\Data\\Validation\\Dark\\19 - Copy.jpeg: 224x224 Dark 1.00, Medium Dark 0.00, Medium 0.00, Very Fair 0.00, Fair 0.00, 88.8ms\n",
      "image 5/38 E:\\Clg Activities\\Projects\\Cosmetic shade recomender\\Data\\Validation\\Dark\\19.jpeg: 224x224 Dark 1.00, Medium Dark 0.00, Medium 0.00, Very Fair 0.00, Fair 0.00, 113.7ms\n",
      "image 6/38 E:\\Clg Activities\\Projects\\Cosmetic shade recomender\\Data\\Validation\\Dark\\24_1_1_20170112204648604.jpg.chip - Copy.jpg: 224x224 Dark 1.00, Medium Dark 0.00, Medium 0.00, Very Fair 0.00, Fair 0.00, 41.9ms\n",
      "image 7/38 E:\\Clg Activities\\Projects\\Cosmetic shade recomender\\Data\\Validation\\Dark\\25.jpg: 224x224 Dark 1.00, Medium Dark 0.00, Medium 0.00, Fair 0.00, Very Fair 0.00, 30.9ms\n",
      "image 8/38 E:\\Clg Activities\\Projects\\Cosmetic shade recomender\\Data\\Validation\\Dark\\25_0_1_20170113184508496.jpg.chip.jpg: 224x224 Dark 1.00, Medium Dark 0.00, Medium 0.00, Very Fair 0.00, Fair 0.00, 35.9ms\n",
      "image 9/38 E:\\Clg Activities\\Projects\\Cosmetic shade recomender\\Data\\Validation\\Dark\\3 - Copy.jpeg: 224x224 Dark 1.00, Medium Dark 0.00, Medium 0.00, Very Fair 0.00, Fair 0.00, 37.9ms\n",
      "image 10/38 E:\\Clg Activities\\Projects\\Cosmetic shade recomender\\Data\\Validation\\Dark\\3.jpeg: 224x224 Dark 1.00, Medium Dark 0.00, Medium 0.00, Very Fair 0.00, Fair 0.00, 34.9ms\n",
      "image 11/38 E:\\Clg Activities\\Projects\\Cosmetic shade recomender\\Data\\Validation\\Dark\\4.jpg: 224x224 Dark 1.00, Medium Dark 0.00, Very Fair 0.00, Medium 0.00, Fair 0.00, 33.9ms\n",
      "image 12/38 E:\\Clg Activities\\Projects\\Cosmetic shade recomender\\Data\\Validation\\Dark\\409.jpg: 224x224 Dark 0.99, Medium Dark 0.01, Medium 0.00, Fair 0.00, Very Fair 0.00, 33.9ms\n",
      "image 13/38 E:\\Clg Activities\\Projects\\Cosmetic shade recomender\\Data\\Validation\\Dark\\43615605.jpg: 224x224 Dark 1.00, Medium Dark 0.00, Medium 0.00, Very Fair 0.00, Fair 0.00, 61.8ms\n",
      "image 14/38 E:\\Clg Activities\\Projects\\Cosmetic shade recomender\\Data\\Validation\\Dark\\437.jpeg: 224x224 Dark 1.00, Medium Dark 0.00, Medium 0.00, Very Fair 0.00, Fair 0.00, 78.8ms\n",
      "image 15/38 E:\\Clg Activities\\Projects\\Cosmetic shade recomender\\Data\\Validation\\Dark\\44981770.jpg: 224x224 Dark 0.99, Medium Dark 0.01, Medium 0.00, Very Fair 0.00, Fair 0.00, 48.9ms\n",
      "image 16/38 E:\\Clg Activities\\Projects\\Cosmetic shade recomender\\Data\\Validation\\Dark\\469.jpg: 224x224 Dark 1.00, Medium Dark 0.00, Medium 0.00, Very Fair 0.00, Fair 0.00, 35.9ms\n",
      "image 17/38 E:\\Clg Activities\\Projects\\Cosmetic shade recomender\\Data\\Validation\\Dark\\47730809.jpg: 224x224 Dark 1.00, Medium Dark 0.00, Fair 0.00, Very Fair 0.00, Medium 0.00, 57.8ms\n",
      "image 18/38 E:\\Clg Activities\\Projects\\Cosmetic shade recomender\\Data\\Validation\\Dark\\485.jpg: 224x224 Dark 1.00, Medium Dark 0.00, Medium 0.00, Fair 0.00, Very Fair 0.00, 43.9ms\n",
      "image 19/38 E:\\Clg Activities\\Projects\\Cosmetic shade recomender\\Data\\Validation\\Dark\\486.jpg: 224x224 Dark 1.00, Medium Dark 0.00, Medium 0.00, Fair 0.00, Very Fair 0.00, 82.8ms\n",
      "image 20/38 E:\\Clg Activities\\Projects\\Cosmetic shade recomender\\Data\\Validation\\Dark\\487.jpeg: 224x224 Dark 1.00, Medium Dark 0.00, Medium 0.00, Very Fair 0.00, Fair 0.00, 56.8ms\n",
      "image 21/38 E:\\Clg Activities\\Projects\\Cosmetic shade recomender\\Data\\Validation\\Dark\\490.jpg: 224x224 Dark 1.00, Medium Dark 0.00, Medium 0.00, Fair 0.00, Very Fair 0.00, 68.8ms\n",
      "image 22/38 E:\\Clg Activities\\Projects\\Cosmetic shade recomender\\Data\\Validation\\Dark\\495.jpg: 224x224 Dark 1.00, Medium Dark 0.00, Medium 0.00, Very Fair 0.00, Fair 0.00, 66.8ms\n",
      "image 23/38 E:\\Clg Activities\\Projects\\Cosmetic shade recomender\\Data\\Validation\\Dark\\5 - Copy.jpg: 224x224 Dark 1.00, Medium Dark 0.00, Medium 0.00, Very Fair 0.00, Fair 0.00, 45.9ms\n",
      "image 24/38 E:\\Clg Activities\\Projects\\Cosmetic shade recomender\\Data\\Validation\\Dark\\5.jpg: 224x224 Dark 1.00, Medium Dark 0.00, Medium 0.00, Very Fair 0.00, Fair 0.00, 28.9ms\n",
      "image 25/38 E:\\Clg Activities\\Projects\\Cosmetic shade recomender\\Data\\Validation\\Dark\\58768842.jpg: 224x224 Dark 1.00, Medium Dark 0.00, Very Fair 0.00, Medium 0.00, Fair 0.00, 31.9ms\n",
      "image 26/38 E:\\Clg Activities\\Projects\\Cosmetic shade recomender\\Data\\Validation\\Dark\\5_0_1_20170110213654372.jpg.chip.jpg: 224x224 Dark 1.00, Medium Dark 0.00, Very Fair 0.00, Medium 0.00, Fair 0.00, 31.9ms\n",
      "image 27/38 E:\\Clg Activities\\Projects\\Cosmetic shade recomender\\Data\\Validation\\Dark\\6_1_1_20170114024747282.jpg.chip.jpg: 224x224 Dark 1.00, Medium 0.00, Medium Dark 0.00, Very Fair 0.00, Fair 0.00, 32.9ms\n",
      "image 28/38 E:\\Clg Activities\\Projects\\Cosmetic shade recomender\\Data\\Validation\\Dark\\9 - Copy.jpg: 224x224 Dark 1.00, Medium Dark 0.00, Medium 0.00, Very Fair 0.00, Fair 0.00, 29.9ms\n",
      "image 29/38 E:\\Clg Activities\\Projects\\Cosmetic shade recomender\\Data\\Validation\\Dark\\augmented_62562208.jpg: 224x224 Dark 1.00, Medium Dark 0.00, Very Fair 0.00, Fair 0.00, Medium 0.00, 52.9ms\n",
      "image 30/38 E:\\Clg Activities\\Projects\\Cosmetic shade recomender\\Data\\Validation\\Dark\\augmented_64878977.jpg: 224x224 Dark 1.00, Medium Dark 0.00, Medium 0.00, Very Fair 0.00, Fair 0.00, 72.8ms\n",
      "image 31/38 E:\\Clg Activities\\Projects\\Cosmetic shade recomender\\Data\\Validation\\Dark\\augmented_71015091.jpg: 224x224 Dark 1.00, Medium Dark 0.00, Medium 0.00, Very Fair 0.00, Fair 0.00, 52.9ms\n",
      "image 32/38 E:\\Clg Activities\\Projects\\Cosmetic shade recomender\\Data\\Validation\\Dark\\augmented_74678938.jpg: 224x224 Dark 1.00, Medium Dark 0.00, Medium 0.00, Very Fair 0.00, Fair 0.00, 33.9ms\n",
      "image 33/38 E:\\Clg Activities\\Projects\\Cosmetic shade recomender\\Data\\Validation\\Dark\\augmented_80270290.jpg: 224x224 Dark 1.00, Medium Dark 0.00, Medium 0.00, Very Fair 0.00, Fair 0.00, 55.8ms\n",
      "image 34/38 E:\\Clg Activities\\Projects\\Cosmetic shade recomender\\Data\\Validation\\Dark\\augmented_82223400.jpg: 224x224 Dark 1.00, Medium Dark 0.00, Medium 0.00, Fair 0.00, Very Fair 0.00, 36.9ms\n",
      "image 35/38 E:\\Clg Activities\\Projects\\Cosmetic shade recomender\\Data\\Validation\\Dark\\augmented_86833606.jpg: 224x224 Dark 1.00, Medium Dark 0.00, Medium 0.00, Very Fair 0.00, Fair 0.00, 46.9ms\n",
      "image 36/38 E:\\Clg Activities\\Projects\\Cosmetic shade recomender\\Data\\Validation\\Dark\\augmented_87075302.jpg: 224x224 Dark 1.00, Medium Dark 0.00, Very Fair 0.00, Medium 0.00, Fair 0.00, 59.8ms\n",
      "image 37/38 E:\\Clg Activities\\Projects\\Cosmetic shade recomender\\Data\\Validation\\Dark\\augmented_95226316.jpg: 224x224 Dark 1.00, Medium Dark 0.00, Medium 0.00, Fair 0.00, Very Fair 0.00, 60.8ms\n",
      "image 38/38 E:\\Clg Activities\\Projects\\Cosmetic shade recomender\\Data\\Validation\\Dark\\augmented_rotation4_84372553.jpg: 224x224 Dark 0.99, Medium Dark 0.01, Medium 0.00, Fair 0.00, Very Fair 0.00, 76.8ms\n",
      "Speed: 10.4ms preprocess, 56.8ms inference, 0.1ms postprocess per image at shape (1, 3, 224, 224)\n",
      "\n",
      "image 1/59 E:\\Clg Activities\\Projects\\Cosmetic shade recomender\\Data\\Validation\\Fair\\14_1_2_20170104021105972.jpg.chip.jpg: 224x224 Fair 1.00, Very Fair 0.00, Medium 0.00, Dark 0.00, Medium Dark 0.00, 85.8ms\n",
      "image 2/59 E:\\Clg Activities\\Projects\\Cosmetic shade recomender\\Data\\Validation\\Fair\\15_0_3_20170104225906465.jpg.chip.jpg: 224x224 Fair 0.54, Medium 0.46, Medium Dark 0.00, Very Fair 0.00, Dark 0.00, 33.9ms\n",
      "image 3/59 E:\\Clg Activities\\Projects\\Cosmetic shade recomender\\Data\\Validation\\Fair\\15_0_3_20170105183235993.jpg.chip.jpg: 224x224 Fair 0.97, Medium 0.03, Very Fair 0.00, Medium Dark 0.00, Dark 0.00, 25.9ms\n",
      "image 4/59 E:\\Clg Activities\\Projects\\Cosmetic shade recomender\\Data\\Validation\\Fair\\15_0_3_20170110225627090.jpg.chip.jpg: 224x224 Fair 1.00, Medium 0.00, Very Fair 0.00, Medium Dark 0.00, Dark 0.00, 144.6ms\n",
      "image 5/59 E:\\Clg Activities\\Projects\\Cosmetic shade recomender\\Data\\Validation\\Fair\\15_0_4_20170103201013615.jpg.chip.jpg: 224x224 Fair 0.88, Medium 0.12, Very Fair 0.00, Dark 0.00, Medium Dark 0.00, 33.9ms\n",
      "image 6/59 E:\\Clg Activities\\Projects\\Cosmetic shade recomender\\Data\\Validation\\Fair\\15_1_3_20170104221725742.jpg.chip.jpg: 224x224 Fair 0.48, Medium 0.47, Very Fair 0.04, Dark 0.01, Medium Dark 0.00, 26.9ms\n",
      "image 7/59 E:\\Clg Activities\\Projects\\Cosmetic shade recomender\\Data\\Validation\\Fair\\15_1_3_20170104221933959.jpg.chip.jpg: 224x224 Fair 0.67, Medium 0.31, Very Fair 0.02, Medium Dark 0.00, Dark 0.00, 74.8ms\n",
      "image 8/59 E:\\Clg Activities\\Projects\\Cosmetic shade recomender\\Data\\Validation\\Fair\\16_0_4_20170103201427977.jpg.chip.jpg: 224x224 Medium 0.92, Fair 0.08, Medium Dark 0.00, Very Fair 0.00, Dark 0.00, 68.8ms\n",
      "image 9/59 E:\\Clg Activities\\Projects\\Cosmetic shade recomender\\Data\\Validation\\Fair\\16_1_0_20170102234728107.jpg.chip.jpg: 224x224 Medium 0.82, Fair 0.16, Very Fair 0.02, Medium Dark 0.00, Dark 0.00, 53.9ms\n",
      "image 10/59 E:\\Clg Activities\\Projects\\Cosmetic shade recomender\\Data\\Validation\\Fair\\16_1_0_20170109204349968.jpg.chip.jpg: 224x224 Fair 0.68, Medium 0.30, Very Fair 0.02, Medium Dark 0.00, Dark 0.00, 41.9ms\n",
      "image 11/59 E:\\Clg Activities\\Projects\\Cosmetic shade recomender\\Data\\Validation\\Fair\\16_1_0_20170109205435776.jpg.chip.jpg: 224x224 Very Fair 0.93, Fair 0.07, Medium 0.00, Dark 0.00, Medium Dark 0.00, 47.9ms\n",
      "image 12/59 E:\\Clg Activities\\Projects\\Cosmetic shade recomender\\Data\\Validation\\Fair\\17_1_1_20170109214110957.jpg.chip.jpg: 224x224 Fair 1.00, Medium 0.00, Very Fair 0.00, Medium Dark 0.00, Dark 0.00, 36.9ms\n",
      "image 13/59 E:\\Clg Activities\\Projects\\Cosmetic shade recomender\\Data\\Validation\\Fair\\17_1_3_20170119153612825.jpg.chip.jpg: 224x224 Medium 0.62, Fair 0.34, Very Fair 0.04, Dark 0.00, Medium Dark 0.00, 37.9ms\n",
      "image 14/59 E:\\Clg Activities\\Projects\\Cosmetic shade recomender\\Data\\Validation\\Fair\\18_0_1_20170113132629362.jpg.chip.jpg: 224x224 Medium 0.98, Fair 0.01, Very Fair 0.01, Medium Dark 0.00, Dark 0.00, 46.9ms\n",
      "image 15/59 E:\\Clg Activities\\Projects\\Cosmetic shade recomender\\Data\\Validation\\Fair\\19_0_4_20170102233259362.jpg.chip.jpg: 224x224 Fair 0.75, Medium 0.25, Very Fair 0.00, Medium Dark 0.00, Dark 0.00, 51.9ms\n",
      "image 16/59 E:\\Clg Activities\\Projects\\Cosmetic shade recomender\\Data\\Validation\\Fair\\19_0_4_20170103234723267.jpg.chip.jpg: 224x224 Fair 0.97, Very Fair 0.02, Medium 0.01, Dark 0.00, Medium Dark 0.00, 89.8ms\n",
      "image 17/59 E:\\Clg Activities\\Projects\\Cosmetic shade recomender\\Data\\Validation\\Fair\\19_1_4_20170102235050099.jpg.chip.jpg: 224x224 Fair 0.99, Very Fair 0.01, Medium 0.00, Dark 0.00, Medium Dark 0.00, 118.7ms\n",
      "image 18/59 E:\\Clg Activities\\Projects\\Cosmetic shade recomender\\Data\\Validation\\Fair\\1_0_0_20161219162630727.jpg.chip.jpg: 224x224 Fair 1.00, Very Fair 0.00, Medium 0.00, Medium Dark 0.00, Dark 0.00, 68.8ms\n",
      "image 19/59 E:\\Clg Activities\\Projects\\Cosmetic shade recomender\\Data\\Validation\\Fair\\1_0_2_20161219141927321.jpg.chip.jpg: 224x224 Fair 1.00, Very Fair 0.00, Medium 0.00, Medium Dark 0.00, Dark 0.00, 33.9ms\n",
      "image 20/59 E:\\Clg Activities\\Projects\\Cosmetic shade recomender\\Data\\Validation\\Fair\\1_0_3_20161219190227867.jpg.chip.jpg: 224x224 Fair 0.99, Medium 0.00, Very Fair 0.00, Medium Dark 0.00, Dark 0.00, 33.9ms\n",
      "image 21/59 E:\\Clg Activities\\Projects\\Cosmetic shade recomender\\Data\\Validation\\Fair\\1_0_3_20161219224423280.jpg.chip.jpg: 224x224 Fair 1.00, Very Fair 0.00, Medium 0.00, Dark 0.00, Medium Dark 0.00, 28.9ms\n",
      "image 22/59 E:\\Clg Activities\\Projects\\Cosmetic shade recomender\\Data\\Validation\\Fair\\1_0_3_20161219224546584.jpg.chip.jpg: 224x224 Fair 1.00, Very Fair 0.00, Medium 0.00, Dark 0.00, Medium Dark 0.00, 31.9ms\n",
      "image 23/59 E:\\Clg Activities\\Projects\\Cosmetic shade recomender\\Data\\Validation\\Fair\\1_0_3_20161219224645904.jpg.chip.jpg: 224x224 Fair 1.00, Very Fair 0.00, Medium 0.00, Dark 0.00, Medium Dark 0.00, 69.8ms\n",
      "image 24/59 E:\\Clg Activities\\Projects\\Cosmetic shade recomender\\Data\\Validation\\Fair\\1_0_3_20161219224748008.jpg.chip.jpg: 224x224 Fair 1.00, Very Fair 0.00, Medium 0.00, Medium Dark 0.00, Dark 0.00, 58.8ms\n",
      "image 25/59 E:\\Clg Activities\\Projects\\Cosmetic shade recomender\\Data\\Validation\\Fair\\1_0_3_20161219225032897.jpg.chip.jpg: 224x224 Fair 1.00, Medium 0.00, Very Fair 0.00, Medium Dark 0.00, Dark 0.00, 70.8ms\n",
      "image 26/59 E:\\Clg Activities\\Projects\\Cosmetic shade recomender\\Data\\Validation\\Fair\\1_0_3_20161219225303736.jpg.chip.jpg: 224x224 Fair 1.00, Very Fair 0.00, Medium 0.00, Dark 0.00, Medium Dark 0.00, 51.9ms\n",
      "image 27/59 E:\\Clg Activities\\Projects\\Cosmetic shade recomender\\Data\\Validation\\Fair\\1_0_3_20161219225519457.jpg.chip.jpg: 224x224 Fair 0.84, Very Fair 0.16, Medium 0.00, Dark 0.00, Medium Dark 0.00, 40.9ms\n",
      "image 28/59 E:\\Clg Activities\\Projects\\Cosmetic shade recomender\\Data\\Validation\\Fair\\1_0_3_20161219225633088.jpg.chip.jpg: 224x224 Fair 1.00, Very Fair 0.00, Medium 0.00, Medium Dark 0.00, Dark 0.00, 41.9ms\n",
      "image 29/59 E:\\Clg Activities\\Projects\\Cosmetic shade recomender\\Data\\Validation\\Fair\\1_0_3_20161220142918568.jpg.chip.jpg: 224x224 Fair 1.00, Medium 0.00, Very Fair 0.00, Medium Dark 0.00, Dark 0.00, 40.9ms\n",
      "image 30/59 E:\\Clg Activities\\Projects\\Cosmetic shade recomender\\Data\\Validation\\Fair\\1_0_3_20161220143117879.jpg.chip.jpg: 224x224 Fair 1.00, Very Fair 0.00, Medium 0.00, Dark 0.00, Medium Dark 0.00, 33.9ms\n",
      "image 31/59 E:\\Clg Activities\\Projects\\Cosmetic shade recomender\\Data\\Validation\\Fair\\1_0_3_20161220215945524.jpg.chip.jpg: 224x224 Fair 1.00, Very Fair 0.00, Medium 0.00, Medium Dark 0.00, Dark 0.00, 50.9ms\n",
      "image 32/59 E:\\Clg Activities\\Projects\\Cosmetic shade recomender\\Data\\Validation\\Fair\\1_0_3_20161220220355890.jpg.chip.jpg: 224x224 Medium 0.94, Fair 0.05, Very Fair 0.02, Dark 0.00, Medium Dark 0.00, 47.9ms\n",
      "image 33/59 E:\\Clg Activities\\Projects\\Cosmetic shade recomender\\Data\\Validation\\Fair\\1_1_3_20161220220708394.jpg.chip.jpg: 224x224 Fair 0.97, Very Fair 0.03, Medium 0.00, Dark 0.00, Medium Dark 0.00, 55.9ms\n",
      "image 34/59 E:\\Clg Activities\\Projects\\Cosmetic shade recomender\\Data\\Validation\\Fair\\22_0_0_20170110232146790.jpg.chip.jpg: 224x224 Very Fair 0.48, Fair 0.46, Medium 0.07, Dark 0.00, Medium Dark 0.00, 72.8ms\n",
      "image 35/59 E:\\Clg Activities\\Projects\\Cosmetic shade recomender\\Data\\Validation\\Fair\\22_0_0_20170110232206562.jpg.chip.jpg: 224x224 Fair 0.63, Very Fair 0.37, Medium 0.00, Dark 0.00, Medium Dark 0.00, 69.8ms\n",
      "image 36/59 E:\\Clg Activities\\Projects\\Cosmetic shade recomender\\Data\\Validation\\Fair\\29_1_0_20170103163303377.jpg.chip.jpg: 224x224 Very Fair 0.97, Fair 0.02, Medium 0.00, Dark 0.00, Medium Dark 0.00, 60.8ms\n",
      "image 37/59 E:\\Clg Activities\\Projects\\Cosmetic shade recomender\\Data\\Validation\\Fair\\32_0_0_20170104202239802.jpg.chip.jpg: 224x224 Fair 0.60, Very Fair 0.39, Medium 0.01, Dark 0.00, Medium Dark 0.00, 30.9ms\n",
      "image 38/59 E:\\Clg Activities\\Projects\\Cosmetic shade recomender\\Data\\Validation\\Fair\\32_0_0_20170104203059659.jpg.chip.jpg: 224x224 Very Fair 0.57, Fair 0.42, Medium 0.01, Dark 0.00, Medium Dark 0.00, 38.9ms\n",
      "image 39/59 E:\\Clg Activities\\Projects\\Cosmetic shade recomender\\Data\\Validation\\Fair\\32_0_0_20170104204313908.jpg.chip.jpg: 224x224 Very Fair 1.00, Fair 0.00, Medium 0.00, Dark 0.00, Medium Dark 0.00, 23.9ms\n",
      "image 40/59 E:\\Clg Activities\\Projects\\Cosmetic shade recomender\\Data\\Validation\\Fair\\34_0_0_20170104204354155.jpg.chip.jpg: 224x224 Very Fair 0.75, Fair 0.25, Medium 0.00, Dark 0.00, Medium Dark 0.00, 37.9ms\n",
      "image 41/59 E:\\Clg Activities\\Projects\\Cosmetic shade recomender\\Data\\Validation\\Fair\\36_1_0_20170105183405999.jpg.chip.jpg: 224x224 Fair 0.93, Very Fair 0.07, Medium 0.01, Medium Dark 0.00, Dark 0.00, 26.9ms\n",
      "image 42/59 E:\\Clg Activities\\Projects\\Cosmetic shade recomender\\Data\\Validation\\Fair\\37_0_0_20170116201223316.jpg.chip.jpg: 224x224 Fair 0.61, Medium 0.22, Very Fair 0.17, Medium Dark 0.00, Dark 0.00, 33.9ms\n",
      "image 43/59 E:\\Clg Activities\\Projects\\Cosmetic shade recomender\\Data\\Validation\\Fair\\37_0_0_20170117135928574.jpg.chip.jpg: 224x224 Fair 0.91, Medium 0.06, Very Fair 0.02, Medium Dark 0.00, Dark 0.00, 28.9ms\n",
      "image 44/59 E:\\Clg Activities\\Projects\\Cosmetic shade recomender\\Data\\Validation\\Fair\\37_0_3_20170104204445187.jpg.chip.jpg: 224x224 Fair 0.98, Very Fair 0.01, Medium 0.00, Medium Dark 0.00, Dark 0.00, 31.9ms\n",
      "image 45/59 E:\\Clg Activities\\Projects\\Cosmetic shade recomender\\Data\\Validation\\Fair\\37_0_3_20170104232806122.jpg.chip.jpg: 224x224 Fair 0.77, Medium 0.22, Very Fair 0.01, Medium Dark 0.00, Dark 0.00, 82.8ms\n",
      "image 46/59 E:\\Clg Activities\\Projects\\Cosmetic shade recomender\\Data\\Validation\\Fair\\37_0_3_20170119153105041.jpg.chip.jpg: 224x224 Medium 1.00, Medium Dark 0.00, Fair 0.00, Dark 0.00, Very Fair 0.00, 65.8ms\n",
      "image 47/59 E:\\Clg Activities\\Projects\\Cosmetic shade recomender\\Data\\Validation\\Fair\\37_0_3_20170119202343501.jpg.chip.jpg: 224x224 Fair 0.99, Medium 0.01, Very Fair 0.00, Medium Dark 0.00, Dark 0.00, 52.9ms\n",
      "image 48/59 E:\\Clg Activities\\Projects\\Cosmetic shade recomender\\Data\\Validation\\Fair\\37_0_4_20170104000748917.jpg.chip.jpg: 224x224 Very Fair 0.52, Fair 0.43, Medium 0.04, Medium Dark 0.00, Dark 0.00, 42.9ms\n",
      "image 49/59 E:\\Clg Activities\\Projects\\Cosmetic shade recomender\\Data\\Validation\\Fair\\37_1_2_20170116184911351.jpg.chip.jpg: 224x224 Fair 0.98, Medium 0.02, Very Fair 0.00, Medium Dark 0.00, Dark 0.00, 72.8ms\n",
      "image 50/59 E:\\Clg Activities\\Projects\\Cosmetic shade recomender\\Data\\Validation\\Fair\\37_1_3_20170109132653966.jpg.chip.jpg: 224x224 Medium 0.95, Fair 0.05, Very Fair 0.00, Medium Dark 0.00, Dark 0.00, 54.9ms\n",
      "image 51/59 E:\\Clg Activities\\Projects\\Cosmetic shade recomender\\Data\\Validation\\Fair\\38_0_0_20170105184043687.jpg.chip.jpg: 224x224 Fair 0.59, Very Fair 0.35, Medium 0.05, Medium Dark 0.00, Dark 0.00, 40.9ms\n",
      "image 52/59 E:\\Clg Activities\\Projects\\Cosmetic shade recomender\\Data\\Validation\\Fair\\39_0_2_20170104204728132.jpg.chip.jpg: 224x224 Fair 0.68, Medium 0.31, Very Fair 0.00, Medium Dark 0.00, Dark 0.00, 52.9ms\n",
      "image 53/59 E:\\Clg Activities\\Projects\\Cosmetic shade recomender\\Data\\Validation\\Fair\\39_0_2_20170116192518885.jpg.chip.jpg: 224x224 Fair 0.78, Very Fair 0.19, Medium 0.04, Dark 0.00, Medium Dark 0.00, 67.8ms\n",
      "image 54/59 E:\\Clg Activities\\Projects\\Cosmetic shade recomender\\Data\\Validation\\Fair\\39_0_2_20170117185137809.jpg.chip.jpg: 224x224 Fair 0.97, Very Fair 0.02, Medium 0.01, Dark 0.00, Medium Dark 0.00, 79.8ms\n",
      "image 55/59 E:\\Clg Activities\\Projects\\Cosmetic shade recomender\\Data\\Validation\\Fair\\39_1_0_20170104183924038.jpg.chip.jpg: 224x224 Fair 0.95, Very Fair 0.05, Medium 0.00, Medium Dark 0.00, Dark 0.00, 76.8ms\n",
      "image 56/59 E:\\Clg Activities\\Projects\\Cosmetic shade recomender\\Data\\Validation\\Fair\\39_1_0_20170104201025387.jpg.chip.jpg: 224x224 Fair 0.71, Very Fair 0.29, Medium 0.00, Dark 0.00, Medium Dark 0.00, 68.8ms\n",
      "image 57/59 E:\\Clg Activities\\Projects\\Cosmetic shade recomender\\Data\\Validation\\Fair\\40_0_0_20170104204933500.jpg.chip.jpg: 224x224 Fair 1.00, Very Fair 0.00, Medium 0.00, Dark 0.00, Medium Dark 0.00, 32.9ms\n",
      "image 58/59 E:\\Clg Activities\\Projects\\Cosmetic shade recomender\\Data\\Validation\\Fair\\40_0_0_20170117134708024.jpg.chip.jpg: 224x224 Fair 1.00, Very Fair 0.00, Medium 0.00, Medium Dark 0.00, Dark 0.00, 26.9ms\n",
      "image 59/59 E:\\Clg Activities\\Projects\\Cosmetic shade recomender\\Data\\Validation\\Fair\\7_1_1_20170109193114418.jpg.chip.jpg: 224x224 Medium 1.00, Very Fair 0.00, Fair 0.00, Medium Dark 0.00, Dark 0.00, 33.9ms\n",
      "Speed: 7.3ms preprocess, 52.4ms inference, 0.1ms postprocess per image at shape (1, 3, 224, 224)\n",
      "\n",
      "image 1/65 E:\\Clg Activities\\Projects\\Cosmetic shade recomender\\Data\\Validation\\Medium\\10.jpg: 224x224 Medium 0.71, Fair 0.29, Medium Dark 0.00, Very Fair 0.00, Dark 0.00, 28.9ms\n",
      "image 2/65 E:\\Clg Activities\\Projects\\Cosmetic shade recomender\\Data\\Validation\\Medium\\10_0_1_20170110220507258.jpg.chip.jpg: 224x224 Medium 0.60, Fair 0.34, Medium Dark 0.05, Very Fair 0.00, Dark 0.00, 25.9ms\n",
      "image 3/65 E:\\Clg Activities\\Projects\\Cosmetic shade recomender\\Data\\Validation\\Medium\\11.jpg: 224x224 Medium Dark 0.90, Medium 0.09, Dark 0.00, Fair 0.00, Very Fair 0.00, 61.8ms\n",
      "image 4/65 E:\\Clg Activities\\Projects\\Cosmetic shade recomender\\Data\\Validation\\Medium\\12.jpg: 224x224 Medium 0.87, Fair 0.12, Medium Dark 0.01, Dark 0.00, Very Fair 0.00, 70.8ms\n",
      "image 5/65 E:\\Clg Activities\\Projects\\Cosmetic shade recomender\\Data\\Validation\\Medium\\13.jpg: 224x224 Medium 0.60, Fair 0.24, Medium Dark 0.16, Very Fair 0.00, Dark 0.00, 58.8ms\n",
      "image 6/65 E:\\Clg Activities\\Projects\\Cosmetic shade recomender\\Data\\Validation\\Medium\\1_0_2_20161219222555031.jpg.chip.jpg: 224x224 Medium 0.99, Fair 0.01, Very Fair 0.00, Medium Dark 0.00, Dark 0.00, 33.9ms\n",
      "image 7/65 E:\\Clg Activities\\Projects\\Cosmetic shade recomender\\Data\\Validation\\Medium\\1_0_3_20161219224956400.jpg.chip.jpg: 224x224 Medium 0.95, Fair 0.05, Very Fair 0.00, Medium Dark 0.00, Dark 0.00, 32.9ms\n",
      "image 8/65 E:\\Clg Activities\\Projects\\Cosmetic shade recomender\\Data\\Validation\\Medium\\1_0_3_20161219225149888.jpg.chip.jpg: 224x224 Medium 0.89, Fair 0.08, Very Fair 0.03, Medium Dark 0.00, Dark 0.00, 46.9ms\n",
      "image 9/65 E:\\Clg Activities\\Projects\\Cosmetic shade recomender\\Data\\Validation\\Medium\\1_0_3_20161219225322506.jpg.chip.jpg: 224x224 Medium 1.00, Fair 0.00, Very Fair 0.00, Medium Dark 0.00, Dark 0.00, 40.9ms\n",
      "image 10/65 E:\\Clg Activities\\Projects\\Cosmetic shade recomender\\Data\\Validation\\Medium\\1_0_3_20161219225611272.jpg.chip.jpg: 224x224 Medium 0.92, Fair 0.08, Very Fair 0.00, Medium Dark 0.00, Dark 0.00, 46.9ms\n",
      "image 11/65 E:\\Clg Activities\\Projects\\Cosmetic shade recomender\\Data\\Validation\\Medium\\1_0_3_20161219225648120.jpg.chip.jpg: 224x224 Medium 0.98, Fair 0.02, Very Fair 0.00, Medium Dark 0.00, Dark 0.00, 54.8ms\n",
      "image 12/65 E:\\Clg Activities\\Projects\\Cosmetic shade recomender\\Data\\Validation\\Medium\\1_0_3_20161219225900970.jpg.chip.jpg: 224x224 Medium 0.99, Fair 0.00, Very Fair 0.00, Medium Dark 0.00, Dark 0.00, 54.9ms\n",
      "image 13/65 E:\\Clg Activities\\Projects\\Cosmetic shade recomender\\Data\\Validation\\Medium\\1_0_3_20161219225958712.jpg.chip.jpg: 224x224 Fair 0.76, Medium 0.24, Very Fair 0.00, Medium Dark 0.00, Dark 0.00, 87.8ms\n",
      "image 14/65 E:\\Clg Activities\\Projects\\Cosmetic shade recomender\\Data\\Validation\\Medium\\1_0_3_20161219230232072.jpg.chip.jpg: 224x224 Medium 0.73, Fair 0.27, Very Fair 0.00, Medium Dark 0.00, Dark 0.00, 79.8ms\n",
      "image 15/65 E:\\Clg Activities\\Projects\\Cosmetic shade recomender\\Data\\Validation\\Medium\\1_0_3_20161220145820446.jpg.chip.jpg: 224x224 Medium 1.00, Fair 0.00, Very Fair 0.00, Medium Dark 0.00, Dark 0.00, 83.8ms\n",
      "image 16/65 E:\\Clg Activities\\Projects\\Cosmetic shade recomender\\Data\\Validation\\Medium\\1_0_3_20161220220358441.jpg.chip.jpg: 224x224 Medium 0.99, Fair 0.01, Very Fair 0.00, Medium Dark 0.00, Dark 0.00, 29.9ms\n",
      "image 17/65 E:\\Clg Activities\\Projects\\Cosmetic shade recomender\\Data\\Validation\\Medium\\1_0_3_20161220220418690.jpg.chip.jpg: 224x224 Fair 0.92, Medium 0.05, Very Fair 0.03, Medium Dark 0.00, Dark 0.00, 32.9ms\n",
      "image 18/65 E:\\Clg Activities\\Projects\\Cosmetic shade recomender\\Data\\Validation\\Medium\\1_0_4_20161221192554517.jpg.chip.jpg: 224x224 Medium 1.00, Fair 0.00, Very Fair 0.00, Medium Dark 0.00, Dark 0.00, 28.9ms\n",
      "image 19/65 E:\\Clg Activities\\Projects\\Cosmetic shade recomender\\Data\\Validation\\Medium\\1_1_1_20170109191256746.jpg.chip.jpg: 224x224 Medium 1.00, Fair 0.00, Medium Dark 0.00, Dark 0.00, Very Fair 0.00, 34.9ms\n",
      "image 20/65 E:\\Clg Activities\\Projects\\Cosmetic shade recomender\\Data\\Validation\\Medium\\1_1_1_20170109194545320.jpg.chip.jpg: 224x224 Medium 1.00, Fair 0.00, Medium Dark 0.00, Very Fair 0.00, Dark 0.00, 23.9ms\n",
      "image 21/65 E:\\Clg Activities\\Projects\\Cosmetic shade recomender\\Data\\Validation\\Medium\\2.jpeg: 224x224 Medium 1.00, Medium Dark 0.00, Fair 0.00, Dark 0.00, Very Fair 0.00, 109.7ms\n",
      "image 22/65 E:\\Clg Activities\\Projects\\Cosmetic shade recomender\\Data\\Validation\\Medium\\21_0_3_20170119154249810.jpg.chip.jpg: 224x224 Medium 0.99, Medium Dark 0.01, Fair 0.00, Dark 0.00, Very Fair 0.00, 67.8ms\n",
      "image 23/65 E:\\Clg Activities\\Projects\\Cosmetic shade recomender\\Data\\Validation\\Medium\\23_0_1_20170113133833362.jpg.chip.jpg: 224x224 Medium 0.99, Fair 0.00, Medium Dark 0.00, Very Fair 0.00, Dark 0.00, 51.9ms\n",
      "image 24/65 E:\\Clg Activities\\Projects\\Cosmetic shade recomender\\Data\\Validation\\Medium\\23_0_1_20170114033536005.jpg.chip.jpg: 224x224 Medium 0.98, Fair 0.01, Very Fair 0.00, Medium Dark 0.00, Dark 0.00, 37.9ms\n",
      "image 25/65 E:\\Clg Activities\\Projects\\Cosmetic shade recomender\\Data\\Validation\\Medium\\23_0_1_20170117194030006.jpg.chip.jpg: 224x224 Medium 1.00, Medium Dark 0.00, Dark 0.00, Fair 0.00, Very Fair 0.00, 39.9ms\n",
      "image 26/65 E:\\Clg Activities\\Projects\\Cosmetic shade recomender\\Data\\Validation\\Medium\\23_1_1_20170112192422750.jpg.chip.jpg: 224x224 Medium 1.00, Medium Dark 0.00, Dark 0.00, Fair 0.00, Very Fair 0.00, 49.9ms\n",
      "image 27/65 E:\\Clg Activities\\Projects\\Cosmetic shade recomender\\Data\\Validation\\Medium\\23_1_1_20170112234052856.jpg.chip.jpg: 224x224 Medium 1.00, Medium Dark 0.00, Dark 0.00, Fair 0.00, Very Fair 0.00, 35.9ms\n",
      "image 28/65 E:\\Clg Activities\\Projects\\Cosmetic shade recomender\\Data\\Validation\\Medium\\23_1_1_20170114034152328.jpg.chip.jpg: 224x224 Medium 0.99, Medium Dark 0.00, Dark 0.00, Very Fair 0.00, Fair 0.00, 43.9ms\n",
      "image 29/65 E:\\Clg Activities\\Projects\\Cosmetic shade recomender\\Data\\Validation\\Medium\\24_0_1_20170112204730931.jpg.chip.jpg: 224x224 Medium 0.99, Medium Dark 0.01, Dark 0.00, Fair 0.00, Very Fair 0.00, 64.8ms\n",
      "image 30/65 E:\\Clg Activities\\Projects\\Cosmetic shade recomender\\Data\\Validation\\Medium\\24_0_1_20170113132554696.jpg.chip.jpg: 224x224 Medium 1.00, Medium Dark 0.00, Fair 0.00, Dark 0.00, Very Fair 0.00, 73.8ms\n",
      "image 31/65 E:\\Clg Activities\\Projects\\Cosmetic shade recomender\\Data\\Validation\\Medium\\24_1_1_20170112234505777.jpg.chip.jpg: 224x224 Medium 1.00, Medium Dark 0.00, Dark 0.00, Fair 0.00, Very Fair 0.00, 71.8ms\n",
      "image 32/65 E:\\Clg Activities\\Projects\\Cosmetic shade recomender\\Data\\Validation\\Medium\\24_1_1_20170113005327119.jpg.chip.jpg: 224x224 Medium 0.98, Medium Dark 0.02, Dark 0.00, Fair 0.00, Very Fair 0.00, 216.4ms\n",
      "image 33/65 E:\\Clg Activities\\Projects\\Cosmetic shade recomender\\Data\\Validation\\Medium\\25_0_1_20170113174811546.jpg.chip.jpg: 224x224 Medium 1.00, Medium Dark 0.00, Very Fair 0.00, Fair 0.00, Dark 0.00, 31.9ms\n",
      "image 34/65 E:\\Clg Activities\\Projects\\Cosmetic shade recomender\\Data\\Validation\\Medium\\25_0_1_20170116001049632.jpg.chip.jpg: 224x224 Medium 0.99, Medium Dark 0.01, Dark 0.00, Fair 0.00, Very Fair 0.00, 29.9ms\n",
      "image 35/65 E:\\Clg Activities\\Projects\\Cosmetic shade recomender\\Data\\Validation\\Medium\\25_0_1_20170116002254660.jpg.chip.jpg: 224x224 Medium 0.97, Medium Dark 0.03, Fair 0.00, Dark 0.00, Very Fair 0.00, 33.9ms\n",
      "image 36/65 E:\\Clg Activities\\Projects\\Cosmetic shade recomender\\Data\\Validation\\Medium\\26_1_1_20170103181931657.jpg.chip.jpg: 224x224 Medium 0.95, Medium Dark 0.03, Dark 0.02, Fair 0.00, Very Fair 0.00, 24.9ms\n",
      "image 37/65 E:\\Clg Activities\\Projects\\Cosmetic shade recomender\\Data\\Validation\\Medium\\26_1_1_20170112212042603.jpg.chip.jpg: 224x224 Medium 0.99, Medium Dark 0.01, Fair 0.00, Dark 0.00, Very Fair 0.00, 72.8ms\n",
      "image 38/65 E:\\Clg Activities\\Projects\\Cosmetic shade recomender\\Data\\Validation\\Medium\\26_1_1_20170116162413262.jpg.chip.jpg: 224x224 Medium 0.96, Medium Dark 0.04, Fair 0.00, Dark 0.00, Very Fair 0.00, 73.8ms\n",
      "image 39/65 E:\\Clg Activities\\Projects\\Cosmetic shade recomender\\Data\\Validation\\Medium\\27 (2).jpg: 224x224 Medium 0.99, Medium Dark 0.00, Fair 0.00, Dark 0.00, Very Fair 0.00, 50.9ms\n",
      "image 40/65 E:\\Clg Activities\\Projects\\Cosmetic shade recomender\\Data\\Validation\\Medium\\27_0_1_20170113133630265.jpg.chip.jpg: 224x224 Medium 0.99, Medium Dark 0.01, Fair 0.00, Very Fair 0.00, Dark 0.00, 41.9ms\n",
      "image 41/65 E:\\Clg Activities\\Projects\\Cosmetic shade recomender\\Data\\Validation\\Medium\\27_0_1_20170113155235889.jpg.chip.jpg: 224x224 Medium 1.00, Medium Dark 0.00, Very Fair 0.00, Fair 0.00, Dark 0.00, 33.9ms\n",
      "image 42/65 E:\\Clg Activities\\Projects\\Cosmetic shade recomender\\Data\\Validation\\Medium\\2_0_3_20161220220702081.jpg.chip.jpg: 224x224 Medium 1.00, Fair 0.00, Very Fair 0.00, Medium Dark 0.00, Dark 0.00, 52.9ms\n",
      "image 43/65 E:\\Clg Activities\\Projects\\Cosmetic shade recomender\\Data\\Validation\\Medium\\2_1_1_20170109190549164.jpg.chip.jpg: 224x224 Medium 1.00, Fair 0.00, Very Fair 0.00, Medium Dark 0.00, Dark 0.00, 38.9ms\n",
      "image 44/65 E:\\Clg Activities\\Projects\\Cosmetic shade recomender\\Data\\Validation\\Medium\\2_1_1_20170109190932811.jpg.chip.jpg: 224x224 Medium 1.00, Fair 0.00, Very Fair 0.00, Medium Dark 0.00, Dark 0.00, 47.9ms\n",
      "image 45/65 E:\\Clg Activities\\Projects\\Cosmetic shade recomender\\Data\\Validation\\Medium\\2_1_1_20170109194517710.jpg.chip.jpg: 224x224 Medium 1.00, Fair 0.00, Medium Dark 0.00, Dark 0.00, Very Fair 0.00, 43.9ms\n",
      "image 46/65 E:\\Clg Activities\\Projects\\Cosmetic shade recomender\\Data\\Validation\\Medium\\2_1_1_20170109194606626.jpg.chip.jpg: 224x224 Medium 1.00, Fair 0.00, Very Fair 0.00, Medium Dark 0.00, Dark 0.00, 60.8ms\n",
      "image 47/65 E:\\Clg Activities\\Projects\\Cosmetic shade recomender\\Data\\Validation\\Medium\\3.jpeg: 224x224 Medium 1.00, Dark 0.00, Medium Dark 0.00, Fair 0.00, Very Fair 0.00, 84.8ms\n",
      "image 48/65 E:\\Clg Activities\\Projects\\Cosmetic shade recomender\\Data\\Validation\\Medium\\3.jpg: 224x224 Medium 1.00, Fair 0.00, Very Fair 0.00, Medium Dark 0.00, Dark 0.00, 77.8ms\n",
      "image 49/65 E:\\Clg Activities\\Projects\\Cosmetic shade recomender\\Data\\Validation\\Medium\\37_0_2_20170119193347850.jpg.chip.jpg: 224x224 Medium 0.99, Medium Dark 0.01, Fair 0.00, Very Fair 0.00, Dark 0.00, 41.9ms\n",
      "image 50/65 E:\\Clg Activities\\Projects\\Cosmetic shade recomender\\Data\\Validation\\Medium\\37_1_3_20170109141945326.jpg.chip.jpg: 224x224 Medium 1.00, Very Fair 0.00, Fair 0.00, Medium Dark 0.00, Dark 0.00, 64.8ms\n",
      "image 51/65 E:\\Clg Activities\\Projects\\Cosmetic shade recomender\\Data\\Validation\\Medium\\39_0_2_20170104204400674.jpg.chip.jpg: 224x224 Medium 0.99, Medium Dark 0.01, Dark 0.00, Fair 0.00, Very Fair 0.00, 34.9ms\n",
      "image 52/65 E:\\Clg Activities\\Projects\\Cosmetic shade recomender\\Data\\Validation\\Medium\\3_0_1_20170110213803097.jpg.chip.jpg: 224x224 Medium 1.00, Fair 0.00, Medium Dark 0.00, Very Fair 0.00, Dark 0.00, 24.9ms\n",
      "image 53/65 E:\\Clg Activities\\Projects\\Cosmetic shade recomender\\Data\\Validation\\Medium\\3_1_1_20170109190807350.jpg.chip.jpg: 224x224 Medium 0.94, Fair 0.05, Medium Dark 0.00, Very Fair 0.00, Dark 0.00, 35.9ms\n",
      "image 54/65 E:\\Clg Activities\\Projects\\Cosmetic shade recomender\\Data\\Validation\\Medium\\4.jpg: 224x224 Medium 0.99, Medium Dark 0.00, Fair 0.00, Very Fair 0.00, Dark 0.00, 31.9ms\n",
      "image 55/65 E:\\Clg Activities\\Projects\\Cosmetic shade recomender\\Data\\Validation\\Medium\\5.webp: 224x224 Medium 0.99, Medium Dark 0.01, Fair 0.00, Dark 0.00, Very Fair 0.00, 31.9ms\n",
      "image 56/65 E:\\Clg Activities\\Projects\\Cosmetic shade recomender\\Data\\Validation\\Medium\\5_0_1_20170110213713440.jpg.chip.jpg: 224x224 Medium 1.00, Medium Dark 0.00, Fair 0.00, Dark 0.00, Very Fair 0.00, 68.8ms\n",
      "image 57/65 E:\\Clg Activities\\Projects\\Cosmetic shade recomender\\Data\\Validation\\Medium\\6.jpg: 224x224 Medium 0.99, Fair 0.00, Very Fair 0.00, Medium Dark 0.00, Dark 0.00, 70.8ms\n",
      "image 58/65 E:\\Clg Activities\\Projects\\Cosmetic shade recomender\\Data\\Validation\\Medium\\6_1_1_20161220220430595.jpg.chip.jpg: 224x224 Medium 1.00, Medium Dark 0.00, Fair 0.00, Dark 0.00, Very Fair 0.00, 54.9ms\n",
      "image 59/65 E:\\Clg Activities\\Projects\\Cosmetic shade recomender\\Data\\Validation\\Medium\\6_1_1_20161220220432570.jpg.chip.jpg: 224x224 Medium 1.00, Medium Dark 0.00, Fair 0.00, Dark 0.00, Very Fair 0.00, 38.9ms\n",
      "image 60/65 E:\\Clg Activities\\Projects\\Cosmetic shade recomender\\Data\\Validation\\Medium\\7_0_1_20170110223522905.jpg.chip.jpg: 224x224 Medium 0.98, Medium Dark 0.02, Dark 0.00, Fair 0.00, Very Fair 0.00, 45.9ms\n",
      "image 61/65 E:\\Clg Activities\\Projects\\Cosmetic shade recomender\\Data\\Validation\\Medium\\7_0_1_20170110224345168.jpg.chip.jpg: 224x224 Medium 0.99, Fair 0.01, Dark 0.00, Medium Dark 0.00, Very Fair 0.00, 39.9ms\n",
      "image 62/65 E:\\Clg Activities\\Projects\\Cosmetic shade recomender\\Data\\Validation\\Medium\\7_0_1_20170110224720024.jpg.chip.jpg: 224x224 Medium 1.00, Fair 0.00, Medium Dark 0.00, Very Fair 0.00, Dark 0.00, 38.9ms\n",
      "image 63/65 E:\\Clg Activities\\Projects\\Cosmetic shade recomender\\Data\\Validation\\Medium\\8.webp: 224x224 Medium Dark 0.81, Medium 0.19, Fair 0.00, Dark 0.00, Very Fair 0.00, 38.9ms\n",
      "image 64/65 E:\\Clg Activities\\Projects\\Cosmetic shade recomender\\Data\\Validation\\Medium\\8_1_1_20170109205445571.jpg.chip.jpg: 224x224 Medium 0.94, Fair 0.06, Very Fair 0.00, Medium Dark 0.00, Dark 0.00, 60.8ms\n",
      "image 65/65 E:\\Clg Activities\\Projects\\Cosmetic shade recomender\\Data\\Validation\\Medium\\9_0_1_20170110224349623.jpg.chip.jpg: 224x224 Medium 0.82, Medium Dark 0.17, Dark 0.01, Fair 0.00, Very Fair 0.00, 70.8ms\n",
      "Speed: 6.3ms preprocess, 52.6ms inference, 0.0ms postprocess per image at shape (1, 3, 224, 224)\n",
      "\n",
      "image 1/64 E:\\Clg Activities\\Projects\\Cosmetic shade recomender\\Data\\Validation\\Medium Dark\\1.jpeg: 224x224 Medium Dark 0.71, Dark 0.29, Medium 0.00, Very Fair 0.00, Fair 0.00, 76.8ms\n",
      "image 2/64 E:\\Clg Activities\\Projects\\Cosmetic shade recomender\\Data\\Validation\\Medium Dark\\1.webp: 224x224 Medium Dark 0.74, Medium 0.18, Dark 0.07, Fair 0.00, Very Fair 0.00, 51.9ms\n",
      "image 3/64 E:\\Clg Activities\\Projects\\Cosmetic shade recomender\\Data\\Validation\\Medium Dark\\13_0_1_20170110232537879.jpg.chip.jpg: 224x224 Medium 0.95, Medium Dark 0.04, Dark 0.01, Very Fair 0.00, Fair 0.00, 32.9ms\n",
      "image 4/64 E:\\Clg Activities\\Projects\\Cosmetic shade recomender\\Data\\Validation\\Medium Dark\\13_1_1_20170109204443201.jpg.chip.jpg: 224x224 Medium 0.93, Dark 0.05, Medium Dark 0.02, Fair 0.00, Very Fair 0.00, 29.9ms\n",
      "image 5/64 E:\\Clg Activities\\Projects\\Cosmetic shade recomender\\Data\\Validation\\Medium Dark\\15_0_1_20170110231743136.jpg.chip.jpg: 224x224 Dark 0.84, Medium 0.14, Medium Dark 0.02, Very Fair 0.00, Fair 0.00, 141.6ms\n",
      "image 6/64 E:\\Clg Activities\\Projects\\Cosmetic shade recomender\\Data\\Validation\\Medium Dark\\16_0_1_20170116161243731.jpg.chip.jpg: 224x224 Medium Dark 0.95, Dark 0.04, Medium 0.01, Fair 0.00, Very Fair 0.00, 30.9ms\n",
      "image 7/64 E:\\Clg Activities\\Projects\\Cosmetic shade recomender\\Data\\Validation\\Medium Dark\\16_0_3_20170110232812662.jpg.chip.jpg: 224x224 Dark 0.98, Medium 0.01, Medium Dark 0.00, Very Fair 0.00, Fair 0.00, 25.9ms\n",
      "image 8/64 E:\\Clg Activities\\Projects\\Cosmetic shade recomender\\Data\\Validation\\Medium Dark\\16_1_1_20170114025512971.jpg.chip.jpg: 224x224 Medium Dark 0.98, Medium 0.02, Dark 0.00, Fair 0.00, Very Fair 0.00, 67.8ms\n",
      "image 9/64 E:\\Clg Activities\\Projects\\Cosmetic shade recomender\\Data\\Validation\\Medium Dark\\17_1_1_20170114030014850.jpg.chip.jpg: 224x224 Medium 0.86, Medium Dark 0.14, Dark 0.00, Fair 0.00, Very Fair 0.00, 72.8ms\n",
      "image 10/64 E:\\Clg Activities\\Projects\\Cosmetic shade recomender\\Data\\Validation\\Medium Dark\\17_1_1_20170114030031959.jpg.chip.jpg: 224x224 Medium 0.80, Dark 0.13, Medium Dark 0.07, Fair 0.00, Very Fair 0.00, 46.9ms\n",
      "image 11/64 E:\\Clg Activities\\Projects\\Cosmetic shade recomender\\Data\\Validation\\Medium Dark\\18.jpeg: 224x224 Medium Dark 1.00, Dark 0.00, Medium 0.00, Fair 0.00, Very Fair 0.00, 36.9ms\n",
      "image 12/64 E:\\Clg Activities\\Projects\\Cosmetic shade recomender\\Data\\Validation\\Medium Dark\\18_1_1_20170109214355606.jpg.chip.jpg: 224x224 Medium 0.82, Dark 0.12, Medium Dark 0.06, Fair 0.00, Very Fair 0.00, 42.9ms\n",
      "image 13/64 E:\\Clg Activities\\Projects\\Cosmetic shade recomender\\Data\\Validation\\Medium Dark\\18_1_1_20170113005132350.jpg.chip.jpg: 224x224 Medium 0.99, Medium Dark 0.01, Dark 0.00, Fair 0.00, Very Fair 0.00, 41.9ms\n",
      "image 14/64 E:\\Clg Activities\\Projects\\Cosmetic shade recomender\\Data\\Validation\\Medium Dark\\18_1_1_20170114030339628.jpg.chip.jpg: 224x224 Medium 1.00, Medium Dark 0.00, Fair 0.00, Dark 0.00, Very Fair 0.00, 30.9ms\n",
      "image 15/64 E:\\Clg Activities\\Projects\\Cosmetic shade recomender\\Data\\Validation\\Medium Dark\\19_1_2_20170116212110227.jpg.chip.jpg: 224x224 Medium Dark 0.93, Medium 0.06, Dark 0.01, Fair 0.00, Very Fair 0.00, 71.8ms\n",
      "image 16/64 E:\\Clg Activities\\Projects\\Cosmetic shade recomender\\Data\\Validation\\Medium Dark\\1_1_1_20170109194554835.jpg.chip.jpg: 224x224 Medium 0.89, Very Fair 0.05, Fair 0.05, Dark 0.00, Medium Dark 0.00, 65.8ms\n",
      "image 17/64 E:\\Clg Activities\\Projects\\Cosmetic shade recomender\\Data\\Validation\\Medium Dark\\2.jpeg: 224x224 Dark 0.84, Medium Dark 0.10, Medium 0.06, Very Fair 0.00, Fair 0.00, 81.8ms\n",
      "image 18/64 E:\\Clg Activities\\Projects\\Cosmetic shade recomender\\Data\\Validation\\Medium Dark\\23_0_1_20170114032011297.jpg.chip.jpg: 224x224 Medium Dark 0.56, Dark 0.44, Medium 0.00, Fair 0.00, Very Fair 0.00, 70.8ms\n",
      "image 19/64 E:\\Clg Activities\\Projects\\Cosmetic shade recomender\\Data\\Validation\\Medium Dark\\23_1_1_20170114024652649.jpg.chip.jpg: 224x224 Medium 1.00, Dark 0.00, Medium Dark 0.00, Fair 0.00, Very Fair 0.00, 70.8ms\n",
      "image 20/64 E:\\Clg Activities\\Projects\\Cosmetic shade recomender\\Data\\Validation\\Medium Dark\\23_1_1_20170114033443186.jpg.chip.jpg: 224x224 Medium 0.71, Medium Dark 0.29, Dark 0.00, Fair 0.00, Very Fair 0.00, 31.9ms\n",
      "image 21/64 E:\\Clg Activities\\Projects\\Cosmetic shade recomender\\Data\\Validation\\Medium Dark\\23_1_1_20170117171341177.jpg.chip.jpg: 224x224 Medium 1.00, Medium Dark 0.00, Fair 0.00, Dark 0.00, Very Fair 0.00, 27.9ms\n",
      "image 22/64 E:\\Clg Activities\\Projects\\Cosmetic shade recomender\\Data\\Validation\\Medium Dark\\24_0_0_20170113210126406.jpg.chip.jpg: 224x224 Medium Dark 1.00, Medium 0.00, Dark 0.00, Fair 0.00, Very Fair 0.00, 32.9ms\n",
      "image 23/64 E:\\Clg Activities\\Projects\\Cosmetic shade recomender\\Data\\Validation\\Medium Dark\\24_0_1_20170113134109338.jpg.chip.jpg: 224x224 Dark 0.62, Medium 0.24, Medium Dark 0.13, Fair 0.00, Very Fair 0.00, 27.9ms\n",
      "image 24/64 E:\\Clg Activities\\Projects\\Cosmetic shade recomender\\Data\\Validation\\Medium Dark\\24_0_1_20170117145640546.jpg.chip.jpg: 224x224 Medium Dark 0.99, Dark 0.01, Medium 0.01, Very Fair 0.00, Fair 0.00, 31.9ms\n",
      "image 25/64 E:\\Clg Activities\\Projects\\Cosmetic shade recomender\\Data\\Validation\\Medium Dark\\25_0_1_20170113145615148.jpg.chip.jpg: 224x224 Medium Dark 1.00, Medium 0.00, Dark 0.00, Fair 0.00, Very Fair 0.00, 47.9ms\n",
      "image 26/64 E:\\Clg Activities\\Projects\\Cosmetic shade recomender\\Data\\Validation\\Medium Dark\\25_0_1_20170116002246923.jpg.chip.jpg: 224x224 Medium Dark 1.00, Medium 0.00, Dark 0.00, Fair 0.00, Very Fair 0.00, 67.8ms\n",
      "image 27/64 E:\\Clg Activities\\Projects\\Cosmetic shade recomender\\Data\\Validation\\Medium Dark\\25_0_1_20170116002835308.jpg.chip.jpg: 224x224 Medium Dark 1.00, Medium 0.00, Dark 0.00, Fair 0.00, Very Fair 0.00, 61.8ms\n",
      "image 28/64 E:\\Clg Activities\\Projects\\Cosmetic shade recomender\\Data\\Validation\\Medium Dark\\25_0_1_20170117195045410.jpg.chip - Copy.jpg: 224x224 Medium Dark 1.00, Medium 0.00, Dark 0.00, Fair 0.00, Very Fair 0.00, 38.9ms\n",
      "image 29/64 E:\\Clg Activities\\Projects\\Cosmetic shade recomender\\Data\\Validation\\Medium Dark\\27_0_1_20170105164603540.jpg.chip.jpg: 224x224 Medium Dark 1.00, Dark 0.00, Medium 0.00, Fair 0.00, Very Fair 0.00, 34.9ms\n",
      "image 30/64 E:\\Clg Activities\\Projects\\Cosmetic shade recomender\\Data\\Validation\\Medium Dark\\3.jpg: 224x224 Medium Dark 0.80, Medium 0.20, Dark 0.00, Fair 0.00, Very Fair 0.00, 53.9ms\n",
      "image 31/64 E:\\Clg Activities\\Projects\\Cosmetic shade recomender\\Data\\Validation\\Medium Dark\\3_0_1_20170109194623635.jpg.chip.jpg: 224x224 Medium 0.88, Dark 0.06, Medium Dark 0.06, Fair 0.00, Very Fair 0.00, 37.9ms\n",
      "image 32/64 E:\\Clg Activities\\Projects\\Cosmetic shade recomender\\Data\\Validation\\Medium Dark\\3_0_1_20170110213659314.jpg.chip.jpg: 224x224 Medium Dark 0.86, Medium 0.14, Dark 0.00, Very Fair 0.00, Fair 0.00, 49.9ms\n",
      "image 33/64 E:\\Clg Activities\\Projects\\Cosmetic shade recomender\\Data\\Validation\\Medium Dark\\3_1_1_20170109194614913.jpg.chip.jpg: 224x224 Medium 0.99, Medium Dark 0.00, Dark 0.00, Fair 0.00, Very Fair 0.00, 46.9ms\n",
      "image 34/64 E:\\Clg Activities\\Projects\\Cosmetic shade recomender\\Data\\Validation\\Medium Dark\\403.jpg: 224x224 Medium Dark 1.00, Medium 0.00, Dark 0.00, Fair 0.00, Very Fair 0.00, 54.9ms\n",
      "image 35/64 E:\\Clg Activities\\Projects\\Cosmetic shade recomender\\Data\\Validation\\Medium Dark\\405.webp: 224x224 Medium Dark 1.00, Medium 0.00, Dark 0.00, Fair 0.00, Very Fair 0.00, 73.8ms\n",
      "image 36/64 E:\\Clg Activities\\Projects\\Cosmetic shade recomender\\Data\\Validation\\Medium Dark\\411.jpg: 224x224 Medium Dark 0.93, Medium 0.06, Dark 0.01, Fair 0.00, Very Fair 0.00, 90.7ms\n",
      "image 37/64 E:\\Clg Activities\\Projects\\Cosmetic shade recomender\\Data\\Validation\\Medium Dark\\41_1_1_20170117135759031.jpg.chip.jpg: 224x224 Medium Dark 1.00, Dark 0.00, Medium 0.00, Fair 0.00, Very Fair 0.00, 27.9ms\n",
      "image 38/64 E:\\Clg Activities\\Projects\\Cosmetic shade recomender\\Data\\Validation\\Medium Dark\\443.jpg: 224x224 Medium Dark 1.00, Medium 0.00, Dark 0.00, Fair 0.00, Very Fair 0.00, 33.9ms\n",
      "image 39/64 E:\\Clg Activities\\Projects\\Cosmetic shade recomender\\Data\\Validation\\Medium Dark\\445.jpg: 224x224 Medium Dark 1.00, Dark 0.00, Medium 0.00, Very Fair 0.00, Fair 0.00, 29.9ms\n",
      "image 40/64 E:\\Clg Activities\\Projects\\Cosmetic shade recomender\\Data\\Validation\\Medium Dark\\447.jpeg: 224x224 Medium Dark 0.81, Dark 0.18, Medium 0.01, Very Fair 0.00, Fair 0.00, 32.9ms\n",
      "image 41/64 E:\\Clg Activities\\Projects\\Cosmetic shade recomender\\Data\\Validation\\Medium Dark\\463.jpeg: 224x224 Medium Dark 1.00, Medium 0.00, Dark 0.00, Fair 0.00, Very Fair 0.00, 23.9ms\n",
      "image 42/64 E:\\Clg Activities\\Projects\\Cosmetic shade recomender\\Data\\Validation\\Medium Dark\\467.jpeg: 224x224 Medium Dark 1.00, Dark 0.00, Medium 0.00, Fair 0.00, Very Fair 0.00, 54.9ms\n",
      "image 43/64 E:\\Clg Activities\\Projects\\Cosmetic shade recomender\\Data\\Validation\\Medium Dark\\468.jpg: 224x224 Medium Dark 1.00, Dark 0.00, Medium 0.00, Fair 0.00, Very Fair 0.00, 66.8ms\n",
      "image 44/64 E:\\Clg Activities\\Projects\\Cosmetic shade recomender\\Data\\Validation\\Medium Dark\\470.png: 224x224 Medium Dark 1.00, Dark 0.00, Medium 0.00, Fair 0.00, Very Fair 0.00, 52.9ms\n",
      "image 45/64 E:\\Clg Activities\\Projects\\Cosmetic shade recomender\\Data\\Validation\\Medium Dark\\471.jpeg: 224x224 Medium Dark 1.00, Medium 0.00, Dark 0.00, Fair 0.00, Very Fair 0.00, 164.6ms\n",
      "image 46/64 E:\\Clg Activities\\Projects\\Cosmetic shade recomender\\Data\\Validation\\Medium Dark\\475.jpg: 224x224 Medium Dark 0.98, Medium 0.02, Dark 0.00, Fair 0.00, Very Fair 0.00, 63.8ms\n",
      "image 47/64 E:\\Clg Activities\\Projects\\Cosmetic shade recomender\\Data\\Validation\\Medium Dark\\476.jpeg: 224x224 Medium Dark 0.98, Dark 0.01, Medium 0.00, Fair 0.00, Very Fair 0.00, 48.9ms\n",
      "image 48/64 E:\\Clg Activities\\Projects\\Cosmetic shade recomender\\Data\\Validation\\Medium Dark\\477.jpeg: 224x224 Medium Dark 1.00, Medium 0.00, Dark 0.00, Fair 0.00, Very Fair 0.00, 36.9ms\n",
      "image 49/64 E:\\Clg Activities\\Projects\\Cosmetic shade recomender\\Data\\Validation\\Medium Dark\\479.jpeg: 224x224 Medium Dark 1.00, Dark 0.00, Medium 0.00, Fair 0.00, Very Fair 0.00, 46.9ms\n",
      "image 50/64 E:\\Clg Activities\\Projects\\Cosmetic shade recomender\\Data\\Validation\\Medium Dark\\492.jpg: 224x224 Medium Dark 0.98, Medium 0.02, Dark 0.00, Fair 0.00, Very Fair 0.00, 71.8ms\n",
      "image 51/64 E:\\Clg Activities\\Projects\\Cosmetic shade recomender\\Data\\Validation\\Medium Dark\\493.jpg: 224x224 Medium Dark 0.99, Medium 0.01, Dark 0.00, Fair 0.00, Very Fair 0.00, 102.7ms\n",
      "image 52/64 E:\\Clg Activities\\Projects\\Cosmetic shade recomender\\Data\\Validation\\Medium Dark\\498.webp: 224x224 Medium Dark 1.00, Dark 0.00, Medium 0.00, Fair 0.00, Very Fair 0.00, 25.9ms\n",
      "image 53/64 E:\\Clg Activities\\Projects\\Cosmetic shade recomender\\Data\\Validation\\Medium Dark\\499.jpeg: 224x224 Medium Dark 0.99, Medium 0.01, Dark 0.00, Fair 0.00, Very Fair 0.00, 29.9ms\n",
      "image 54/64 E:\\Clg Activities\\Projects\\Cosmetic shade recomender\\Data\\Validation\\Medium Dark\\5.jpg: 224x224 Medium Dark 0.89, Medium 0.11, Dark 0.00, Fair 0.00, Very Fair 0.00, 33.9ms\n",
      "image 55/64 E:\\Clg Activities\\Projects\\Cosmetic shade recomender\\Data\\Validation\\Medium Dark\\503.jpeg: 224x224 Medium Dark 1.00, Medium 0.00, Dark 0.00, Fair 0.00, Very Fair 0.00, 26.9ms\n",
      "image 56/64 E:\\Clg Activities\\Projects\\Cosmetic shade recomender\\Data\\Validation\\Medium Dark\\504.webp: 224x224 Medium Dark 0.95, Medium 0.05, Dark 0.00, Fair 0.00, Very Fair 0.00, 48.9ms\n",
      "image 57/64 E:\\Clg Activities\\Projects\\Cosmetic shade recomender\\Data\\Validation\\Medium Dark\\54_0_1_20170117173717615.jpg.chip.jpg: 224x224 Medium Dark 1.00, Medium 0.00, Dark 0.00, Fair 0.00, Very Fair 0.00, 73.8ms\n",
      "image 58/64 E:\\Clg Activities\\Projects\\Cosmetic shade recomender\\Data\\Validation\\Medium Dark\\54_0_1_20170117190137490.jpg.chip.jpg: 224x224 Medium Dark 1.00, Medium 0.00, Dark 0.00, Fair 0.00, Very Fair 0.00, 54.9ms\n",
      "image 59/64 E:\\Clg Activities\\Projects\\Cosmetic shade recomender\\Data\\Validation\\Medium Dark\\54_0_1_20170117191348426.jpg.chip.jpg: 224x224 Medium Dark 1.00, Medium 0.00, Dark 0.00, Fair 0.00, Very Fair 0.00, 41.9ms\n",
      "image 60/64 E:\\Clg Activities\\Projects\\Cosmetic shade recomender\\Data\\Validation\\Medium Dark\\5_0_1_20170113154912353.jpg.chip.jpg: 224x224 Medium Dark 0.51, Medium 0.46, Dark 0.03, Fair 0.00, Very Fair 0.00, 48.9ms\n",
      "image 61/64 E:\\Clg Activities\\Projects\\Cosmetic shade recomender\\Data\\Validation\\Medium Dark\\6_1_1_20161220220430595.jpg.chip.jpg: 224x224 Medium 0.99, Medium Dark 0.01, Fair 0.00, Dark 0.00, Very Fair 0.00, 38.9ms\n",
      "image 62/64 E:\\Clg Activities\\Projects\\Cosmetic shade recomender\\Data\\Validation\\Medium Dark\\7_1_1_20170109194708063.jpg.chip.jpg: 224x224 Medium Dark 0.66, Dark 0.33, Medium 0.00, Fair 0.00, Very Fair 0.00, 42.9ms\n",
      "image 63/64 E:\\Clg Activities\\Projects\\Cosmetic shade recomender\\Data\\Validation\\Medium Dark\\85_0_2_20170111211021687.jpg.chip.jpg: 224x224 Medium Dark 1.00, Medium 0.00, Dark 0.00, Fair 0.00, Very Fair 0.00, 41.9ms\n",
      "image 64/64 E:\\Clg Activities\\Projects\\Cosmetic shade recomender\\Data\\Validation\\Medium Dark\\9_1_1_20170109201837354.jpg.chip (2).jpg: 224x224 Medium Dark 0.97, Dark 0.03, Medium 0.00, Fair 0.00, Very Fair 0.00, 62.8ms\n",
      "Speed: 9.3ms preprocess, 52.1ms inference, 0.1ms postprocess per image at shape (1, 3, 224, 224)\n",
      "\n",
      "image 1/88 E:\\Clg Activities\\Projects\\Cosmetic shade recomender\\Data\\Validation\\Very Fair\\10024034.jpg: 224x224 Very Fair 1.00, Fair 0.00, Medium 0.00, Dark 0.00, Medium Dark 0.00, 108.7ms\n",
      "image 2/88 E:\\Clg Activities\\Projects\\Cosmetic shade recomender\\Data\\Validation\\Very Fair\\10104198.jpg: 224x224 Very Fair 0.99, Fair 0.01, Medium 0.00, Dark 0.00, Medium Dark 0.00, 89.8ms\n",
      "image 3/88 E:\\Clg Activities\\Projects\\Cosmetic shade recomender\\Data\\Validation\\Very Fair\\12400152.jpg: 224x224 Very Fair 0.99, Fair 0.01, Dark 0.00, Medium 0.00, Medium Dark 0.00, 32.9ms\n",
      "image 4/88 E:\\Clg Activities\\Projects\\Cosmetic shade recomender\\Data\\Validation\\Very Fair\\12848557.jpg: 224x224 Very Fair 0.98, Fair 0.02, Dark 0.00, Medium 0.00, Medium Dark 0.00, 26.9ms\n",
      "image 5/88 E:\\Clg Activities\\Projects\\Cosmetic shade recomender\\Data\\Validation\\Very Fair\\13021064.jpg: 224x224 Very Fair 0.96, Fair 0.04, Medium 0.00, Medium Dark 0.00, Dark 0.00, 31.9ms\n",
      "image 6/88 E:\\Clg Activities\\Projects\\Cosmetic shade recomender\\Data\\Validation\\Very Fair\\14100577.jpg: 224x224 Very Fair 0.96, Fair 0.04, Dark 0.00, Medium Dark 0.00, Medium 0.00, 29.9ms\n",
      "image 7/88 E:\\Clg Activities\\Projects\\Cosmetic shade recomender\\Data\\Validation\\Very Fair\\15_1_0_20170109214723528.jpg.chip.jpg: 224x224 Very Fair 0.89, Fair 0.11, Medium 0.00, Dark 0.00, Medium Dark 0.00, 52.9ms\n",
      "image 8/88 E:\\Clg Activities\\Projects\\Cosmetic shade recomender\\Data\\Validation\\Very Fair\\16_0_0_20170110231646278.jpg.chip.jpg: 224x224 Very Fair 0.75, Fair 0.25, Medium 0.00, Dark 0.00, Medium Dark 0.00, 68.8ms\n",
      "image 9/88 E:\\Clg Activities\\Projects\\Cosmetic shade recomender\\Data\\Validation\\Very Fair\\17102380.jpg: 224x224 Very Fair 1.00, Fair 0.00, Medium 0.00, Medium Dark 0.00, Dark 0.00, 57.8ms\n",
      "image 10/88 E:\\Clg Activities\\Projects\\Cosmetic shade recomender\\Data\\Validation\\Very Fair\\18379479.jpg: 224x224 Very Fair 1.00, Fair 0.00, Dark 0.00, Medium 0.00, Medium Dark 0.00, 41.9ms\n",
      "image 11/88 E:\\Clg Activities\\Projects\\Cosmetic shade recomender\\Data\\Validation\\Very Fair\\18_0_0_20170110232448997.jpg.chip.jpg: 224x224 Fair 0.97, Very Fair 0.03, Medium 0.00, Dark 0.00, Medium Dark 0.00, 34.9ms\n",
      "image 12/88 E:\\Clg Activities\\Projects\\Cosmetic shade recomender\\Data\\Validation\\Very Fair\\18_0_0_20170110232621309.jpg.chip.jpg: 224x224 Fair 0.95, Very Fair 0.05, Medium 0.00, Dark 0.00, Medium Dark 0.00, 51.9ms\n",
      "image 13/88 E:\\Clg Activities\\Projects\\Cosmetic shade recomender\\Data\\Validation\\Very Fair\\18_0_4_20170103201305015.jpg.chip.jpg: 224x224 Fair 0.50, Medium 0.39, Very Fair 0.08, Dark 0.01, Medium Dark 0.01, 39.9ms\n",
      "image 14/88 E:\\Clg Activities\\Projects\\Cosmetic shade recomender\\Data\\Validation\\Very Fair\\18_1_0_20170109213413212.jpg.chip.jpg: 224x224 Very Fair 1.00, Fair 0.00, Medium 0.00, Dark 0.00, Medium Dark 0.00, 51.9ms\n",
      "image 15/88 E:\\Clg Activities\\Projects\\Cosmetic shade recomender\\Data\\Validation\\Very Fair\\18_1_0_20170109213414723.jpg.chip.jpg: 224x224 Very Fair 1.00, Fair 0.00, Medium 0.00, Dark 0.00, Medium Dark 0.00, 47.9ms\n",
      "image 16/88 E:\\Clg Activities\\Projects\\Cosmetic shade recomender\\Data\\Validation\\Very Fair\\18_1_2_20170109213157620.jpg.chip.jpg: 224x224 Very Fair 1.00, Dark 0.00, Fair 0.00, Medium 0.00, Medium Dark 0.00, 60.8ms\n",
      "image 17/88 E:\\Clg Activities\\Projects\\Cosmetic shade recomender\\Data\\Validation\\Very Fair\\19_0_2_20170104020121132.jpg.chip.jpg: 224x224 Very Fair 0.65, Fair 0.34, Medium 0.01, Dark 0.00, Medium Dark 0.00, 91.8ms\n",
      "image 18/88 E:\\Clg Activities\\Projects\\Cosmetic shade recomender\\Data\\Validation\\Very Fair\\21_0_3_20170119150216454.jpg.chip.jpg: 224x224 Very Fair 0.77, Fair 0.22, Medium 0.01, Dark 0.00, Medium Dark 0.00, 198.5ms\n",
      "image 19/88 E:\\Clg Activities\\Projects\\Cosmetic shade recomender\\Data\\Validation\\Very Fair\\22_0_0_20170111181750310.jpg.chip.jpg: 224x224 Very Fair 0.99, Fair 0.01, Medium 0.00, Dark 0.00, Medium Dark 0.00, 40.9ms\n",
      "image 20/88 E:\\Clg Activities\\Projects\\Cosmetic shade recomender\\Data\\Validation\\Very Fair\\24_1_2_20170104021300885.jpg.chip.jpg: 224x224 Very Fair 0.94, Fair 0.06, Medium 0.00, Dark 0.00, Medium Dark 0.00, 26.9ms\n",
      "image 21/88 E:\\Clg Activities\\Projects\\Cosmetic shade recomender\\Data\\Validation\\Very Fair\\25569223.jpg: 224x224 Very Fair 0.99, Fair 0.01, Dark 0.00, Medium Dark 0.00, Medium 0.00, 27.9ms\n",
      "image 22/88 E:\\Clg Activities\\Projects\\Cosmetic shade recomender\\Data\\Validation\\Very Fair\\29_0_0_20170104201127146.jpg.chip.jpg: 224x224 Fair 0.98, Very Fair 0.02, Medium 0.00, Dark 0.00, Medium Dark 0.00, 27.9ms\n",
      "image 23/88 E:\\Clg Activities\\Projects\\Cosmetic shade recomender\\Data\\Validation\\Very Fair\\29_0_0_20170104202110730.jpg.chip.jpg: 224x224 Fair 0.95, Very Fair 0.05, Medium 0.00, Dark 0.00, Medium Dark 0.00, 35.9ms\n",
      "image 24/88 E:\\Clg Activities\\Projects\\Cosmetic shade recomender\\Data\\Validation\\Very Fair\\31_1_0_20170103183812243.jpg.chip.jpg: 224x224 Medium 0.95, Very Fair 0.04, Fair 0.01, Dark 0.00, Medium Dark 0.00, 62.8ms\n",
      "image 25/88 E:\\Clg Activities\\Projects\\Cosmetic shade recomender\\Data\\Validation\\Very Fair\\31_1_4_20170103230248753.jpg.chip.jpg: 224x224 Very Fair 0.99, Fair 0.01, Medium 0.00, Dark 0.00, Medium Dark 0.00, 67.8ms\n",
      "image 26/88 E:\\Clg Activities\\Projects\\Cosmetic shade recomender\\Data\\Validation\\Very Fair\\32_0_0_20170105171757165.jpg.chip.jpg: 224x224 Fair 0.94, Very Fair 0.06, Medium 0.00, Medium Dark 0.00, Dark 0.00, 70.8ms\n",
      "image 27/88 E:\\Clg Activities\\Projects\\Cosmetic shade recomender\\Data\\Validation\\Very Fair\\32_0_0_20170111181750357.jpg.chip.jpg: 224x224 Fair 0.90, Very Fair 0.10, Medium 0.00, Dark 0.00, Medium Dark 0.00, 42.9ms\n",
      "image 28/88 E:\\Clg Activities\\Projects\\Cosmetic shade recomender\\Data\\Validation\\Very Fair\\3465727.jpg: 224x224 Very Fair 1.00, Fair 0.00, Dark 0.00, Medium 0.00, Medium Dark 0.00, 43.9ms\n",
      "image 29/88 E:\\Clg Activities\\Projects\\Cosmetic shade recomender\\Data\\Validation\\Very Fair\\34_0_0_20170104201652065.jpg.chip.jpg: 224x224 Very Fair 0.74, Fair 0.25, Medium 0.00, Dark 0.00, Medium Dark 0.00, 45.9ms\n",
      "image 30/88 E:\\Clg Activities\\Projects\\Cosmetic shade recomender\\Data\\Validation\\Very Fair\\3525959.jpg: 224x224 Very Fair 0.95, Fair 0.05, Medium 0.00, Medium Dark 0.00, Dark 0.00, 38.9ms\n",
      "image 31/88 E:\\Clg Activities\\Projects\\Cosmetic shade recomender\\Data\\Validation\\Very Fair\\3616097.jpg: 224x224 Very Fair 0.90, Fair 0.10, Medium 0.00, Medium Dark 0.00, Dark 0.00, 42.9ms\n",
      "image 32/88 E:\\Clg Activities\\Projects\\Cosmetic shade recomender\\Data\\Validation\\Very Fair\\36479331.jpg: 224x224 Very Fair 1.00, Fair 0.00, Dark 0.00, Medium 0.00, Medium Dark 0.00, 62.8ms\n",
      "image 33/88 E:\\Clg Activities\\Projects\\Cosmetic shade recomender\\Data\\Validation\\Very Fair\\36617896.jpg: 224x224 Very Fair 1.00, Fair 0.00, Medium 0.00, Dark 0.00, Medium Dark 0.00, 71.8ms\n",
      "image 34/88 E:\\Clg Activities\\Projects\\Cosmetic shade recomender\\Data\\Validation\\Very Fair\\36_1_0_20170105164705002.jpg.chip.jpg: 224x224 Fair 0.43, Very Fair 0.31, Medium 0.26, Medium Dark 0.00, Dark 0.00, 80.8ms\n",
      "image 35/88 E:\\Clg Activities\\Projects\\Cosmetic shade recomender\\Data\\Validation\\Very Fair\\36_1_0_20170108224009217.jpg.chip.jpg: 224x224 Fair 0.87, Very Fair 0.13, Medium 0.01, Dark 0.00, Medium Dark 0.00, 77.8ms\n",
      "image 36/88 E:\\Clg Activities\\Projects\\Cosmetic shade recomender\\Data\\Validation\\Very Fair\\36_1_0_20170109003400403.jpg.chip.jpg: 224x224 Fair 0.83, Very Fair 0.17, Medium 0.00, Medium Dark 0.00, Dark 0.00, 30.9ms\n",
      "image 37/88 E:\\Clg Activities\\Projects\\Cosmetic shade recomender\\Data\\Validation\\Very Fair\\36_1_4_20170117203519312.jpg.chip.jpg: 224x224 Very Fair 0.99, Fair 0.01, Medium 0.00, Dark 0.00, Medium Dark 0.00, 30.9ms\n",
      "image 38/88 E:\\Clg Activities\\Projects\\Cosmetic shade recomender\\Data\\Validation\\Very Fair\\37044617.jpg: 224x224 Very Fair 1.00, Fair 0.00, Dark 0.00, Medium 0.00, Medium Dark 0.00, 27.9ms\n",
      "image 39/88 E:\\Clg Activities\\Projects\\Cosmetic shade recomender\\Data\\Validation\\Very Fair\\37312556.jpg: 224x224 Very Fair 1.00, Fair 0.00, Medium 0.00, Dark 0.00, Medium Dark 0.00, 55.9ms\n",
      "image 40/88 E:\\Clg Activities\\Projects\\Cosmetic shade recomender\\Data\\Validation\\Very Fair\\37829856.jpg: 224x224 Very Fair 1.00, Fair 0.00, Dark 0.00, Medium 0.00, Medium Dark 0.00, 74.8ms\n",
      "image 41/88 E:\\Clg Activities\\Projects\\Cosmetic shade recomender\\Data\\Validation\\Very Fair\\37861448.jpg: 224x224 Very Fair 1.00, Fair 0.00, Dark 0.00, Medium 0.00, Medium Dark 0.00, 69.8ms\n",
      "image 42/88 E:\\Clg Activities\\Projects\\Cosmetic shade recomender\\Data\\Validation\\Very Fair\\37_0_0_20170117114931801.jpg.chip.jpg: 224x224 Very Fair 0.64, Fair 0.35, Medium 0.00, Dark 0.00, Medium Dark 0.00, 46.9ms\n",
      "image 43/88 E:\\Clg Activities\\Projects\\Cosmetic shade recomender\\Data\\Validation\\Very Fair\\37_0_0_20170117120612576.jpg.chip.jpg: 224x224 Very Fair 0.64, Fair 0.35, Medium 0.02, Dark 0.00, Medium Dark 0.00, 32.9ms\n",
      "image 44/88 E:\\Clg Activities\\Projects\\Cosmetic shade recomender\\Data\\Validation\\Very Fair\\38144558.jpg: 224x224 Very Fair 1.00, Fair 0.00, Dark 0.00, Medium 0.00, Medium Dark 0.00, 45.9ms\n",
      "image 45/88 E:\\Clg Activities\\Projects\\Cosmetic shade recomender\\Data\\Validation\\Very Fair\\38163792.jpg: 224x224 Very Fair 0.98, Fair 0.02, Medium 0.00, Dark 0.00, Medium Dark 0.00, 78.8ms\n",
      "image 46/88 E:\\Clg Activities\\Projects\\Cosmetic shade recomender\\Data\\Validation\\Very Fair\\38471613.jpg: 224x224 Very Fair 1.00, Fair 0.00, Medium 0.00, Dark 0.00, Medium Dark 0.00, 36.9ms\n",
      "image 47/88 E:\\Clg Activities\\Projects\\Cosmetic shade recomender\\Data\\Validation\\Very Fair\\38810917.jpg: 224x224 Very Fair 1.00, Fair 0.00, Dark 0.00, Medium 0.00, Medium Dark 0.00, 39.9ms\n",
      "image 48/88 E:\\Clg Activities\\Projects\\Cosmetic shade recomender\\Data\\Validation\\Very Fair\\38_0_0_20170105171807556.jpg.chip.jpg: 224x224 Fair 0.99, Very Fair 0.01, Medium 0.00, Medium Dark 0.00, Dark 0.00, 63.8ms\n",
      "image 49/88 E:\\Clg Activities\\Projects\\Cosmetic shade recomender\\Data\\Validation\\Very Fair\\39012118.jpg: 224x224 Very Fair 1.00, Fair 0.00, Dark 0.00, Medium 0.00, Medium Dark 0.00, 92.7ms\n",
      "image 50/88 E:\\Clg Activities\\Projects\\Cosmetic shade recomender\\Data\\Validation\\Very Fair\\39066530.jpg: 224x224 Very Fair 1.00, Fair 0.00, Dark 0.00, Medium 0.00, Medium Dark 0.00, 89.8ms\n",
      "image 51/88 E:\\Clg Activities\\Projects\\Cosmetic shade recomender\\Data\\Validation\\Very Fair\\39217798.jpg: 224x224 Very Fair 0.96, Fair 0.04, Medium 0.00, Dark 0.00, Medium Dark 0.00, 33.9ms\n",
      "image 52/88 E:\\Clg Activities\\Projects\\Cosmetic shade recomender\\Data\\Validation\\Very Fair\\39321412.jpg: 224x224 Very Fair 1.00, Fair 0.00, Medium Dark 0.00, Dark 0.00, Medium 0.00, 39.9ms\n",
      "image 53/88 E:\\Clg Activities\\Projects\\Cosmetic shade recomender\\Data\\Validation\\Very Fair\\39383614.jpg: 224x224 Very Fair 1.00, Fair 0.00, Dark 0.00, Medium 0.00, Medium Dark 0.00, 143.6ms\n",
      "image 54/88 E:\\Clg Activities\\Projects\\Cosmetic shade recomender\\Data\\Validation\\Very Fair\\39725656.jpg: 224x224 Very Fair 0.99, Fair 0.01, Medium 0.00, Dark 0.00, Medium Dark 0.00, 29.9ms\n",
      "image 55/88 E:\\Clg Activities\\Projects\\Cosmetic shade recomender\\Data\\Validation\\Very Fair\\39727678.jpg: 224x224 Very Fair 0.99, Fair 0.01, Medium 0.00, Dark 0.00, Medium Dark 0.00, 31.9ms\n",
      "image 56/88 E:\\Clg Activities\\Projects\\Cosmetic shade recomender\\Data\\Validation\\Very Fair\\39_1_0_20170104002227438.jpg.chip.jpg: 224x224 Very Fair 0.83, Fair 0.17, Medium 0.00, Dark 0.00, Medium Dark 0.00, 51.9ms\n",
      "image 57/88 E:\\Clg Activities\\Projects\\Cosmetic shade recomender\\Data\\Validation\\Very Fair\\39_1_0_20170104205624580.jpg.chip.jpg: 224x224 Very Fair 1.00, Fair 0.00, Medium 0.00, Dark 0.00, Medium Dark 0.00, 71.8ms\n",
      "image 58/88 E:\\Clg Activities\\Projects\\Cosmetic shade recomender\\Data\\Validation\\Very Fair\\39_1_0_20170104235806251.jpg.chip.jpg: 224x224 Very Fair 0.99, Fair 0.01, Medium 0.00, Dark 0.00, Medium Dark 0.00, 59.8ms\n",
      "image 59/88 E:\\Clg Activities\\Projects\\Cosmetic shade recomender\\Data\\Validation\\Very Fair\\39_1_0_20170105003308781.jpg.chip.jpg: 224x224 Very Fair 0.87, Fair 0.13, Medium 0.00, Dark 0.00, Medium Dark 0.00, 37.9ms\n",
      "image 60/88 E:\\Clg Activities\\Projects\\Cosmetic shade recomender\\Data\\Validation\\Very Fair\\39_1_0_20170105164247586.jpg.chip.jpg: 224x224 Very Fair 0.66, Fair 0.34, Medium 0.00, Medium Dark 0.00, Dark 0.00, 35.9ms\n",
      "image 61/88 E:\\Clg Activities\\Projects\\Cosmetic shade recomender\\Data\\Validation\\Very Fair\\39_1_0_20170105172637013.jpg.chip.jpg: 224x224 Very Fair 0.75, Fair 0.25, Medium 0.00, Dark 0.00, Medium Dark 0.00, 45.9ms\n",
      "image 62/88 E:\\Clg Activities\\Projects\\Cosmetic shade recomender\\Data\\Validation\\Very Fair\\39_1_0_20170111182452865.jpg.chip.jpg: 224x224 Very Fair 0.75, Fair 0.25, Medium 0.00, Medium Dark 0.00, Dark 0.00, 39.9ms\n",
      "image 63/88 E:\\Clg Activities\\Projects\\Cosmetic shade recomender\\Data\\Validation\\Very Fair\\39_1_0_20170117154452143.jpg.chip.jpg: 224x224 Fair 0.61, Very Fair 0.35, Medium 0.03, Medium Dark 0.00, Dark 0.00, 39.9ms\n",
      "image 64/88 E:\\Clg Activities\\Projects\\Cosmetic shade recomender\\Data\\Validation\\Very Fair\\40035567.jpg: 224x224 Very Fair 1.00, Fair 0.00, Medium 0.00, Medium Dark 0.00, Dark 0.00, 44.9ms\n",
      "image 65/88 E:\\Clg Activities\\Projects\\Cosmetic shade recomender\\Data\\Validation\\Very Fair\\40221197.jpg: 224x224 Very Fair 1.00, Fair 0.00, Medium 0.00, Dark 0.00, Medium Dark 0.00, 67.8ms\n",
      "image 66/88 E:\\Clg Activities\\Projects\\Cosmetic shade recomender\\Data\\Validation\\Very Fair\\4070660.jpg: 224x224 Very Fair 1.00, Fair 0.00, Dark 0.00, Medium Dark 0.00, Medium 0.00, 74.8ms\n",
      "image 67/88 E:\\Clg Activities\\Projects\\Cosmetic shade recomender\\Data\\Validation\\Very Fair\\40_0_0_20170103182925914.jpg.chip.jpg: 224x224 Very Fair 1.00, Fair 0.00, Medium 0.00, Dark 0.00, Medium Dark 0.00, 131.7ms\n",
      "image 68/88 E:\\Clg Activities\\Projects\\Cosmetic shade recomender\\Data\\Validation\\Very Fair\\40_0_0_20170117134621935.jpg.chip.jpg: 224x224 Fair 0.92, Very Fair 0.07, Medium 0.02, Medium Dark 0.00, Dark 0.00, 36.9ms\n",
      "image 69/88 E:\\Clg Activities\\Projects\\Cosmetic shade recomender\\Data\\Validation\\Very Fair\\44_1_0_20170116222639625.jpg.chip.jpg: 224x224 Very Fair 0.96, Fair 0.04, Medium 0.00, Dark 0.00, Medium Dark 0.00, 27.9ms\n",
      "image 70/88 E:\\Clg Activities\\Projects\\Cosmetic shade recomender\\Data\\Validation\\Very Fair\\44_1_0_20170117190015938.jpg.chip.jpg: 224x224 Very Fair 0.77, Fair 0.23, Medium 0.00, Dark 0.00, Medium Dark 0.00, 33.9ms\n",
      "image 71/88 E:\\Clg Activities\\Projects\\Cosmetic shade recomender\\Data\\Validation\\Very Fair\\45_0_0_20170104210627331.jpg.chip.jpg: 224x224 Very Fair 1.00, Fair 0.00, Medium 0.00, Dark 0.00, Medium Dark 0.00, 26.9ms\n",
      "image 72/88 E:\\Clg Activities\\Projects\\Cosmetic shade recomender\\Data\\Validation\\Very Fair\\5126984.jpg: 224x224 Very Fair 0.99, Fair 0.01, Dark 0.00, Medium 0.00, Medium Dark 0.00, 35.9ms\n",
      "image 73/88 E:\\Clg Activities\\Projects\\Cosmetic shade recomender\\Data\\Validation\\Very Fair\\5212364.jpg: 224x224 Very Fair 0.94, Fair 0.06, Medium 0.00, Dark 0.00, Medium Dark 0.00, 24.9ms\n",
      "image 74/88 E:\\Clg Activities\\Projects\\Cosmetic shade recomender\\Data\\Validation\\Very Fair\\5590642.jpg: 224x224 Very Fair 0.99, Fair 0.01, Medium 0.00, Dark 0.00, Medium Dark 0.00, 101.7ms\n",
      "image 75/88 E:\\Clg Activities\\Projects\\Cosmetic shade recomender\\Data\\Validation\\Very Fair\\5893438.jpg: 224x224 Very Fair 1.00, Fair 0.00, Medium 0.00, Dark 0.00, Medium Dark 0.00, 71.8ms\n",
      "image 76/88 E:\\Clg Activities\\Projects\\Cosmetic shade recomender\\Data\\Validation\\Very Fair\\60988503.jpg: 224x224 Very Fair 1.00, Fair 0.00, Dark 0.00, Medium 0.00, Medium Dark 0.00, 47.9ms\n",
      "image 77/88 E:\\Clg Activities\\Projects\\Cosmetic shade recomender\\Data\\Validation\\Very Fair\\6563416.jpg: 224x224 Very Fair 1.00, Fair 0.00, Dark 0.00, Medium 0.00, Medium Dark 0.00, 32.9ms\n",
      "image 78/88 E:\\Clg Activities\\Projects\\Cosmetic shade recomender\\Data\\Validation\\Very Fair\\7139918.jpg: 224x224 Very Fair 0.98, Fair 0.02, Dark 0.00, Medium 0.00, Medium Dark 0.00, 50.9ms\n",
      "image 79/88 E:\\Clg Activities\\Projects\\Cosmetic shade recomender\\Data\\Validation\\Very Fair\\8634787.jpg: 224x224 Very Fair 1.00, Fair 0.00, Medium 0.00, Dark 0.00, Medium Dark 0.00, 41.9ms\n",
      "image 80/88 E:\\Clg Activities\\Projects\\Cosmetic shade recomender\\Data\\Validation\\Very Fair\\8716583.jpg: 224x224 Very Fair 0.77, Fair 0.23, Medium 0.00, Medium Dark 0.00, Dark 0.00, 47.9ms\n",
      "image 81/88 E:\\Clg Activities\\Projects\\Cosmetic shade recomender\\Data\\Validation\\Very Fair\\9145989.jpg: 224x224 Very Fair 0.88, Fair 0.12, Medium 0.00, Dark 0.00, Medium Dark 0.00, 61.8ms\n",
      "image 82/88 E:\\Clg Activities\\Projects\\Cosmetic shade recomender\\Data\\Validation\\Very Fair\\9166575.jpg: 224x224 Very Fair 0.95, Fair 0.05, Medium 0.00, Dark 0.00, Medium Dark 0.00, 65.8ms\n",
      "image 83/88 E:\\Clg Activities\\Projects\\Cosmetic shade recomender\\Data\\Validation\\Very Fair\\9393349.jpg: 224x224 Very Fair 1.00, Fair 0.00, Dark 0.00, Medium 0.00, Medium Dark 0.00, 77.8ms\n",
      "image 84/88 E:\\Clg Activities\\Projects\\Cosmetic shade recomender\\Data\\Validation\\Very Fair\\9438558.jpg: 224x224 Very Fair 1.00, Fair 0.00, Dark 0.00, Medium 0.00, Medium Dark 0.00, 80.8ms\n",
      "image 85/88 E:\\Clg Activities\\Projects\\Cosmetic shade recomender\\Data\\Validation\\Very Fair\\image_6854.jpg: 224x224 Very Fair 0.99, Fair 0.01, Dark 0.00, Medium Dark 0.00, Medium 0.00, 30.9ms\n",
      "image 86/88 E:\\Clg Activities\\Projects\\Cosmetic shade recomender\\Data\\Validation\\Very Fair\\image_6993.jpg: 224x224 Very Fair 1.00, Fair 0.00, Dark 0.00, Medium 0.00, Medium Dark 0.00, 28.9ms\n",
      "image 87/88 E:\\Clg Activities\\Projects\\Cosmetic shade recomender\\Data\\Validation\\Very Fair\\image_7228.jpg: 224x224 Very Fair 1.00, Fair 0.00, Dark 0.00, Medium 0.00, Medium Dark 0.00, 47.9ms\n",
      "image 88/88 E:\\Clg Activities\\Projects\\Cosmetic shade recomender\\Data\\Validation\\Very Fair\\image_8029.jpg: 224x224 Very Fair 0.99, Fair 0.01, Dark 0.00, Medium 0.00, Medium Dark 0.00, 25.9ms\n",
      "Speed: 8.4ms preprocess, 54.4ms inference, 0.0ms postprocess per image at shape (1, 3, 224, 224)\n",
      "[0, 0, 0, 0, 0, 0, 0, 0, 0, 0, 0, 0, 0, 0, 0, 0, 0, 0, 0, 0, 0, 0, 0, 0, 0, 0, 0, 0, 0, 0, 0, 0, 0, 0, 0, 0, 0, 0, 1, 1, 1, 1, 1, 1, 1, 1, 1, 1, 1, 1, 1, 1, 1, 1, 1, 1, 1, 1, 1, 1, 1, 1, 1, 1, 1, 1, 1, 1, 1, 1, 1, 1, 1, 1, 1, 1, 1, 1, 1, 1, 1, 1, 1, 1, 1, 1, 1, 1, 1, 1, 1, 1, 1, 1, 1, 1, 1, 2, 2, 2, 2, 2, 2, 2, 2, 2, 2, 2, 2, 2, 2, 2, 2, 2, 2, 2, 2, 2, 2, 2, 2, 2, 2, 2, 2, 2, 2, 2, 2, 2, 2, 2, 2, 2, 2, 2, 2, 2, 2, 2, 2, 2, 2, 2, 2, 2, 2, 2, 2, 2, 2, 2, 2, 2, 2, 2, 2, 2, 2, 2, 2, 2, 3, 3, 3, 3, 3, 3, 3, 3, 3, 3, 3, 3, 3, 3, 3, 3, 3, 3, 3, 3, 3, 3, 3, 3, 3, 3, 3, 3, 3, 3, 3, 3, 3, 3, 3, 3, 3, 3, 3, 3, 3, 3, 3, 3, 3, 3, 3, 3, 3, 3, 3, 3, 3, 3, 3, 3, 3, 3, 3, 3, 3, 3, 3, 3, 4, 4, 4, 4, 4, 4, 4, 4, 4, 4, 4, 4, 4, 4, 4, 4, 4, 4, 4, 4, 4, 4, 4, 4, 4, 4, 4, 4, 4, 4, 4, 4, 4, 4, 4, 4, 4, 4, 4, 4, 4, 4, 4, 4, 4, 4, 4, 4, 4, 4, 4, 4, 4, 4, 4, 4, 4, 4, 4, 4, 4, 4, 4, 4, 4, 4, 4, 4, 4, 4, 4, 4, 4, 4, 4, 4, 4, 4, 4, 4, 4, 4, 4, 4, 4, 4, 4, 4]\n",
      "[0, 0, 0, 0, 0, 0, 0, 0, 0, 0, 0, 0, 0, 0, 0, 0, 0, 0, 0, 0, 0, 0, 0, 0, 0, 0, 0, 0, 0, 0, 0, 0, 0, 0, 0, 0, 0, 0, 1, 1, 1, 1, 1, 1, 1, 2, 2, 1, 4, 1, 2, 2, 1, 1, 1, 1, 1, 1, 1, 1, 1, 1, 1, 1, 1, 1, 1, 1, 1, 2, 1, 4, 1, 4, 1, 4, 4, 4, 1, 1, 1, 1, 1, 2, 1, 4, 1, 2, 1, 1, 1, 1, 1, 1, 1, 1, 2, 2, 2, 3, 2, 2, 2, 2, 2, 2, 2, 2, 2, 1, 2, 2, 2, 1, 2, 2, 2, 2, 2, 2, 2, 2, 2, 2, 2, 2, 2, 2, 2, 2, 2, 2, 2, 2, 2, 2, 2, 2, 2, 2, 2, 2, 2, 2, 2, 2, 2, 2, 2, 2, 2, 2, 2, 2, 2, 2, 2, 2, 2, 3, 2, 2, 3, 3, 2, 2, 0, 3, 0, 3, 2, 2, 3, 2, 2, 2, 3, 2, 0, 3, 2, 2, 2, 3, 0, 3, 3, 3, 3, 3, 3, 3, 2, 3, 2, 3, 3, 3, 3, 3, 3, 3, 3, 3, 3, 3, 3, 3, 3, 3, 3, 3, 3, 3, 3, 3, 3, 3, 3, 3, 3, 3, 2, 3, 3, 3, 4, 4, 4, 4, 4, 4, 4, 4, 4, 4, 1, 1, 1, 4, 4, 4, 4, 4, 4, 4, 4, 1, 1, 2, 4, 1, 1, 4, 4, 4, 4, 4, 4, 1, 1, 1, 4, 4, 4, 4, 4, 4, 4, 4, 4, 4, 4, 1, 4, 4, 4, 4, 4, 4, 4, 4, 4, 4, 4, 4, 4, 4, 1, 4, 4, 4, 4, 1, 4, 4, 4, 4, 4, 4, 4, 4, 4, 4, 4, 4, 4, 4, 4, 4, 4, 4, 4, 4]\n"
     ]
    }
   ],
   "source": [
    "true_labels = []\n",
    "predicted_labels = []\n",
    "\n",
    "# Run inference on each class and collect true and predicted labels\n",
    "    \n",
    "# Class 1: Dark\n",
    "results = trained_model.predict(source='E:\\Clg Activities\\Projects\\Cosmetic shade recomender\\Data\\Validation\\Dark')\n",
    "for result in results:\n",
    "    predicted_class = result.probs.top1  # Get the predicted class index\n",
    "    true_labels.append(0)  # Badminton corresponds to label 0\n",
    "    predicted_labels.append(predicted_class)\n",
    "\n",
    "# Class 2: Fair\n",
    "results1 = trained_model.predict(source='E:\\Clg Activities\\Projects\\Cosmetic shade recomender\\Data\\Validation\\Fair')\n",
    "for result in results1:\n",
    "    predicted_class = result.probs.top1  # Get the predicted class index\n",
    "    true_labels.append(1)  # Cricket corresponds to label 1\n",
    "    predicted_labels.append(predicted_class)\n",
    "\n",
    "# Class 3: Medium\n",
    "results2 = trained_model.predict(source='E:\\Clg Activities\\Projects\\Cosmetic shade recomender\\Data\\Validation\\Medium')\n",
    "for result in results2:\n",
    "    predicted_class = result.probs.top1  # Get the predicted class index\n",
    "    true_labels.append(2)  # Football corresponds to label 2\n",
    "    predicted_labels.append(predicted_class)\n",
    "\n",
    "# Class 4: Medium dark\n",
    "results2 = trained_model.predict(source='E:\\Clg Activities\\Projects\\Cosmetic shade recomender\\Data\\Validation\\Medium Dark')\n",
    "for result in results2:\n",
    "    predicted_class = result.probs.top1  # Get the predicted class index\n",
    "    true_labels.append(3)  # Football corresponds to label 2\n",
    "    predicted_labels.append(predicted_class)\n",
    "\n",
    "# Class 5: MVery fair\n",
    "results2 = trained_model.predict(source='E:\\Clg Activities\\Projects\\Cosmetic shade recomender\\Data\\Validation\\Very Fair')\n",
    "for result in results2:\n",
    "    predicted_class = result.probs.top1  # Get the predicted class index\n",
    "    true_labels.append(4)  # Football corresponds to label 2\n",
    "    predicted_labels.append(predicted_class)\n",
    "    \n",
    "# Now you have true_labels and predicted_labels lists\n",
    "print(true_labels)\n",
    "print(predicted_labels)"
   ]
  },
  {
   "cell_type": "code",
   "execution_count": 8,
   "metadata": {},
   "outputs": [
    {
     "name": "stdout",
     "output_type": "stream",
     "text": [
      "[[38  0  0  0  0]\n",
      " [ 0 44  8  0  7]\n",
      " [ 0  2 61  2  0]\n",
      " [ 4  0 14 46  0]\n",
      " [ 0 13  1  0 74]]\n"
     ]
    },
    {
     "data": {
      "text/plain": [
       "<Figure size 800x600 with 2 Axes>"
      ]
     },
     "metadata": {},
     "output_type": "display_data"
    }
   ],
   "source": [
    "# Define class names\n",
    "class_names = [\"Dark\", \"Fair\", \"Medium\",\"Medium Dark\",\"Very Fair\"]\n",
    "\n",
    "# Compute the confusion matrix\n",
    "conf_matrix = confusion_matrix(true_labels, predicted_labels)\n",
    "print(conf_matrix)\n",
    "# Plot the confusion matrix\n",
    "plt.figure(figsize=(8, 6))\n",
    "sns.heatmap(conf_matrix, annot=True, fmt='d', cmap='Reds', xticklabels=class_names, yticklabels=class_names)\n",
    "plt.xlabel(\"Predicted\")\n",
    "plt.ylabel(\"Actual\")\n",
    "plt.title(\"Confusion Matrix\")\n",
    "plt.show()"
   ]
  },
  {
   "cell_type": "code",
   "execution_count": 9,
   "metadata": {},
   "outputs": [
    {
     "name": "stdout",
     "output_type": "stream",
     "text": [
      "Classification Report:\n",
      "              precision    recall  f1-score   support\n",
      "\n",
      "        Dark       0.90      1.00      0.95        38\n",
      "        Fair       0.75      0.75      0.75        59\n",
      "      Medium       0.73      0.94      0.82        65\n",
      " Medium Dark       0.96      0.72      0.82        64\n",
      "   Very Fair       0.91      0.84      0.88        88\n",
      "\n",
      "    accuracy                           0.84       314\n",
      "   macro avg       0.85      0.85      0.84       314\n",
      "weighted avg       0.85      0.84      0.84       314\n",
      "\n"
     ]
    }
   ],
   "source": [
    "from sklearn.metrics import classification_report\n",
    "import numpy as np\n",
    "\n",
    "# Given confusion matrix\n",
    "conf_matrix = np.array([\n",
    "    [38, 0, 0, 0, 0],\n",
    "    [0, 44, 8, 0, 7],\n",
    "    [0, 2, 61, 2, 0],\n",
    "    [4, 0, 14, 46, 0],\n",
    "    [0, 13, 1, 0, 74]\n",
    "])\n",
    "\n",
    "# Generate true labels and predicted labels\n",
    "true_labels = []\n",
    "pred_labels = []\n",
    "for actual_class in range(conf_matrix.shape[0]):\n",
    "    for predicted_class in range(conf_matrix.shape[1]):\n",
    "        count = conf_matrix[actual_class, predicted_class]\n",
    "        true_labels.extend([actual_class] * count)\n",
    "        pred_labels.extend([predicted_class] * count)\n",
    "\n",
    "# Class names (optional, replace with your class names if needed)\n",
    "class_names = [\"Dark\", \"Fair\", \"Medium\", \"Medium Dark\", \"Very Fair\"]\n",
    "\n",
    "# Generate classification report\n",
    "report = classification_report(true_labels, pred_labels, target_names=class_names)\n",
    "\n",
    "print(\"Classification Report:\")\n",
    "print(report)\n"
   ]
  },
  {
   "cell_type": "code",
   "execution_count": null,
   "metadata": {},
   "outputs": [],
   "source": []
  }
 ],
 "metadata": {
  "kernelspec": {
   "display_name": "Python 3 (ipykernel)",
   "language": "python",
   "name": "python3"
  },
  "language_info": {
   "codemirror_mode": {
    "name": "ipython",
    "version": 3
   },
   "file_extension": ".py",
   "mimetype": "text/x-python",
   "name": "python",
   "nbconvert_exporter": "python",
   "pygments_lexer": "ipython3",
   "version": "3.12.7"
  }
 },
 "nbformat": 4,
 "nbformat_minor": 4
}
